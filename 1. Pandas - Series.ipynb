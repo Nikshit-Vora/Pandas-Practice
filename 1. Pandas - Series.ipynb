{
 "cells": [
  {
   "cell_type": "code",
   "execution_count": 1,
   "id": "103c520e",
   "metadata": {},
   "outputs": [],
   "source": [
    "import pandas as pd"
   ]
  },
  {
   "cell_type": "markdown",
   "id": "8802268d",
   "metadata": {},
   "source": [
    "# Creating Series"
   ]
  },
  {
   "cell_type": "markdown",
   "id": "fe04a362",
   "metadata": {},
   "source": [
    "### Series from List"
   ]
  },
  {
   "cell_type": "code",
   "execution_count": 2,
   "id": "ef5bb978",
   "metadata": {},
   "outputs": [
    {
     "data": {
      "text/plain": [
       "0       India\n",
       "1    Pakistan\n",
       "2       Nepal\n",
       "3      Bhutan\n",
       "dtype: object"
      ]
     },
     "execution_count": 2,
     "metadata": {},
     "output_type": "execute_result"
    }
   ],
   "source": [
    "country = ['India','Pakistan','Nepal','Bhutan']\n",
    "pd.Series(country)"
   ]
  },
  {
   "cell_type": "code",
   "execution_count": 3,
   "id": "b47ab656",
   "metadata": {},
   "outputs": [
    {
     "data": {
      "text/plain": [
       "delhi           India\n",
       "karanchi     Pakistan\n",
       "kathmandu       Nepal\n",
       "upasu          Bhutan\n",
       "dtype: object"
      ]
     },
     "execution_count": 3,
     "metadata": {},
     "output_type": "execute_result"
    }
   ],
   "source": [
    "# custom index in Series using List\n",
    "capitals = ['delhi','karanchi','kathmandu','upasu']\n",
    "pd.Series(country,index=capitals)"
   ]
  },
  {
   "cell_type": "code",
   "execution_count": 4,
   "id": "63691e1d",
   "metadata": {},
   "outputs": [
    {
     "data": {
      "text/plain": [
       "delhi           India\n",
       "karanchi     Pakistan\n",
       "kathmandu       Nepal\n",
       "upasu          Bhutan\n",
       "Name: country and capitals, dtype: object"
      ]
     },
     "execution_count": 4,
     "metadata": {},
     "output_type": "execute_result"
    }
   ],
   "source": [
    "# setting name\n",
    "pd.Series(country,index=capitals,name='country and capitals')"
   ]
  },
  {
   "cell_type": "code",
   "execution_count": 5,
   "id": "4ffb3d16",
   "metadata": {},
   "outputs": [
    {
     "data": {
      "text/plain": [
       "0      4\n",
       "1     78\n",
       "2     34\n",
       "3     90\n",
       "4    189\n",
       "dtype: int64"
      ]
     },
     "execution_count": 5,
     "metadata": {},
     "output_type": "execute_result"
    }
   ],
   "source": [
    "runs = [4,78,34,90,189]\n",
    "pd.Series(runs)"
   ]
  },
  {
   "cell_type": "code",
   "execution_count": 6,
   "id": "5e62d1ea",
   "metadata": {},
   "outputs": [
    {
     "data": {
      "text/plain": [
       "VK      4\n",
       "AB     78\n",
       "MS     34\n",
       "DK     90\n",
       "SD    189\n",
       "dtype: int64"
      ]
     },
     "execution_count": 6,
     "metadata": {},
     "output_type": "execute_result"
    }
   ],
   "source": [
    "# custom index \n",
    "batsman = ['VK','AB','MS','DK','SD']\n",
    "pd.Series(runs,index=batsman)"
   ]
  },
  {
   "cell_type": "code",
   "execution_count": 7,
   "id": "c0d97d8a",
   "metadata": {},
   "outputs": [
    {
     "data": {
      "text/plain": [
       "VK      4\n",
       "AB     78\n",
       "MS     34\n",
       "DK     90\n",
       "SD    189\n",
       "Name: run by batsman, dtype: int64"
      ]
     },
     "execution_count": 7,
     "metadata": {},
     "output_type": "execute_result"
    }
   ],
   "source": [
    "# setting name\n",
    "b_runs = pd.Series(runs,index=batsman,name='run by batsman')\n",
    "b_runs"
   ]
  },
  {
   "cell_type": "code",
   "execution_count": null,
   "id": "e7f889e9",
   "metadata": {},
   "outputs": [],
   "source": []
  },
  {
   "cell_type": "markdown",
   "id": "48388b2e",
   "metadata": {},
   "source": [
    "### Series from Dictionary"
   ]
  },
  {
   "cell_type": "code",
   "execution_count": 8,
   "id": "fb27d40f",
   "metadata": {},
   "outputs": [
    {
     "data": {
      "text/plain": [
       "English    77\n",
       "Maths      99\n",
       "Gujrati    89\n",
       "Name: my marks, dtype: int64"
      ]
     },
     "execution_count": 8,
     "metadata": {},
     "output_type": "execute_result"
    }
   ],
   "source": [
    "marks = {'English':77,'Maths':99,\"Gujrati\":89}\n",
    "pd.Series(marks,name='my marks')"
   ]
  },
  {
   "cell_type": "code",
   "execution_count": 9,
   "id": "43450832",
   "metadata": {},
   "outputs": [
    {
     "data": {
      "text/plain": [
       "x    5\n",
       "y    5\n",
       "z    5\n",
       "dtype: int64"
      ]
     },
     "execution_count": 9,
     "metadata": {},
     "output_type": "execute_result"
    }
   ],
   "source": [
    "# Series from scaler values\n",
    "s = pd.Series(5,index=['x','y','z'])\n",
    "s"
   ]
  },
  {
   "cell_type": "code",
   "execution_count": null,
   "id": "c46ae234",
   "metadata": {},
   "outputs": [],
   "source": []
  },
  {
   "cell_type": "markdown",
   "id": "28bf6c84",
   "metadata": {},
   "source": [
    "# Series Attributes"
   ]
  },
  {
   "cell_type": "markdown",
   "id": "e0eee982",
   "metadata": {},
   "source": [
    "1. series.size : return no. of items\n",
    "2. dtype : return data type\n",
    "3. name : return series name\n",
    "4. index : return index\n",
    "5. values : return values\n",
    "6. is_unique : return True is contains unique values\n",
    "7. shape : return shape of series"
   ]
  },
  {
   "cell_type": "code",
   "execution_count": 10,
   "id": "8e03b34d",
   "metadata": {},
   "outputs": [
    {
     "data": {
      "text/plain": [
       "VK      4\n",
       "AB     78\n",
       "MS     34\n",
       "DK     90\n",
       "SD    189\n",
       "Name: run by batsman, dtype: int64"
      ]
     },
     "execution_count": 10,
     "metadata": {},
     "output_type": "execute_result"
    }
   ],
   "source": [
    "b_runs"
   ]
  },
  {
   "cell_type": "code",
   "execution_count": 11,
   "id": "0d94033b",
   "metadata": {},
   "outputs": [
    {
     "data": {
      "text/plain": [
       "5"
      ]
     },
     "execution_count": 11,
     "metadata": {},
     "output_type": "execute_result"
    }
   ],
   "source": [
    "# size\n",
    "b_runs.size"
   ]
  },
  {
   "cell_type": "code",
   "execution_count": 12,
   "id": "63085222",
   "metadata": {},
   "outputs": [
    {
     "data": {
      "text/plain": [
       "dtype('int64')"
      ]
     },
     "execution_count": 12,
     "metadata": {},
     "output_type": "execute_result"
    }
   ],
   "source": [
    "# dtype\n",
    "b_runs.dtype"
   ]
  },
  {
   "cell_type": "code",
   "execution_count": 13,
   "id": "167e8954",
   "metadata": {},
   "outputs": [
    {
     "data": {
      "text/plain": [
       "'run by batsman'"
      ]
     },
     "execution_count": 13,
     "metadata": {},
     "output_type": "execute_result"
    }
   ],
   "source": [
    "# name\n",
    "b_runs.name"
   ]
  },
  {
   "cell_type": "code",
   "execution_count": 14,
   "id": "75d9887c",
   "metadata": {},
   "outputs": [
    {
     "data": {
      "text/plain": [
       "Index(['VK', 'AB', 'MS', 'DK', 'SD'], dtype='object')"
      ]
     },
     "execution_count": 14,
     "metadata": {},
     "output_type": "execute_result"
    }
   ],
   "source": [
    "# index\n",
    "b_runs.index"
   ]
  },
  {
   "cell_type": "code",
   "execution_count": 15,
   "id": "e123b4a8",
   "metadata": {},
   "outputs": [
    {
     "data": {
      "text/plain": [
       "array([  4,  78,  34,  90, 189])"
      ]
     },
     "execution_count": 15,
     "metadata": {},
     "output_type": "execute_result"
    }
   ],
   "source": [
    "# values\n",
    "b_runs.values"
   ]
  },
  {
   "cell_type": "code",
   "execution_count": 16,
   "id": "d3c414ad",
   "metadata": {},
   "outputs": [
    {
     "data": {
      "text/plain": [
       "True"
      ]
     },
     "execution_count": 16,
     "metadata": {},
     "output_type": "execute_result"
    }
   ],
   "source": [
    "# is_unique\n",
    "b_runs.is_unique"
   ]
  },
  {
   "cell_type": "code",
   "execution_count": 17,
   "id": "5c8a45b5",
   "metadata": {},
   "outputs": [
    {
     "data": {
      "text/plain": [
       "(5,)"
      ]
     },
     "execution_count": 17,
     "metadata": {},
     "output_type": "execute_result"
    }
   ],
   "source": [
    "# shape\n",
    "b_runs.shape"
   ]
  },
  {
   "cell_type": "code",
   "execution_count": null,
   "id": "53be467e",
   "metadata": {},
   "outputs": [],
   "source": []
  },
  {
   "cell_type": "markdown",
   "id": "cfe486d3",
   "metadata": {},
   "source": [
    "# Series using read_csv"
   ]
  },
  {
   "cell_type": "code",
   "execution_count": 18,
   "id": "a3bc79e6",
   "metadata": {},
   "outputs": [
    {
     "data": {
      "text/html": [
       "<div>\n",
       "<style scoped>\n",
       "    .dataframe tbody tr th:only-of-type {\n",
       "        vertical-align: middle;\n",
       "    }\n",
       "\n",
       "    .dataframe tbody tr th {\n",
       "        vertical-align: top;\n",
       "    }\n",
       "\n",
       "    .dataframe thead th {\n",
       "        text-align: right;\n",
       "    }\n",
       "</style>\n",
       "<table border=\"1\" class=\"dataframe\">\n",
       "  <thead>\n",
       "    <tr style=\"text-align: right;\">\n",
       "      <th></th>\n",
       "      <th>Subscribers gained</th>\n",
       "    </tr>\n",
       "  </thead>\n",
       "  <tbody>\n",
       "    <tr>\n",
       "      <th>0</th>\n",
       "      <td>48</td>\n",
       "    </tr>\n",
       "    <tr>\n",
       "      <th>1</th>\n",
       "      <td>57</td>\n",
       "    </tr>\n",
       "    <tr>\n",
       "      <th>2</th>\n",
       "      <td>40</td>\n",
       "    </tr>\n",
       "    <tr>\n",
       "      <th>3</th>\n",
       "      <td>43</td>\n",
       "    </tr>\n",
       "    <tr>\n",
       "      <th>4</th>\n",
       "      <td>44</td>\n",
       "    </tr>\n",
       "    <tr>\n",
       "      <th>...</th>\n",
       "      <td>...</td>\n",
       "    </tr>\n",
       "    <tr>\n",
       "      <th>360</th>\n",
       "      <td>231</td>\n",
       "    </tr>\n",
       "    <tr>\n",
       "      <th>361</th>\n",
       "      <td>226</td>\n",
       "    </tr>\n",
       "    <tr>\n",
       "      <th>362</th>\n",
       "      <td>155</td>\n",
       "    </tr>\n",
       "    <tr>\n",
       "      <th>363</th>\n",
       "      <td>144</td>\n",
       "    </tr>\n",
       "    <tr>\n",
       "      <th>364</th>\n",
       "      <td>172</td>\n",
       "    </tr>\n",
       "  </tbody>\n",
       "</table>\n",
       "<p>365 rows × 1 columns</p>\n",
       "</div>"
      ],
      "text/plain": [
       "     Subscribers gained\n",
       "0                    48\n",
       "1                    57\n",
       "2                    40\n",
       "3                    43\n",
       "4                    44\n",
       "..                  ...\n",
       "360                 231\n",
       "361                 226\n",
       "362                 155\n",
       "363                 144\n",
       "364                 172\n",
       "\n",
       "[365 rows x 1 columns]"
      ]
     },
     "execution_count": 18,
     "metadata": {},
     "output_type": "execute_result"
    }
   ],
   "source": [
    "# reading file using pd.read_csv(file_path)\n",
    "a = pd.read_csv('Series Dataset/subs.csv')\n",
    "a"
   ]
  },
  {
   "cell_type": "code",
   "execution_count": 19,
   "id": "1335c8d8",
   "metadata": {},
   "outputs": [
    {
     "data": {
      "text/plain": [
       "pandas.core.frame.DataFrame"
      ]
     },
     "execution_count": 19,
     "metadata": {},
     "output_type": "execute_result"
    }
   ],
   "source": [
    "# this is DataFrame type which is by default\n",
    "type(a)"
   ]
  },
  {
   "cell_type": "code",
   "execution_count": 20,
   "id": "9484b2a3",
   "metadata": {},
   "outputs": [
    {
     "data": {
      "text/plain": [
       "0       48\n",
       "1       57\n",
       "2       40\n",
       "3       43\n",
       "4       44\n",
       "      ... \n",
       "360    231\n",
       "361    226\n",
       "362    155\n",
       "363    144\n",
       "364    172\n",
       "Name: Subscribers gained, Length: 365, dtype: int64"
      ]
     },
     "execution_count": 20,
     "metadata": {},
     "output_type": "execute_result"
    }
   ],
   "source": [
    "# squeeze()  --> to convert it into series\n",
    "sub = pd.read_csv('Series Dataset/subs.csv').squeeze()\n",
    "sub"
   ]
  },
  {
   "cell_type": "code",
   "execution_count": null,
   "id": "5b031c6e",
   "metadata": {},
   "outputs": [],
   "source": []
  },
  {
   "cell_type": "code",
   "execution_count": 21,
   "id": "dabbec20",
   "metadata": {},
   "outputs": [
    {
     "data": {
      "text/plain": [
       "match_no\n",
       "1       1\n",
       "2      23\n",
       "3      13\n",
       "4      12\n",
       "5       1\n",
       "       ..\n",
       "211     0\n",
       "212    20\n",
       "213    73\n",
       "214    25\n",
       "215     7\n",
       "Name: runs, Length: 215, dtype: int64"
      ]
     },
     "execution_count": 21,
     "metadata": {},
     "output_type": "execute_result"
    }
   ],
   "source": [
    "# reading file with two columns, \n",
    "# index_col --> to make one column as index\n",
    "# squeeze()\n",
    "vk = pd.read_csv('Series Dataset/kohli_ipl.csv', index_col ='match_no').squeeze()\n",
    "vk"
   ]
  },
  {
   "cell_type": "code",
   "execution_count": 22,
   "id": "efac57d5",
   "metadata": {},
   "outputs": [
    {
     "data": {
      "text/plain": [
       "movie\n",
       "Uri: The Surgical Strike                   Vicky Kaushal\n",
       "Battalion 609                                Vicky Ahuja\n",
       "The Accidental Prime Minister (film)         Anupam Kher\n",
       "Why Cheat India                            Emraan Hashmi\n",
       "Evening Shadows                         Mona Ambegaonkar\n",
       "                                              ...       \n",
       "Hum Tumhare Hain Sanam                    Shah Rukh Khan\n",
       "Aankhen (2002 film)                     Amitabh Bachchan\n",
       "Saathiya (film)                             Vivek Oberoi\n",
       "Company (film)                                Ajay Devgn\n",
       "Awara Paagal Deewana                        Akshay Kumar\n",
       "Name: lead, Length: 1500, dtype: object"
      ]
     },
     "execution_count": 22,
     "metadata": {},
     "output_type": "execute_result"
    }
   ],
   "source": [
    "movies = pd.read_csv('Series Dataset/bollywood.csv',index_col='movie').squeeze()\n",
    "movies"
   ]
  },
  {
   "cell_type": "code",
   "execution_count": null,
   "id": "04c2f9b1",
   "metadata": {},
   "outputs": [],
   "source": []
  },
  {
   "cell_type": "markdown",
   "id": "1d7f6052",
   "metadata": {},
   "source": [
    "# Series Methods"
   ]
  },
  {
   "cell_type": "markdown",
   "id": "2564509e",
   "metadata": {},
   "source": [
    "1. .head(n) --> n: no. of rows from top - default - 5\n",
    "2. .tail(n) --> n: no. of rows from bottom - default - 5\n",
    "3. .sample(n) --> n: no. of random records from table. default - 1\n",
    "4. .value_counts()  --> no. of counts for each items\n",
    "5. .sort_values(ascending=True/False, inplace=True/False) - sorting\n",
    "6. .sort_index() - index wise sorting"
   ]
  },
  {
   "cell_type": "code",
   "execution_count": 23,
   "id": "b5553f4b",
   "metadata": {},
   "outputs": [
    {
     "data": {
      "text/plain": [
       "0    48\n",
       "1    57\n",
       "2    40\n",
       "3    43\n",
       "4    44\n",
       "Name: Subscribers gained, dtype: int64"
      ]
     },
     "execution_count": 23,
     "metadata": {},
     "output_type": "execute_result"
    }
   ],
   "source": [
    "# TOP rows : default is 5\n",
    "sub.head()"
   ]
  },
  {
   "cell_type": "code",
   "execution_count": 24,
   "id": "5f4e9399",
   "metadata": {},
   "outputs": [
    {
     "data": {
      "text/plain": [
       "match_no\n",
       "1     1\n",
       "2    23\n",
       "3    13\n",
       "Name: runs, dtype: int64"
      ]
     },
     "execution_count": 24,
     "metadata": {},
     "output_type": "execute_result"
    }
   ],
   "source": [
    "vk.head(3)"
   ]
  },
  {
   "cell_type": "code",
   "execution_count": 25,
   "id": "7312eed2",
   "metadata": {},
   "outputs": [
    {
     "data": {
      "text/plain": [
       "360    231\n",
       "361    226\n",
       "362    155\n",
       "363    144\n",
       "364    172\n",
       "Name: Subscribers gained, dtype: int64"
      ]
     },
     "execution_count": 25,
     "metadata": {},
     "output_type": "execute_result"
    }
   ],
   "source": [
    "# Tail : last n rows\n",
    "sub.tail()"
   ]
  },
  {
   "cell_type": "code",
   "execution_count": 26,
   "id": "9fb56cef",
   "metadata": {},
   "outputs": [
    {
     "data": {
      "text/plain": [
       "match_no\n",
       "206     0\n",
       "207     0\n",
       "208     9\n",
       "209    58\n",
       "210    30\n",
       "211     0\n",
       "212    20\n",
       "213    73\n",
       "214    25\n",
       "215     7\n",
       "Name: runs, dtype: int64"
      ]
     },
     "execution_count": 26,
     "metadata": {},
     "output_type": "execute_result"
    }
   ],
   "source": [
    "vk.tail(10)"
   ]
  },
  {
   "cell_type": "code",
   "execution_count": 27,
   "id": "36c477f1",
   "metadata": {},
   "outputs": [
    {
     "data": {
      "text/plain": [
       "movie\n",
       "Kabhi Alvida Naa Kehna    Amitabh Bachchan\n",
       "Name: lead, dtype: object"
      ]
     },
     "execution_count": 27,
     "metadata": {},
     "output_type": "execute_result"
    }
   ],
   "source": [
    "# sample() : random select n rows  \n",
    "movies.sample()"
   ]
  },
  {
   "cell_type": "code",
   "execution_count": 28,
   "id": "1c26e6c8",
   "metadata": {},
   "outputs": [
    {
     "data": {
      "text/plain": [
       "match_no\n",
       "207      0\n",
       "159     23\n",
       "164    100\n",
       "119     80\n",
       "190     12\n",
       "Name: runs, dtype: int64"
      ]
     },
     "execution_count": 28,
     "metadata": {},
     "output_type": "execute_result"
    }
   ],
   "source": [
    "vk.sample(5)"
   ]
  },
  {
   "cell_type": "code",
   "execution_count": 29,
   "id": "db33d9f1",
   "metadata": {},
   "outputs": [
    {
     "data": {
      "text/plain": [
       "lead\n",
       "Akshay Kumar          48\n",
       "Amitabh Bachchan      45\n",
       "Ajay Devgn            38\n",
       "Salman Khan           31\n",
       "Sanjay Dutt           26\n",
       "                      ..\n",
       "Talha Arshad Reshi     1\n",
       "Garima Agarwal         1\n",
       "Rasika Agashe          1\n",
       "Zaheer Iqbal           1\n",
       "Deepika Amin           1\n",
       "Name: count, Length: 566, dtype: int64"
      ]
     },
     "execution_count": 29,
     "metadata": {},
     "output_type": "execute_result"
    }
   ],
   "source": [
    "# value_counts\n",
    "movies.value_counts()"
   ]
  },
  {
   "cell_type": "code",
   "execution_count": 30,
   "id": "b3e6f5a3",
   "metadata": {},
   "outputs": [
    {
     "data": {
      "text/plain": [
       "match_no\n",
       "8        0\n",
       "87       0\n",
       "93       0\n",
       "91       0\n",
       "206      0\n",
       "      ... \n",
       "164    100\n",
       "120    100\n",
       "123    108\n",
       "126    109\n",
       "128    113\n",
       "Name: runs, Length: 215, dtype: int64"
      ]
     },
     "execution_count": 30,
     "metadata": {},
     "output_type": "execute_result"
    }
   ],
   "source": [
    "# sort_values\n",
    "vk.sort_values()"
   ]
  },
  {
   "cell_type": "code",
   "execution_count": 31,
   "id": "7f847240",
   "metadata": {},
   "outputs": [
    {
     "data": {
      "text/plain": [
       "match_no\n",
       "128    113\n",
       "126    109\n",
       "123    108\n",
       "120    100\n",
       "164    100\n",
       "      ... \n",
       "93       0\n",
       "130      0\n",
       "206      0\n",
       "207      0\n",
       "211      0\n",
       "Name: runs, Length: 215, dtype: int64"
      ]
     },
     "execution_count": 31,
     "metadata": {},
     "output_type": "execute_result"
    }
   ],
   "source": [
    "vk.sort_values(ascending=False)"
   ]
  },
  {
   "cell_type": "code",
   "execution_count": 32,
   "id": "e0f51e07",
   "metadata": {},
   "outputs": [
    {
     "data": {
      "text/plain": [
       "match_no\n",
       "128    113\n",
       "Name: runs, dtype: int64"
      ]
     },
     "execution_count": 32,
     "metadata": {},
     "output_type": "execute_result"
    }
   ],
   "source": [
    "vk.sort_values(ascending=False).head(1)"
   ]
  },
  {
   "cell_type": "code",
   "execution_count": 33,
   "id": "f2d87eb5",
   "metadata": {},
   "outputs": [
    {
     "data": {
      "text/plain": [
       "array([113])"
      ]
     },
     "execution_count": 33,
     "metadata": {},
     "output_type": "execute_result"
    }
   ],
   "source": [
    "vk.sort_values(ascending=False).head(1).values"
   ]
  },
  {
   "cell_type": "code",
   "execution_count": 34,
   "id": "41fc0238",
   "metadata": {},
   "outputs": [
    {
     "data": {
      "text/plain": [
       "np.int64(113)"
      ]
     },
     "execution_count": 34,
     "metadata": {},
     "output_type": "execute_result"
    }
   ],
   "source": [
    "vk.sort_values(ascending=False).head(1).values[0]"
   ]
  },
  {
   "cell_type": "code",
   "execution_count": 35,
   "id": "65b3fbaa",
   "metadata": {},
   "outputs": [],
   "source": [
    "vk = vk.sort_values()"
   ]
  },
  {
   "cell_type": "code",
   "execution_count": 36,
   "id": "b03150bf",
   "metadata": {},
   "outputs": [
    {
     "data": {
      "text/plain": [
       "match_no\n",
       "8        0\n",
       "87       0\n",
       "93       0\n",
       "91       0\n",
       "206      0\n",
       "      ... \n",
       "164    100\n",
       "120    100\n",
       "123    108\n",
       "126    109\n",
       "128    113\n",
       "Name: runs, Length: 215, dtype: int64"
      ]
     },
     "execution_count": 36,
     "metadata": {},
     "output_type": "execute_result"
    }
   ],
   "source": [
    "vk"
   ]
  },
  {
   "cell_type": "code",
   "execution_count": 37,
   "id": "412df5b6",
   "metadata": {},
   "outputs": [
    {
     "data": {
      "text/plain": [
       "movie\n",
       "1920 (film)                   Rajniesh Duggall\n",
       "1920: London                     Sharman Joshi\n",
       "1920: The Evil Returns             Vicky Ahuja\n",
       "1971 (2007 film)                Manoj Bajpayee\n",
       "2 States (2014 film)              Arjun Kapoor\n",
       "                                   ...        \n",
       "Zindagi 50-50                      Veena Malik\n",
       "Zindagi Na Milegi Dobara        Hrithik Roshan\n",
       "Zindagi Tere Naam           Mithun Chakraborty\n",
       "Zokkomon                       Darsheel Safary\n",
       "Zor Lagaa Ke...Haiya!            Meghan Jadhav\n",
       "Name: lead, Length: 1500, dtype: object"
      ]
     },
     "execution_count": 37,
     "metadata": {},
     "output_type": "execute_result"
    }
   ],
   "source": [
    "# sort_index\n",
    "movies.sort_index()"
   ]
  },
  {
   "cell_type": "code",
   "execution_count": 38,
   "id": "5ad44492",
   "metadata": {},
   "outputs": [],
   "source": [
    "movies.sort_index(ascending=True,inplace=True)"
   ]
  },
  {
   "cell_type": "code",
   "execution_count": 39,
   "id": "1735e696",
   "metadata": {},
   "outputs": [
    {
     "data": {
      "text/plain": [
       "movie\n",
       "1920 (film)                   Rajniesh Duggall\n",
       "1920: London                     Sharman Joshi\n",
       "1920: The Evil Returns             Vicky Ahuja\n",
       "1971 (2007 film)                Manoj Bajpayee\n",
       "2 States (2014 film)              Arjun Kapoor\n",
       "                                   ...        \n",
       "Zindagi 50-50                      Veena Malik\n",
       "Zindagi Na Milegi Dobara        Hrithik Roshan\n",
       "Zindagi Tere Naam           Mithun Chakraborty\n",
       "Zokkomon                       Darsheel Safary\n",
       "Zor Lagaa Ke...Haiya!            Meghan Jadhav\n",
       "Name: lead, Length: 1500, dtype: object"
      ]
     },
     "execution_count": 39,
     "metadata": {},
     "output_type": "execute_result"
    }
   ],
   "source": [
    "movies"
   ]
  },
  {
   "cell_type": "code",
   "execution_count": null,
   "id": "30063e82",
   "metadata": {},
   "outputs": [],
   "source": []
  },
  {
   "cell_type": "markdown",
   "id": "994d5339",
   "metadata": {},
   "source": [
    "# Series Maths Methods"
   ]
  },
  {
   "cell_type": "code",
   "execution_count": 40,
   "id": "90abbec6",
   "metadata": {},
   "outputs": [
    {
     "data": {
      "text/plain": [
       "np.int64(215)"
      ]
     },
     "execution_count": 40,
     "metadata": {},
     "output_type": "execute_result"
    }
   ],
   "source": [
    "# count\n",
    "vk.count()"
   ]
  },
  {
   "cell_type": "code",
   "execution_count": 41,
   "id": "f5091d16",
   "metadata": {},
   "outputs": [
    {
     "data": {
      "text/plain": [
       "np.int64(49510)"
      ]
     },
     "execution_count": 41,
     "metadata": {},
     "output_type": "execute_result"
    }
   ],
   "source": [
    "# sum\n",
    "sub.sum()"
   ]
  },
  {
   "cell_type": "code",
   "execution_count": 42,
   "id": "82cf4562",
   "metadata": {},
   "outputs": [
    {
     "data": {
      "text/plain": [
       "np.int64(0)"
      ]
     },
     "execution_count": 42,
     "metadata": {},
     "output_type": "execute_result"
    }
   ],
   "source": [
    "# product\n",
    "sub.product()"
   ]
  },
  {
   "cell_type": "code",
   "execution_count": 43,
   "id": "1a151846",
   "metadata": {},
   "outputs": [
    {
     "data": {
      "text/plain": [
       "np.float64(135.64383561643837)"
      ]
     },
     "execution_count": 43,
     "metadata": {},
     "output_type": "execute_result"
    }
   ],
   "source": [
    "# mean()\n",
    "sub.mean()"
   ]
  },
  {
   "cell_type": "code",
   "execution_count": 44,
   "id": "b1051165",
   "metadata": {},
   "outputs": [
    {
     "data": {
      "text/plain": [
       "np.float64(24.0)"
      ]
     },
     "execution_count": 44,
     "metadata": {},
     "output_type": "execute_result"
    }
   ],
   "source": [
    "# median()\n",
    "vk.median()"
   ]
  },
  {
   "cell_type": "code",
   "execution_count": 45,
   "id": "7c88a6cd",
   "metadata": {},
   "outputs": [
    {
     "data": {
      "text/plain": [
       "0    Akshay Kumar\n",
       "Name: lead, dtype: object"
      ]
     },
     "execution_count": 45,
     "metadata": {},
     "output_type": "execute_result"
    }
   ],
   "source": [
    "# mode()\n",
    "movies.mode()"
   ]
  },
  {
   "cell_type": "code",
   "execution_count": 46,
   "id": "5dc51c73",
   "metadata": {},
   "outputs": [
    {
     "data": {
      "text/plain": [
       "np.float64(62.6750230372527)"
      ]
     },
     "execution_count": 46,
     "metadata": {},
     "output_type": "execute_result"
    }
   ],
   "source": [
    "# standard deviation\n",
    "sub.std()"
   ]
  },
  {
   "cell_type": "code",
   "execution_count": 47,
   "id": "fa880dab",
   "metadata": {},
   "outputs": [
    {
     "data": {
      "text/plain": [
       "np.float64(688.0024777222343)"
      ]
     },
     "execution_count": 47,
     "metadata": {},
     "output_type": "execute_result"
    }
   ],
   "source": [
    "# variance\n",
    "vk.var()"
   ]
  },
  {
   "cell_type": "code",
   "execution_count": 48,
   "id": "154ab45d",
   "metadata": {},
   "outputs": [
    {
     "data": {
      "text/plain": [
       "np.int64(33)"
      ]
     },
     "execution_count": 48,
     "metadata": {},
     "output_type": "execute_result"
    }
   ],
   "source": [
    "# min\n",
    "sub.min()"
   ]
  },
  {
   "cell_type": "code",
   "execution_count": 49,
   "id": "6da7ca68",
   "metadata": {},
   "outputs": [
    {
     "data": {
      "text/plain": [
       "np.int64(396)"
      ]
     },
     "execution_count": 49,
     "metadata": {},
     "output_type": "execute_result"
    }
   ],
   "source": [
    "# max\n",
    "sub.max()"
   ]
  },
  {
   "cell_type": "code",
   "execution_count": 50,
   "id": "baf3d814",
   "metadata": {},
   "outputs": [
    {
     "data": {
      "text/plain": [
       "count    215.000000\n",
       "mean      30.855814\n",
       "std       26.229801\n",
       "min        0.000000\n",
       "25%        9.000000\n",
       "50%       24.000000\n",
       "75%       48.000000\n",
       "max      113.000000\n",
       "Name: runs, dtype: float64"
      ]
     },
     "execution_count": 50,
     "metadata": {},
     "output_type": "execute_result"
    }
   ],
   "source": [
    "# describe -> summary of data\n",
    "vk.describe()"
   ]
  },
  {
   "cell_type": "code",
   "execution_count": 51,
   "id": "88bae426",
   "metadata": {},
   "outputs": [
    {
     "data": {
      "text/plain": [
       "count    365.000000\n",
       "mean     135.643836\n",
       "std       62.675023\n",
       "min       33.000000\n",
       "25%       88.000000\n",
       "50%      123.000000\n",
       "75%      177.000000\n",
       "max      396.000000\n",
       "Name: Subscribers gained, dtype: float64"
      ]
     },
     "execution_count": 51,
     "metadata": {},
     "output_type": "execute_result"
    }
   ],
   "source": [
    "sub.describe()"
   ]
  },
  {
   "cell_type": "code",
   "execution_count": null,
   "id": "89d7ea23",
   "metadata": {},
   "outputs": [],
   "source": []
  },
  {
   "cell_type": "markdown",
   "id": "d7e9feb5",
   "metadata": {},
   "source": [
    "# Series Indexing"
   ]
  },
  {
   "cell_type": "code",
   "execution_count": 52,
   "id": "35764d91",
   "metadata": {},
   "outputs": [
    {
     "data": {
      "text/plain": [
       "0     12\n",
       "1     13\n",
       "2     45\n",
       "3     85\n",
       "4     96\n",
       "5     78\n",
       "6    585\n",
       "dtype: int64"
      ]
     },
     "execution_count": 52,
     "metadata": {},
     "output_type": "execute_result"
    }
   ],
   "source": [
    "x = pd.Series([12,13,45,85,96,78,585])\n",
    "x\n"
   ]
  },
  {
   "cell_type": "code",
   "execution_count": 53,
   "id": "37cb1c11",
   "metadata": {},
   "outputs": [
    {
     "data": {
      "text/plain": [
       "np.int64(13)"
      ]
     },
     "execution_count": 53,
     "metadata": {},
     "output_type": "execute_result"
    }
   ],
   "source": [
    "x[1]"
   ]
  },
  {
   "cell_type": "code",
   "execution_count": 54,
   "id": "156aa832",
   "metadata": {},
   "outputs": [
    {
     "ename": "KeyError",
     "evalue": "-1",
     "output_type": "error",
     "traceback": [
      "\u001b[31m---------------------------------------------------------------------------\u001b[39m",
      "\u001b[31mValueError\u001b[39m                                Traceback (most recent call last)",
      "\u001b[36mFile \u001b[39m\u001b[32m~\\AppData\\Roaming\\Python\\Python311\\site-packages\\pandas\\core\\indexes\\range.py:413\u001b[39m, in \u001b[36mRangeIndex.get_loc\u001b[39m\u001b[34m(self, key)\u001b[39m\n\u001b[32m    412\u001b[39m \u001b[38;5;28;01mtry\u001b[39;00m:\n\u001b[32m--> \u001b[39m\u001b[32m413\u001b[39m     \u001b[38;5;28;01mreturn\u001b[39;00m \u001b[38;5;28;43mself\u001b[39;49m\u001b[43m.\u001b[49m\u001b[43m_range\u001b[49m\u001b[43m.\u001b[49m\u001b[43mindex\u001b[49m\u001b[43m(\u001b[49m\u001b[43mnew_key\u001b[49m\u001b[43m)\u001b[49m\n\u001b[32m    414\u001b[39m \u001b[38;5;28;01mexcept\u001b[39;00m \u001b[38;5;167;01mValueError\u001b[39;00m \u001b[38;5;28;01mas\u001b[39;00m err:\n",
      "\u001b[31mValueError\u001b[39m: -1 is not in range",
      "\nThe above exception was the direct cause of the following exception:\n",
      "\u001b[31mKeyError\u001b[39m                                  Traceback (most recent call last)",
      "\u001b[36mCell\u001b[39m\u001b[36m \u001b[39m\u001b[32mIn[54]\u001b[39m\u001b[32m, line 2\u001b[39m\n\u001b[32m      1\u001b[39m \u001b[38;5;66;03m# negative index will not work.....\u001b[39;00m\n\u001b[32m----> \u001b[39m\u001b[32m2\u001b[39m \u001b[43mx\u001b[49m\u001b[43m[\u001b[49m\u001b[43m-\u001b[49m\u001b[32;43m1\u001b[39;49m\u001b[43m]\u001b[49m\n",
      "\u001b[36mFile \u001b[39m\u001b[32m~\\AppData\\Roaming\\Python\\Python311\\site-packages\\pandas\\core\\series.py:1121\u001b[39m, in \u001b[36mSeries.__getitem__\u001b[39m\u001b[34m(self, key)\u001b[39m\n\u001b[32m   1118\u001b[39m     \u001b[38;5;28;01mreturn\u001b[39;00m \u001b[38;5;28mself\u001b[39m._values[key]\n\u001b[32m   1120\u001b[39m \u001b[38;5;28;01melif\u001b[39;00m key_is_scalar:\n\u001b[32m-> \u001b[39m\u001b[32m1121\u001b[39m     \u001b[38;5;28;01mreturn\u001b[39;00m \u001b[38;5;28;43mself\u001b[39;49m\u001b[43m.\u001b[49m\u001b[43m_get_value\u001b[49m\u001b[43m(\u001b[49m\u001b[43mkey\u001b[49m\u001b[43m)\u001b[49m\n\u001b[32m   1123\u001b[39m \u001b[38;5;66;03m# Convert generator to list before going through hashable part\u001b[39;00m\n\u001b[32m   1124\u001b[39m \u001b[38;5;66;03m# (We will iterate through the generator there to check for slices)\u001b[39;00m\n\u001b[32m   1125\u001b[39m \u001b[38;5;28;01mif\u001b[39;00m is_iterator(key):\n",
      "\u001b[36mFile \u001b[39m\u001b[32m~\\AppData\\Roaming\\Python\\Python311\\site-packages\\pandas\\core\\series.py:1237\u001b[39m, in \u001b[36mSeries._get_value\u001b[39m\u001b[34m(self, label, takeable)\u001b[39m\n\u001b[32m   1234\u001b[39m     \u001b[38;5;28;01mreturn\u001b[39;00m \u001b[38;5;28mself\u001b[39m._values[label]\n\u001b[32m   1236\u001b[39m \u001b[38;5;66;03m# Similar to Index.get_value, but we do not fall back to positional\u001b[39;00m\n\u001b[32m-> \u001b[39m\u001b[32m1237\u001b[39m loc = \u001b[38;5;28;43mself\u001b[39;49m\u001b[43m.\u001b[49m\u001b[43mindex\u001b[49m\u001b[43m.\u001b[49m\u001b[43mget_loc\u001b[49m\u001b[43m(\u001b[49m\u001b[43mlabel\u001b[49m\u001b[43m)\u001b[49m\n\u001b[32m   1239\u001b[39m \u001b[38;5;28;01mif\u001b[39;00m is_integer(loc):\n\u001b[32m   1240\u001b[39m     \u001b[38;5;28;01mreturn\u001b[39;00m \u001b[38;5;28mself\u001b[39m._values[loc]\n",
      "\u001b[36mFile \u001b[39m\u001b[32m~\\AppData\\Roaming\\Python\\Python311\\site-packages\\pandas\\core\\indexes\\range.py:415\u001b[39m, in \u001b[36mRangeIndex.get_loc\u001b[39m\u001b[34m(self, key)\u001b[39m\n\u001b[32m    413\u001b[39m         \u001b[38;5;28;01mreturn\u001b[39;00m \u001b[38;5;28mself\u001b[39m._range.index(new_key)\n\u001b[32m    414\u001b[39m     \u001b[38;5;28;01mexcept\u001b[39;00m \u001b[38;5;167;01mValueError\u001b[39;00m \u001b[38;5;28;01mas\u001b[39;00m err:\n\u001b[32m--> \u001b[39m\u001b[32m415\u001b[39m         \u001b[38;5;28;01mraise\u001b[39;00m \u001b[38;5;167;01mKeyError\u001b[39;00m(key) \u001b[38;5;28;01mfrom\u001b[39;00m\u001b[38;5;250m \u001b[39m\u001b[34;01merr\u001b[39;00m\n\u001b[32m    416\u001b[39m \u001b[38;5;28;01mif\u001b[39;00m \u001b[38;5;28misinstance\u001b[39m(key, Hashable):\n\u001b[32m    417\u001b[39m     \u001b[38;5;28;01mraise\u001b[39;00m \u001b[38;5;167;01mKeyError\u001b[39;00m(key)\n",
      "\u001b[31mKeyError\u001b[39m: -1"
     ]
    }
   ],
   "source": [
    "# negative index will not work.....\n",
    "x[-1]"
   ]
  },
  {
   "cell_type": "code",
   "execution_count": 55,
   "id": "f5cc95ea",
   "metadata": {},
   "outputs": [
    {
     "data": {
      "text/plain": [
       "movie\n",
       "1920 (film)                   Rajniesh Duggall\n",
       "1920: London                     Sharman Joshi\n",
       "1920: The Evil Returns             Vicky Ahuja\n",
       "1971 (2007 film)                Manoj Bajpayee\n",
       "2 States (2014 film)              Arjun Kapoor\n",
       "                                   ...        \n",
       "Zindagi 50-50                      Veena Malik\n",
       "Zindagi Na Milegi Dobara        Hrithik Roshan\n",
       "Zindagi Tere Naam           Mithun Chakraborty\n",
       "Zokkomon                       Darsheel Safary\n",
       "Zor Lagaa Ke...Haiya!            Meghan Jadhav\n",
       "Name: lead, Length: 1500, dtype: object"
      ]
     },
     "execution_count": 55,
     "metadata": {},
     "output_type": "execute_result"
    }
   ],
   "source": [
    "movies"
   ]
  },
  {
   "cell_type": "code",
   "execution_count": 56,
   "id": "397b0132",
   "metadata": {},
   "outputs": [
    {
     "name": "stderr",
     "output_type": "stream",
     "text": [
      "C:\\Users\\Nikshit.Vora\\AppData\\Local\\Temp\\ipykernel_38888\\1023273493.py:1: FutureWarning: Series.__getitem__ treating keys as positions is deprecated. In a future version, integer keys will always be treated as labels (consistent with DataFrame behavior). To access a value by position, use `ser.iloc[pos]`\n",
      "  movies[1]\n"
     ]
    },
    {
     "data": {
      "text/plain": [
       "'Sharman Joshi'"
      ]
     },
     "execution_count": 56,
     "metadata": {},
     "output_type": "execute_result"
    }
   ],
   "source": [
    "movies[1]"
   ]
  },
  {
   "cell_type": "code",
   "execution_count": 57,
   "id": "c072180b",
   "metadata": {},
   "outputs": [
    {
     "data": {
      "text/plain": [
       "'Darsheel Safary'"
      ]
     },
     "execution_count": 57,
     "metadata": {},
     "output_type": "execute_result"
    }
   ],
   "source": [
    "movies['Zokkomon']"
   ]
  },
  {
   "cell_type": "code",
   "execution_count": 58,
   "id": "1223c369",
   "metadata": {},
   "outputs": [
    {
     "name": "stderr",
     "output_type": "stream",
     "text": [
      "C:\\Users\\Nikshit.Vora\\AppData\\Local\\Temp\\ipykernel_38888\\2731571422.py:1: FutureWarning: Series.__getitem__ treating keys as positions is deprecated. In a future version, integer keys will always be treated as labels (consistent with DataFrame behavior). To access a value by position, use `ser.iloc[pos]`\n",
      "  movies[-1]\n"
     ]
    },
    {
     "data": {
      "text/plain": [
       "'Meghan Jadhav'"
      ]
     },
     "execution_count": 58,
     "metadata": {},
     "output_type": "execute_result"
    }
   ],
   "source": [
    "movies[-1]"
   ]
  },
  {
   "cell_type": "code",
   "execution_count": null,
   "id": "99ac818d",
   "metadata": {},
   "outputs": [],
   "source": []
  },
  {
   "cell_type": "markdown",
   "id": "5cb59239",
   "metadata": {},
   "source": [
    "# Slicing"
   ]
  },
  {
   "cell_type": "code",
   "execution_count": 59,
   "id": "254dd4be",
   "metadata": {},
   "outputs": [
    {
     "data": {
      "text/plain": [
       "match_no\n",
       "207    0\n",
       "135    0\n",
       "130    0\n",
       "211    0\n",
       "106    1\n",
       "204    1\n",
       "113    1\n",
       "77     1\n",
       "1      1\n",
       "5      1\n",
       "75     1\n",
       "Name: runs, dtype: int64"
      ]
     },
     "execution_count": 59,
     "metadata": {},
     "output_type": "execute_result"
    }
   ],
   "source": [
    "vk[5:16]"
   ]
  },
  {
   "cell_type": "code",
   "execution_count": 60,
   "id": "50f184ff",
   "metadata": {},
   "outputs": [
    {
     "data": {
      "text/plain": [
       "match_no\n",
       "164    100\n",
       "120    100\n",
       "123    108\n",
       "126    109\n",
       "128    113\n",
       "Name: runs, dtype: int64"
      ]
     },
     "execution_count": 60,
     "metadata": {},
     "output_type": "execute_result"
    }
   ],
   "source": [
    "vk[-5:]"
   ]
  },
  {
   "cell_type": "code",
   "execution_count": 61,
   "id": "903c4229",
   "metadata": {},
   "outputs": [
    {
     "data": {
      "text/plain": [
       "movie\n",
       "Zindagi 50-50                      Veena Malik\n",
       "Zindagi Na Milegi Dobara        Hrithik Roshan\n",
       "Zindagi Tere Naam           Mithun Chakraborty\n",
       "Zokkomon                       Darsheel Safary\n",
       "Zor Lagaa Ke...Haiya!            Meghan Jadhav\n",
       "Name: lead, dtype: object"
      ]
     },
     "execution_count": 61,
     "metadata": {},
     "output_type": "execute_result"
    }
   ],
   "source": [
    "movies[-5:]"
   ]
  },
  {
   "cell_type": "code",
   "execution_count": null,
   "id": "723ca2ab",
   "metadata": {},
   "outputs": [],
   "source": []
  },
  {
   "cell_type": "markdown",
   "id": "654169d7",
   "metadata": {},
   "source": [
    "### Fancy Indexing"
   ]
  },
  {
   "cell_type": "code",
   "execution_count": 62,
   "id": "28bd2884",
   "metadata": {},
   "outputs": [
    {
     "data": {
      "text/plain": [
       "match_no\n",
       "1     1\n",
       "2    23\n",
       "4    12\n",
       "5     1\n",
       "Name: runs, dtype: int64"
      ]
     },
     "execution_count": 62,
     "metadata": {},
     "output_type": "execute_result"
    }
   ],
   "source": [
    "vk[[1,2,4,5]]"
   ]
  },
  {
   "cell_type": "code",
   "execution_count": 63,
   "id": "914da091",
   "metadata": {},
   "outputs": [
    {
     "data": {
      "text/plain": [
       "movie\n",
       "Zindagi 50-50        Veena Malik\n",
       "Zokkomon         Darsheel Safary\n",
       "Name: lead, dtype: object"
      ]
     },
     "execution_count": 63,
     "metadata": {},
     "output_type": "execute_result"
    }
   ],
   "source": [
    "# using label\n",
    "movies[['Zindagi 50-50','Zokkomon']]"
   ]
  },
  {
   "cell_type": "code",
   "execution_count": null,
   "id": "51a602a1",
   "metadata": {},
   "outputs": [],
   "source": []
  },
  {
   "cell_type": "markdown",
   "id": "26bfd329",
   "metadata": {},
   "source": [
    "# Editing Series"
   ]
  },
  {
   "cell_type": "code",
   "execution_count": 64,
   "id": "8852375a",
   "metadata": {},
   "outputs": [
    {
     "data": {
      "text/plain": [
       "english    12\n",
       "maths      45\n",
       "hindi      89\n",
       "gujrati    28\n",
       "dtype: int64"
      ]
     },
     "execution_count": 64,
     "metadata": {},
     "output_type": "execute_result"
    }
   ],
   "source": [
    "marks = [12,45,89,28]\n",
    "subject = ['english','maths','hindi','gujrati']\n",
    "marks = pd.Series(marks,index=subject)\n",
    "marks"
   ]
  },
  {
   "cell_type": "code",
   "execution_count": 65,
   "id": "9297933e",
   "metadata": {},
   "outputs": [],
   "source": [
    "# using inex label\n",
    "marks['english']=100"
   ]
  },
  {
   "cell_type": "code",
   "execution_count": 66,
   "id": "90120b51",
   "metadata": {},
   "outputs": [
    {
     "data": {
      "text/plain": [
       "english    100\n",
       "maths       45\n",
       "hindi       89\n",
       "gujrati     28\n",
       "dtype: int64"
      ]
     },
     "execution_count": 66,
     "metadata": {},
     "output_type": "execute_result"
    }
   ],
   "source": [
    "marks"
   ]
  },
  {
   "cell_type": "code",
   "execution_count": 67,
   "id": "4dae2081",
   "metadata": {},
   "outputs": [
    {
     "name": "stderr",
     "output_type": "stream",
     "text": [
      "C:\\Users\\Nikshit.Vora\\AppData\\Local\\Temp\\ipykernel_38888\\2138353417.py:2: FutureWarning: Series.__setitem__ treating keys as positions is deprecated. In a future version, integer keys will always be treated as labels (consistent with DataFrame behavior). To set a value by position, use `ser.iloc[pos] = value`\n",
      "  marks[2]=100\n"
     ]
    }
   ],
   "source": [
    "# using index \n",
    "marks[2]=100"
   ]
  },
  {
   "cell_type": "code",
   "execution_count": 68,
   "id": "58ef7cda",
   "metadata": {},
   "outputs": [
    {
     "data": {
      "text/plain": [
       "english    100\n",
       "maths       45\n",
       "hindi      100\n",
       "gujrati     28\n",
       "dtype: int64"
      ]
     },
     "execution_count": 68,
     "metadata": {},
     "output_type": "execute_result"
    }
   ],
   "source": [
    "marks"
   ]
  },
  {
   "cell_type": "code",
   "execution_count": 69,
   "id": "ee2aff5d",
   "metadata": {},
   "outputs": [],
   "source": [
    "# adding new subject\n",
    "marks['social science']=99"
   ]
  },
  {
   "cell_type": "code",
   "execution_count": 70,
   "id": "abdb495c",
   "metadata": {},
   "outputs": [
    {
     "data": {
      "text/plain": [
       "english           100\n",
       "maths              45\n",
       "hindi             100\n",
       "gujrati            28\n",
       "social science     99\n",
       "dtype: int64"
      ]
     },
     "execution_count": 70,
     "metadata": {},
     "output_type": "execute_result"
    }
   ],
   "source": [
    "marks"
   ]
  },
  {
   "cell_type": "code",
   "execution_count": 71,
   "id": "cec42739",
   "metadata": {},
   "outputs": [],
   "source": [
    "marks[2:]=88"
   ]
  },
  {
   "cell_type": "code",
   "execution_count": 72,
   "id": "b3104f8f",
   "metadata": {},
   "outputs": [
    {
     "data": {
      "text/plain": [
       "english           100\n",
       "maths              45\n",
       "hindi              88\n",
       "gujrati            88\n",
       "social science     88\n",
       "dtype: int64"
      ]
     },
     "execution_count": 72,
     "metadata": {},
     "output_type": "execute_result"
    }
   ],
   "source": [
    "marks"
   ]
  },
  {
   "cell_type": "code",
   "execution_count": 73,
   "id": "2dce6a0a",
   "metadata": {},
   "outputs": [],
   "source": [
    "# using slicing --> changing values\n",
    "marks[2:4]=[12,22]"
   ]
  },
  {
   "cell_type": "code",
   "execution_count": 74,
   "id": "976c109a",
   "metadata": {},
   "outputs": [
    {
     "data": {
      "text/plain": [
       "english           100\n",
       "maths              45\n",
       "hindi              12\n",
       "gujrati            22\n",
       "social science     88\n",
       "dtype: int64"
      ]
     },
     "execution_count": 74,
     "metadata": {},
     "output_type": "execute_result"
    }
   ],
   "source": [
    "marks"
   ]
  },
  {
   "cell_type": "code",
   "execution_count": 75,
   "id": "7315f35c",
   "metadata": {},
   "outputs": [
    {
     "name": "stderr",
     "output_type": "stream",
     "text": [
      "C:\\Users\\Nikshit.Vora\\AppData\\Local\\Temp\\ipykernel_38888\\3053416507.py:2: FutureWarning: Series.__setitem__ treating keys as positions is deprecated. In a future version, integer keys will always be treated as labels (consistent with DataFrame behavior). To set a value by position, use `ser.iloc[pos] = value`\n",
      "  marks[[1,2,3]]=[44,55,66]\n"
     ]
    }
   ],
   "source": [
    "# using fancy indexing\n",
    "marks[[1,2,3]]=[44,55,66]"
   ]
  },
  {
   "cell_type": "code",
   "execution_count": 76,
   "id": "2302f37a",
   "metadata": {},
   "outputs": [
    {
     "data": {
      "text/plain": [
       "english           100\n",
       "maths              44\n",
       "hindi              55\n",
       "gujrati            66\n",
       "social science     88\n",
       "dtype: int64"
      ]
     },
     "execution_count": 76,
     "metadata": {},
     "output_type": "execute_result"
    }
   ],
   "source": [
    "marks"
   ]
  },
  {
   "cell_type": "code",
   "execution_count": 77,
   "id": "75107d02",
   "metadata": {},
   "outputs": [],
   "source": [
    "# using label\n",
    "movies['Zindagi 50-50']='ABC'"
   ]
  },
  {
   "cell_type": "code",
   "execution_count": 78,
   "id": "57110f27",
   "metadata": {},
   "outputs": [
    {
     "data": {
      "text/plain": [
       "movie\n",
       "1920 (film)                   Rajniesh Duggall\n",
       "1920: London                     Sharman Joshi\n",
       "1920: The Evil Returns             Vicky Ahuja\n",
       "1971 (2007 film)                Manoj Bajpayee\n",
       "2 States (2014 film)              Arjun Kapoor\n",
       "                                   ...        \n",
       "Zindagi 50-50                              ABC\n",
       "Zindagi Na Milegi Dobara        Hrithik Roshan\n",
       "Zindagi Tere Naam           Mithun Chakraborty\n",
       "Zokkomon                       Darsheel Safary\n",
       "Zor Lagaa Ke...Haiya!            Meghan Jadhav\n",
       "Name: lead, Length: 1500, dtype: object"
      ]
     },
     "execution_count": 78,
     "metadata": {},
     "output_type": "execute_result"
    }
   ],
   "source": [
    "movies"
   ]
  },
  {
   "cell_type": "code",
   "execution_count": null,
   "id": "3723706b",
   "metadata": {},
   "outputs": [],
   "source": []
  },
  {
   "cell_type": "markdown",
   "id": "36fbae25",
   "metadata": {},
   "source": [
    "# Copy vs Views"
   ]
  },
  {
   "cell_type": "code",
   "execution_count": 79,
   "id": "2d6ef3a8",
   "metadata": {},
   "outputs": [
    {
     "data": {
      "text/plain": [
       "english    12\n",
       "maths      45\n",
       "hindi      89\n",
       "gujrati    28\n",
       "Name: subject marks, dtype: int64"
      ]
     },
     "execution_count": 79,
     "metadata": {},
     "output_type": "execute_result"
    }
   ],
   "source": [
    "marks = [12,45,89,28]\n",
    "subject = ['english','maths','hindi','gujrati']\n",
    "marks = pd.Series(marks,index=subject,name='subject marks')\n",
    "marks"
   ]
  },
  {
   "cell_type": "code",
   "execution_count": 80,
   "id": "d3acd30c",
   "metadata": {},
   "outputs": [],
   "source": [
    "# this will create view, any changes to my_marks will afect original series as well\n",
    "my_marks = marks"
   ]
  },
  {
   "cell_type": "code",
   "execution_count": 81,
   "id": "f949b867",
   "metadata": {},
   "outputs": [
    {
     "data": {
      "text/plain": [
       "english    12\n",
       "maths      45\n",
       "hindi      89\n",
       "gujrati    28\n",
       "Name: subject marks, dtype: int64"
      ]
     },
     "execution_count": 81,
     "metadata": {},
     "output_type": "execute_result"
    }
   ],
   "source": [
    "my_marks"
   ]
  },
  {
   "cell_type": "code",
   "execution_count": 82,
   "id": "f5cc8592",
   "metadata": {},
   "outputs": [],
   "source": [
    "my_marks['english']=500"
   ]
  },
  {
   "cell_type": "code",
   "execution_count": 83,
   "id": "38e8aee4",
   "metadata": {},
   "outputs": [
    {
     "data": {
      "text/plain": [
       "english    500\n",
       "maths       45\n",
       "hindi       89\n",
       "gujrati     28\n",
       "Name: subject marks, dtype: int64"
      ]
     },
     "execution_count": 83,
     "metadata": {},
     "output_type": "execute_result"
    }
   ],
   "source": [
    "my_marks"
   ]
  },
  {
   "cell_type": "code",
   "execution_count": 84,
   "id": "9e4fef19",
   "metadata": {},
   "outputs": [
    {
     "data": {
      "text/plain": [
       "english    500\n",
       "maths       45\n",
       "hindi       89\n",
       "gujrati     28\n",
       "Name: subject marks, dtype: int64"
      ]
     },
     "execution_count": 84,
     "metadata": {},
     "output_type": "execute_result"
    }
   ],
   "source": [
    "marks"
   ]
  },
  {
   "cell_type": "code",
   "execution_count": 85,
   "id": "5c825079",
   "metadata": {},
   "outputs": [
    {
     "data": {
      "text/plain": [
       "english    500\n",
       "maths       45\n",
       "hindi       89\n",
       "gujrati     28\n",
       "Name: subject marks, dtype: int64"
      ]
     },
     "execution_count": 85,
     "metadata": {},
     "output_type": "execute_result"
    }
   ],
   "source": [
    "# copy --> this will create separate object.. will not affect original one..\n",
    "m = marks.copy()\n",
    "m"
   ]
  },
  {
   "cell_type": "code",
   "execution_count": 86,
   "id": "fd92c1de",
   "metadata": {},
   "outputs": [
    {
     "data": {
      "text/plain": [
       "english    100000\n",
       "maths          45\n",
       "hindi          89\n",
       "gujrati        28\n",
       "Name: subject marks, dtype: int64"
      ]
     },
     "execution_count": 86,
     "metadata": {},
     "output_type": "execute_result"
    }
   ],
   "source": [
    "m['english']=100000\n",
    "m"
   ]
  },
  {
   "cell_type": "code",
   "execution_count": 87,
   "id": "2faf6692",
   "metadata": {},
   "outputs": [
    {
     "data": {
      "text/plain": [
       "english    500\n",
       "maths       45\n",
       "hindi       89\n",
       "gujrati     28\n",
       "Name: subject marks, dtype: int64"
      ]
     },
     "execution_count": 87,
     "metadata": {},
     "output_type": "execute_result"
    }
   ],
   "source": [
    "marks"
   ]
  },
  {
   "cell_type": "code",
   "execution_count": null,
   "id": "d3604cc2",
   "metadata": {},
   "outputs": [],
   "source": []
  },
  {
   "cell_type": "markdown",
   "id": "bdba2686",
   "metadata": {},
   "source": [
    "# Series With Python Functionalities"
   ]
  },
  {
   "cell_type": "code",
   "execution_count": 88,
   "id": "4171f306",
   "metadata": {},
   "outputs": [
    {
     "data": {
      "text/plain": [
       "365"
      ]
     },
     "execution_count": 88,
     "metadata": {},
     "output_type": "execute_result"
    }
   ],
   "source": [
    "len(sub)"
   ]
  },
  {
   "cell_type": "code",
   "execution_count": 89,
   "id": "053b31b2",
   "metadata": {},
   "outputs": [
    {
     "data": {
      "text/plain": [
       "pandas.core.series.Series"
      ]
     },
     "execution_count": 89,
     "metadata": {},
     "output_type": "execute_result"
    }
   ],
   "source": [
    "type(sub)"
   ]
  },
  {
   "cell_type": "code",
   "execution_count": 90,
   "id": "9211ad89",
   "metadata": {},
   "outputs": [
    {
     "data": {
      "text/plain": [
       "['T',\n",
       " '_AXIS_LEN',\n",
       " '_AXIS_ORDERS',\n",
       " '_AXIS_TO_AXIS_NUMBER',\n",
       " '_HANDLED_TYPES',\n",
       " '__abs__',\n",
       " '__add__',\n",
       " '__and__',\n",
       " '__annotations__',\n",
       " '__array__',\n",
       " '__array_priority__',\n",
       " '__array_ufunc__',\n",
       " '__bool__',\n",
       " '__class__',\n",
       " '__column_consortium_standard__',\n",
       " '__contains__',\n",
       " '__copy__',\n",
       " '__deepcopy__',\n",
       " '__delattr__',\n",
       " '__delitem__',\n",
       " '__dict__',\n",
       " '__dir__',\n",
       " '__divmod__',\n",
       " '__doc__',\n",
       " '__eq__',\n",
       " '__finalize__',\n",
       " '__float__',\n",
       " '__floordiv__',\n",
       " '__format__',\n",
       " '__ge__',\n",
       " '__getattr__',\n",
       " '__getattribute__',\n",
       " '__getitem__',\n",
       " '__getstate__',\n",
       " '__gt__',\n",
       " '__hash__',\n",
       " '__iadd__',\n",
       " '__iand__',\n",
       " '__ifloordiv__',\n",
       " '__imod__',\n",
       " '__imul__',\n",
       " '__init__',\n",
       " '__init_subclass__',\n",
       " '__int__',\n",
       " '__invert__',\n",
       " '__ior__',\n",
       " '__ipow__',\n",
       " '__isub__',\n",
       " '__iter__',\n",
       " '__itruediv__',\n",
       " '__ixor__',\n",
       " '__le__',\n",
       " '__len__',\n",
       " '__lt__',\n",
       " '__matmul__',\n",
       " '__mod__',\n",
       " '__module__',\n",
       " '__mul__',\n",
       " '__ne__',\n",
       " '__neg__',\n",
       " '__new__',\n",
       " '__nonzero__',\n",
       " '__or__',\n",
       " '__pandas_priority__',\n",
       " '__pos__',\n",
       " '__pow__',\n",
       " '__radd__',\n",
       " '__rand__',\n",
       " '__rdivmod__',\n",
       " '__reduce__',\n",
       " '__reduce_ex__',\n",
       " '__repr__',\n",
       " '__rfloordiv__',\n",
       " '__rmatmul__',\n",
       " '__rmod__',\n",
       " '__rmul__',\n",
       " '__ror__',\n",
       " '__round__',\n",
       " '__rpow__',\n",
       " '__rsub__',\n",
       " '__rtruediv__',\n",
       " '__rxor__',\n",
       " '__setattr__',\n",
       " '__setitem__',\n",
       " '__setstate__',\n",
       " '__sizeof__',\n",
       " '__str__',\n",
       " '__sub__',\n",
       " '__subclasshook__',\n",
       " '__truediv__',\n",
       " '__weakref__',\n",
       " '__xor__',\n",
       " '_accessors',\n",
       " '_accum_func',\n",
       " '_agg_examples_doc',\n",
       " '_agg_see_also_doc',\n",
       " '_align_for_op',\n",
       " '_align_frame',\n",
       " '_align_series',\n",
       " '_append',\n",
       " '_arith_method',\n",
       " '_as_manager',\n",
       " '_attrs',\n",
       " '_binop',\n",
       " '_cacher',\n",
       " '_can_hold_na',\n",
       " '_check_inplace_and_allows_duplicate_labels',\n",
       " '_check_is_chained_assignment_possible',\n",
       " '_check_label_or_level_ambiguity',\n",
       " '_check_setitem_copy',\n",
       " '_clear_item_cache',\n",
       " '_clip_with_one_bound',\n",
       " '_clip_with_scalar',\n",
       " '_cmp_method',\n",
       " '_consolidate',\n",
       " '_consolidate_inplace',\n",
       " '_construct_axes_dict',\n",
       " '_construct_result',\n",
       " '_constructor',\n",
       " '_constructor_expanddim',\n",
       " '_constructor_expanddim_from_mgr',\n",
       " '_constructor_from_mgr',\n",
       " '_data',\n",
       " '_deprecate_downcast',\n",
       " '_dir_additions',\n",
       " '_dir_deletions',\n",
       " '_drop_axis',\n",
       " '_drop_labels_or_levels',\n",
       " '_duplicated',\n",
       " '_find_valid_index',\n",
       " '_flags',\n",
       " '_flex_method',\n",
       " '_from_mgr',\n",
       " '_get_axis',\n",
       " '_get_axis_name',\n",
       " '_get_axis_number',\n",
       " '_get_axis_resolvers',\n",
       " '_get_block_manager_axis',\n",
       " '_get_bool_data',\n",
       " '_get_cacher',\n",
       " '_get_cleaned_column_resolvers',\n",
       " '_get_index_resolvers',\n",
       " '_get_label_or_level_values',\n",
       " '_get_numeric_data',\n",
       " '_get_rows_with_mask',\n",
       " '_get_value',\n",
       " '_get_values_tuple',\n",
       " '_get_with',\n",
       " '_getitem_slice',\n",
       " '_gotitem',\n",
       " '_hidden_attrs',\n",
       " '_indexed_same',\n",
       " '_info_axis',\n",
       " '_info_axis_name',\n",
       " '_info_axis_number',\n",
       " '_init_dict',\n",
       " '_init_mgr',\n",
       " '_inplace_method',\n",
       " '_internal_names',\n",
       " '_internal_names_set',\n",
       " '_is_cached',\n",
       " '_is_copy',\n",
       " '_is_label_or_level_reference',\n",
       " '_is_label_reference',\n",
       " '_is_level_reference',\n",
       " '_is_mixed_type',\n",
       " '_is_view',\n",
       " '_is_view_after_cow_rules',\n",
       " '_item_cache',\n",
       " '_ixs',\n",
       " '_logical_func',\n",
       " '_logical_method',\n",
       " '_map_values',\n",
       " '_maybe_update_cacher',\n",
       " '_memory_usage',\n",
       " '_metadata',\n",
       " '_mgr',\n",
       " '_min_count_stat_function',\n",
       " '_name',\n",
       " '_needs_reindex_multi',\n",
       " '_pad_or_backfill',\n",
       " '_protect_consolidate',\n",
       " '_reduce',\n",
       " '_references',\n",
       " '_reindex_axes',\n",
       " '_reindex_indexer',\n",
       " '_reindex_multi',\n",
       " '_reindex_with_indexers',\n",
       " '_rename',\n",
       " '_replace_single',\n",
       " '_repr_data_resource_',\n",
       " '_repr_latex_',\n",
       " '_reset_cache',\n",
       " '_reset_cacher',\n",
       " '_set_as_cached',\n",
       " '_set_axis',\n",
       " '_set_axis_name',\n",
       " '_set_axis_nocheck',\n",
       " '_set_is_copy',\n",
       " '_set_labels',\n",
       " '_set_name',\n",
       " '_set_value',\n",
       " '_set_values',\n",
       " '_set_with',\n",
       " '_set_with_engine',\n",
       " '_shift_with_freq',\n",
       " '_slice',\n",
       " '_stat_function',\n",
       " '_stat_function_ddof',\n",
       " '_take_with_is_copy',\n",
       " '_to_latex_via_styler',\n",
       " '_typ',\n",
       " '_update_inplace',\n",
       " '_validate_dtype',\n",
       " '_values',\n",
       " '_where',\n",
       " 'abs',\n",
       " 'add',\n",
       " 'add_prefix',\n",
       " 'add_suffix',\n",
       " 'agg',\n",
       " 'aggregate',\n",
       " 'align',\n",
       " 'all',\n",
       " 'any',\n",
       " 'apply',\n",
       " 'argmax',\n",
       " 'argmin',\n",
       " 'argsort',\n",
       " 'array',\n",
       " 'asfreq',\n",
       " 'asof',\n",
       " 'astype',\n",
       " 'at',\n",
       " 'at_time',\n",
       " 'attrs',\n",
       " 'autocorr',\n",
       " 'axes',\n",
       " 'backfill',\n",
       " 'between',\n",
       " 'between_time',\n",
       " 'bfill',\n",
       " 'bool',\n",
       " 'case_when',\n",
       " 'clip',\n",
       " 'combine',\n",
       " 'combine_first',\n",
       " 'compare',\n",
       " 'convert_dtypes',\n",
       " 'copy',\n",
       " 'corr',\n",
       " 'count',\n",
       " 'cov',\n",
       " 'cummax',\n",
       " 'cummin',\n",
       " 'cumprod',\n",
       " 'cumsum',\n",
       " 'describe',\n",
       " 'diff',\n",
       " 'div',\n",
       " 'divide',\n",
       " 'divmod',\n",
       " 'dot',\n",
       " 'drop',\n",
       " 'drop_duplicates',\n",
       " 'droplevel',\n",
       " 'dropna',\n",
       " 'dtype',\n",
       " 'dtypes',\n",
       " 'duplicated',\n",
       " 'empty',\n",
       " 'eq',\n",
       " 'equals',\n",
       " 'ewm',\n",
       " 'expanding',\n",
       " 'explode',\n",
       " 'factorize',\n",
       " 'ffill',\n",
       " 'fillna',\n",
       " 'filter',\n",
       " 'first',\n",
       " 'first_valid_index',\n",
       " 'flags',\n",
       " 'floordiv',\n",
       " 'ge',\n",
       " 'get',\n",
       " 'groupby',\n",
       " 'gt',\n",
       " 'hasnans',\n",
       " 'head',\n",
       " 'hist',\n",
       " 'iat',\n",
       " 'idxmax',\n",
       " 'idxmin',\n",
       " 'iloc',\n",
       " 'index',\n",
       " 'infer_objects',\n",
       " 'info',\n",
       " 'interpolate',\n",
       " 'is_monotonic_decreasing',\n",
       " 'is_monotonic_increasing',\n",
       " 'is_unique',\n",
       " 'isin',\n",
       " 'isna',\n",
       " 'isnull',\n",
       " 'item',\n",
       " 'items',\n",
       " 'keys',\n",
       " 'kurt',\n",
       " 'kurtosis',\n",
       " 'last',\n",
       " 'last_valid_index',\n",
       " 'le',\n",
       " 'list',\n",
       " 'loc',\n",
       " 'lt',\n",
       " 'map',\n",
       " 'mask',\n",
       " 'max',\n",
       " 'mean',\n",
       " 'median',\n",
       " 'memory_usage',\n",
       " 'min',\n",
       " 'mod',\n",
       " 'mode',\n",
       " 'mul',\n",
       " 'multiply',\n",
       " 'name',\n",
       " 'nbytes',\n",
       " 'ndim',\n",
       " 'ne',\n",
       " 'nlargest',\n",
       " 'notna',\n",
       " 'notnull',\n",
       " 'nsmallest',\n",
       " 'nunique',\n",
       " 'pad',\n",
       " 'pct_change',\n",
       " 'pipe',\n",
       " 'plot',\n",
       " 'pop',\n",
       " 'pow',\n",
       " 'prod',\n",
       " 'product',\n",
       " 'quantile',\n",
       " 'radd',\n",
       " 'rank',\n",
       " 'ravel',\n",
       " 'rdiv',\n",
       " 'rdivmod',\n",
       " 'reindex',\n",
       " 'reindex_like',\n",
       " 'rename',\n",
       " 'rename_axis',\n",
       " 'reorder_levels',\n",
       " 'repeat',\n",
       " 'replace',\n",
       " 'resample',\n",
       " 'reset_index',\n",
       " 'rfloordiv',\n",
       " 'rmod',\n",
       " 'rmul',\n",
       " 'rolling',\n",
       " 'round',\n",
       " 'rpow',\n",
       " 'rsub',\n",
       " 'rtruediv',\n",
       " 'sample',\n",
       " 'searchsorted',\n",
       " 'sem',\n",
       " 'set_axis',\n",
       " 'set_flags',\n",
       " 'shape',\n",
       " 'shift',\n",
       " 'size',\n",
       " 'skew',\n",
       " 'sort_index',\n",
       " 'sort_values',\n",
       " 'squeeze',\n",
       " 'std',\n",
       " 'struct',\n",
       " 'sub',\n",
       " 'subtract',\n",
       " 'sum',\n",
       " 'swapaxes',\n",
       " 'swaplevel',\n",
       " 'tail',\n",
       " 'take',\n",
       " 'to_clipboard',\n",
       " 'to_csv',\n",
       " 'to_dict',\n",
       " 'to_excel',\n",
       " 'to_frame',\n",
       " 'to_hdf',\n",
       " 'to_json',\n",
       " 'to_latex',\n",
       " 'to_list',\n",
       " 'to_markdown',\n",
       " 'to_numpy',\n",
       " 'to_period',\n",
       " 'to_pickle',\n",
       " 'to_sql',\n",
       " 'to_string',\n",
       " 'to_timestamp',\n",
       " 'to_xarray',\n",
       " 'transform',\n",
       " 'transpose',\n",
       " 'truediv',\n",
       " 'truncate',\n",
       " 'tz_convert',\n",
       " 'tz_localize',\n",
       " 'unique',\n",
       " 'unstack',\n",
       " 'update',\n",
       " 'value_counts',\n",
       " 'values',\n",
       " 'var',\n",
       " 'view',\n",
       " 'where',\n",
       " 'xs']"
      ]
     },
     "execution_count": 90,
     "metadata": {},
     "output_type": "execute_result"
    }
   ],
   "source": [
    "dir(sub)"
   ]
  },
  {
   "cell_type": "code",
   "execution_count": 91,
   "id": "31dd08e6",
   "metadata": {},
   "outputs": [
    {
     "data": {
      "text/plain": [
       "[33,\n",
       " 33,\n",
       " 35,\n",
       " 37,\n",
       " 39,\n",
       " 40,\n",
       " 40,\n",
       " 40,\n",
       " 40,\n",
       " 42,\n",
       " 42,\n",
       " 43,\n",
       " 44,\n",
       " 44,\n",
       " 44,\n",
       " 45,\n",
       " 46,\n",
       " 46,\n",
       " 48,\n",
       " 49,\n",
       " 49,\n",
       " 49,\n",
       " 49,\n",
       " 50,\n",
       " 50,\n",
       " 50,\n",
       " 51,\n",
       " 54,\n",
       " 56,\n",
       " 56,\n",
       " 56,\n",
       " 56,\n",
       " 57,\n",
       " 61,\n",
       " 62,\n",
       " 64,\n",
       " 65,\n",
       " 65,\n",
       " 66,\n",
       " 66,\n",
       " 66,\n",
       " 66,\n",
       " 67,\n",
       " 68,\n",
       " 70,\n",
       " 70,\n",
       " 70,\n",
       " 71,\n",
       " 71,\n",
       " 72,\n",
       " 72,\n",
       " 72,\n",
       " 72,\n",
       " 72,\n",
       " 73,\n",
       " 74,\n",
       " 74,\n",
       " 75,\n",
       " 76,\n",
       " 76,\n",
       " 76,\n",
       " 76,\n",
       " 77,\n",
       " 77,\n",
       " 78,\n",
       " 78,\n",
       " 78,\n",
       " 79,\n",
       " 79,\n",
       " 80,\n",
       " 80,\n",
       " 80,\n",
       " 81,\n",
       " 81,\n",
       " 82,\n",
       " 82,\n",
       " 83,\n",
       " 83,\n",
       " 83,\n",
       " 84,\n",
       " 84,\n",
       " 84,\n",
       " 85,\n",
       " 86,\n",
       " 86,\n",
       " 86,\n",
       " 87,\n",
       " 87,\n",
       " 87,\n",
       " 87,\n",
       " 88,\n",
       " 88,\n",
       " 88,\n",
       " 88,\n",
       " 88,\n",
       " 89,\n",
       " 89,\n",
       " 89,\n",
       " 90,\n",
       " 90,\n",
       " 90,\n",
       " 90,\n",
       " 91,\n",
       " 92,\n",
       " 92,\n",
       " 92,\n",
       " 93,\n",
       " 93,\n",
       " 93,\n",
       " 93,\n",
       " 95,\n",
       " 95,\n",
       " 96,\n",
       " 96,\n",
       " 96,\n",
       " 96,\n",
       " 97,\n",
       " 97,\n",
       " 98,\n",
       " 98,\n",
       " 99,\n",
       " 99,\n",
       " 100,\n",
       " 100,\n",
       " 100,\n",
       " 101,\n",
       " 101,\n",
       " 101,\n",
       " 102,\n",
       " 102,\n",
       " 103,\n",
       " 103,\n",
       " 104,\n",
       " 104,\n",
       " 104,\n",
       " 105,\n",
       " 105,\n",
       " 105,\n",
       " 105,\n",
       " 105,\n",
       " 105,\n",
       " 105,\n",
       " 105,\n",
       " 105,\n",
       " 108,\n",
       " 108,\n",
       " 108,\n",
       " 108,\n",
       " 108,\n",
       " 108,\n",
       " 109,\n",
       " 109,\n",
       " 110,\n",
       " 110,\n",
       " 110,\n",
       " 111,\n",
       " 111,\n",
       " 112,\n",
       " 113,\n",
       " 113,\n",
       " 113,\n",
       " 114,\n",
       " 114,\n",
       " 114,\n",
       " 114,\n",
       " 115,\n",
       " 115,\n",
       " 115,\n",
       " 115,\n",
       " 117,\n",
       " 117,\n",
       " 117,\n",
       " 118,\n",
       " 118,\n",
       " 119,\n",
       " 119,\n",
       " 119,\n",
       " 119,\n",
       " 120,\n",
       " 122,\n",
       " 123,\n",
       " 123,\n",
       " 123,\n",
       " 123,\n",
       " 123,\n",
       " 124,\n",
       " 125,\n",
       " 126,\n",
       " 127,\n",
       " 128,\n",
       " 128,\n",
       " 129,\n",
       " 130,\n",
       " 131,\n",
       " 131,\n",
       " 132,\n",
       " 132,\n",
       " 134,\n",
       " 134,\n",
       " 134,\n",
       " 135,\n",
       " 135,\n",
       " 136,\n",
       " 136,\n",
       " 136,\n",
       " 137,\n",
       " 138,\n",
       " 138,\n",
       " 138,\n",
       " 139,\n",
       " 140,\n",
       " 144,\n",
       " 145,\n",
       " 146,\n",
       " 146,\n",
       " 146,\n",
       " 146,\n",
       " 147,\n",
       " 149,\n",
       " 150,\n",
       " 150,\n",
       " 150,\n",
       " 150,\n",
       " 151,\n",
       " 152,\n",
       " 152,\n",
       " 152,\n",
       " 153,\n",
       " 153,\n",
       " 153,\n",
       " 154,\n",
       " 154,\n",
       " 154,\n",
       " 155,\n",
       " 155,\n",
       " 156,\n",
       " 156,\n",
       " 156,\n",
       " 156,\n",
       " 157,\n",
       " 157,\n",
       " 157,\n",
       " 157,\n",
       " 158,\n",
       " 158,\n",
       " 159,\n",
       " 159,\n",
       " 160,\n",
       " 160,\n",
       " 160,\n",
       " 160,\n",
       " 162,\n",
       " 164,\n",
       " 166,\n",
       " 167,\n",
       " 167,\n",
       " 168,\n",
       " 170,\n",
       " 170,\n",
       " 170,\n",
       " 170,\n",
       " 171,\n",
       " 172,\n",
       " 172,\n",
       " 173,\n",
       " 173,\n",
       " 173,\n",
       " 174,\n",
       " 174,\n",
       " 175,\n",
       " 175,\n",
       " 176,\n",
       " 176,\n",
       " 177,\n",
       " 178,\n",
       " 179,\n",
       " 179,\n",
       " 180,\n",
       " 180,\n",
       " 180,\n",
       " 182,\n",
       " 183,\n",
       " 183,\n",
       " 183,\n",
       " 184,\n",
       " 184,\n",
       " 184,\n",
       " 185,\n",
       " 185,\n",
       " 185,\n",
       " 185,\n",
       " 186,\n",
       " 186,\n",
       " 186,\n",
       " 188,\n",
       " 189,\n",
       " 190,\n",
       " 190,\n",
       " 192,\n",
       " 192,\n",
       " 192,\n",
       " 196,\n",
       " 196,\n",
       " 196,\n",
       " 197,\n",
       " 197,\n",
       " 202,\n",
       " 202,\n",
       " 202,\n",
       " 203,\n",
       " 204,\n",
       " 206,\n",
       " 207,\n",
       " 209,\n",
       " 210,\n",
       " 210,\n",
       " 211,\n",
       " 212,\n",
       " 213,\n",
       " 214,\n",
       " 216,\n",
       " 219,\n",
       " 220,\n",
       " 221,\n",
       " 221,\n",
       " 222,\n",
       " 222,\n",
       " 224,\n",
       " 225,\n",
       " 225,\n",
       " 226,\n",
       " 227,\n",
       " 228,\n",
       " 229,\n",
       " 230,\n",
       " 231,\n",
       " 233,\n",
       " 236,\n",
       " 236,\n",
       " 237,\n",
       " 241,\n",
       " 243,\n",
       " 244,\n",
       " 245,\n",
       " 247,\n",
       " 249,\n",
       " 254,\n",
       " 254,\n",
       " 258,\n",
       " 259,\n",
       " 259,\n",
       " 261,\n",
       " 261,\n",
       " 265,\n",
       " 267,\n",
       " 268,\n",
       " 269,\n",
       " 276,\n",
       " 276,\n",
       " 290,\n",
       " 295,\n",
       " 301,\n",
       " 306,\n",
       " 312,\n",
       " 396]"
      ]
     },
     "execution_count": 91,
     "metadata": {},
     "output_type": "execute_result"
    }
   ],
   "source": [
    "sorted(sub)"
   ]
  },
  {
   "cell_type": "code",
   "execution_count": 92,
   "id": "3285d51a",
   "metadata": {},
   "outputs": [
    {
     "data": {
      "text/plain": [
       "396"
      ]
     },
     "execution_count": 92,
     "metadata": {},
     "output_type": "execute_result"
    }
   ],
   "source": [
    "max(sub)"
   ]
  },
  {
   "cell_type": "code",
   "execution_count": 93,
   "id": "29afce81",
   "metadata": {},
   "outputs": [
    {
     "data": {
      "text/plain": [
       "33"
      ]
     },
     "execution_count": 93,
     "metadata": {},
     "output_type": "execute_result"
    }
   ],
   "source": [
    "min(sub)"
   ]
  },
  {
   "cell_type": "code",
   "execution_count": 94,
   "id": "6b0aeba6",
   "metadata": {},
   "outputs": [
    {
     "data": {
      "text/plain": [
       "english    500\n",
       "maths       45\n",
       "hindi       89\n",
       "gujrati     28\n",
       "Name: subject marks, dtype: int64"
      ]
     },
     "execution_count": 94,
     "metadata": {},
     "output_type": "execute_result"
    }
   ],
   "source": [
    "# type conversion\n",
    "marks"
   ]
  },
  {
   "cell_type": "code",
   "execution_count": 95,
   "id": "fe2def7f",
   "metadata": {},
   "outputs": [
    {
     "data": {
      "text/plain": [
       "[500, 45, 89, 28]"
      ]
     },
     "execution_count": 95,
     "metadata": {},
     "output_type": "execute_result"
    }
   ],
   "source": [
    "list(marks)"
   ]
  },
  {
   "cell_type": "code",
   "execution_count": 96,
   "id": "0b374a51",
   "metadata": {},
   "outputs": [
    {
     "data": {
      "text/plain": [
       "{'english': np.int64(500),\n",
       " 'maths': np.int64(45),\n",
       " 'hindi': np.int64(89),\n",
       " 'gujrati': np.int64(28)}"
      ]
     },
     "execution_count": 96,
     "metadata": {},
     "output_type": "execute_result"
    }
   ],
   "source": [
    "dict(marks)"
   ]
  },
  {
   "cell_type": "code",
   "execution_count": null,
   "id": "da03d424",
   "metadata": {},
   "outputs": [],
   "source": []
  },
  {
   "cell_type": "markdown",
   "id": "1c526980",
   "metadata": {},
   "source": [
    "# Relational"
   ]
  },
  {
   "cell_type": "code",
   "execution_count": 97,
   "id": "f0872474",
   "metadata": {},
   "outputs": [
    {
     "data": {
      "text/plain": [
       "movie\n",
       "1920 (film)                   Rajniesh Duggall\n",
       "1920: London                     Sharman Joshi\n",
       "1920: The Evil Returns             Vicky Ahuja\n",
       "1971 (2007 film)                Manoj Bajpayee\n",
       "2 States (2014 film)              Arjun Kapoor\n",
       "                                   ...        \n",
       "Zindagi 50-50                              ABC\n",
       "Zindagi Na Milegi Dobara        Hrithik Roshan\n",
       "Zindagi Tere Naam           Mithun Chakraborty\n",
       "Zokkomon                       Darsheel Safary\n",
       "Zor Lagaa Ke...Haiya!            Meghan Jadhav\n",
       "Name: lead, Length: 1500, dtype: object"
      ]
     },
     "execution_count": 97,
     "metadata": {},
     "output_type": "execute_result"
    }
   ],
   "source": [
    "movies"
   ]
  },
  {
   "cell_type": "code",
   "execution_count": 98,
   "id": "516414a7",
   "metadata": {},
   "outputs": [
    {
     "data": {
      "text/plain": [
       "True"
      ]
     },
     "execution_count": 98,
     "metadata": {},
     "output_type": "execute_result"
    }
   ],
   "source": [
    "'Zindagi Tere Naam' in movies # will search for index"
   ]
  },
  {
   "cell_type": "code",
   "execution_count": 99,
   "id": "9e1abe4d",
   "metadata": {},
   "outputs": [
    {
     "data": {
      "text/plain": [
       "False"
      ]
     },
     "execution_count": 99,
     "metadata": {},
     "output_type": "execute_result"
    }
   ],
   "source": [
    "'Hrithik Roshan' in movies # will search for index, not value"
   ]
  },
  {
   "cell_type": "code",
   "execution_count": 100,
   "id": "961b7951",
   "metadata": {},
   "outputs": [
    {
     "data": {
      "text/plain": [
       "True"
      ]
     },
     "execution_count": 100,
     "metadata": {},
     "output_type": "execute_result"
    }
   ],
   "source": [
    "'Hrithik Roshan' in movies.values"
   ]
  },
  {
   "cell_type": "code",
   "execution_count": null,
   "id": "154be5c8",
   "metadata": {},
   "outputs": [],
   "source": []
  },
  {
   "cell_type": "markdown",
   "id": "8e61a061",
   "metadata": {},
   "source": [
    "### Loops"
   ]
  },
  {
   "cell_type": "code",
   "execution_count": 101,
   "id": "807eb086",
   "metadata": {},
   "outputs": [
    {
     "name": "stdout",
     "output_type": "stream",
     "text": [
      "Rajniesh Duggall\n",
      "Sharman Joshi\n",
      "Vicky Ahuja\n",
      "Manoj Bajpayee\n",
      "Arjun Kapoor\n",
      "Barun Sobti\n",
      "Salil Acharya\n",
      "Naseeruddin Shah\n",
      "Aamir Khan\n",
      "Aisha Ahmed\n",
      "Soha Ali Khan\n",
      "Akshaye Khanna\n",
      "Neil Nitin Mukesh\n",
      "Sara Arjun\n",
      "Nargis Fakhri\n",
      "Mouli Ganguly\n",
      "Vipin Sharma\n",
      "Priyanka Chopra\n",
      "Juhi Chawla\n",
      "Atul Kulkarni\n",
      "Kunal Khemu\n",
      "Shawar Ali\n",
      "Kiran Bhatia\n",
      "Shabana Azmi\n",
      "Jimmy Sheirgill\n",
      "Tiger Shroff\n",
      "Sidharth Malhotra\n",
      "Prabhu Deva\n",
      "Neil Nitin Mukesh\n",
      "Govinda\n",
      "Naveen Bawa\n",
      "Amitabh Bachchan\n",
      "Shreyas Talpade\n",
      "Sudesh Berry\n",
      "Madhuri Dixit\n",
      "Paul Sidhu\n",
      "Ajay Devgn\n",
      "Omkar Das Manikpuri\n",
      "Shatrughan Sinha\n",
      "Arun Bakshi\n",
      "Amitabh Bachchan\n",
      "Himesh Reshammiya\n",
      "Akshaye Khanna\n",
      "Priyanshu Chatterjee\n",
      "Amitabh Bachchan\n",
      "John Abraham\n",
      "Emraan Hashmi\n",
      "Aditya Roy Kapoor\n",
      "Ishaan Manhaas\n",
      "Hrishitaa Bhatt\n",
      "Sachiin Joshi\n",
      "Nana Patekar\n",
      "Amitabh Bachchan\n",
      "Farooq Shaikh\n",
      "Fardeen Khan\n",
      "Prabhas\n",
      "Akshay Kumar\n",
      "Rahul Dev\n",
      "Ranbir Kapoor\n",
      "Amitabh Bachchan\n",
      "Kareena Kapoor\n",
      "Tusshar Kapoor\n",
      "Hrithik Roshan\n",
      "Jimmy Sheirgill\n",
      "Abhay Deol\n",
      "Akshay Kumar\n",
      "Rati Agnihotri\n",
      "Yashpal Sharma\n",
      "Akshay Kumar\n",
      "Sidharth Malhotra\n",
      "Rani Mukerji\n",
      "Jackky Bhagnani\n",
      "Ranbir Kapoor\n",
      "Sushama Deshpande\n",
      "Kartik Aaryan\n",
      "Emraan Hashmi\n",
      "Zareen Khan\n",
      "Amitabh Bachchan\n",
      "Akshay Kapoor\n",
      "Manav Kaul\n",
      "Sukhesh Arora\n",
      "Rishi Kapoor\n",
      "Sanjay Dutt\n",
      "Varun Bhagwat\n",
      "Bipasha Basu\n",
      "Aftab Shivdasani\n",
      "Lillete Dubey\n",
      "Ali Asgar\n",
      "Vir Das\n",
      "Pankaj Tripathi\n",
      "Dino Morea\n",
      "Akshay Kumar\n",
      "Akshay Kumar\n",
      "Ayushmann Khurrana\n",
      "Sumit Arora\n",
      "Priyanka Chopra\n",
      "Manisha Koirala\n",
      "Aftab Shivdasani\n",
      "Sanjay Mishra\n",
      "Kay Kay Menon\n",
      "Shashank Udapurkar\n",
      "Raj Singh Chaudhary\n",
      "Sanjay Dutt\n",
      "Sachin Khedekar\n",
      "Nauheed Cyrusi\n",
      "Ajay Devgn\n",
      "Rohit Roy\n",
      "Irrfan Khan\n",
      "Bobby Darling\n",
      "Dharmendra\n",
      "Diljit Dosanjh\n",
      "Yudhveer Bakoliya\n",
      "Amitabh Bachchan\n",
      "Ayushmann Khurrana\n",
      "Sohail Khan\n",
      "Arjun Rampal\n",
      "Asrani\n",
      "Krishna Abhishek\n",
      "Arjun Kapoor\n",
      "Prakash Belawadi\n",
      "Akshay Kumar\n",
      "Emraan Hashmi\n",
      "Emraan Hashmi\n",
      "Shadab Kamal\n",
      "Mithun Chakraborty\n",
      "Amitabh Bachchan\n",
      "Shraddha Kapoor\n",
      "Tiger Shroff\n",
      "Sidharth Malhotra\n",
      "Anisa Butt\n",
      "Jackie Shroff\n",
      "Radhika Apte\n",
      "Sahil Anand\n",
      "Sudha Chandran\n",
      "Nawazuddin Siddiqui\n",
      "Akshay Kumar\n",
      "Manoj Babani\n",
      "Rekha\n",
      "Ranbir Kapoor\n",
      "Ayushmann Khurrana\n",
      "Amitabh Bachchan\n",
      "Varun Dhawan\n",
      "Annu Kapoor\n",
      "Sidhant Gupta\n",
      "Varun Dhawan\n",
      "Amitabh Bachchan\n",
      "Tusshar Kapoor\n",
      "Ranveer Singh\n",
      "Salman Khan\n",
      "Ayushmann Khurrana\n",
      "Asrani\n",
      "Urmila Matondkar\n",
      "Ranveer Singh\n",
      "Manisha Kelkar\n",
      "Hrithik Roshan\n",
      "Jacqueline Fernandez\n",
      "Riteish Deshmukh\n",
      "Riteish Deshmukh\n",
      "Naseeruddin Shah\n",
      "Bobby Deol\n",
      "Ayushmann Khurrana\n",
      "Ranbir Kapoor\n",
      "Sara Loren\n",
      "Bobby Deol\n",
      "Juhi Chawla\n",
      "Sadashiv Amrapurkar\n",
      "John Abraham\n",
      "Vicky Ahuja\n",
      "Shahid Kapoor\n",
      "Reshmi Ghosh\n",
      "Amitabh Bachchan\n",
      "Vaani Kapoor\n",
      "Amitabh Bachchan\n",
      "Rajkummar Rao\n",
      "Sunny Leone\n",
      "Naseeruddin Shah\n",
      "Anil Kapoor\n",
      "Ayushmann Khurrana\n",
      "Ishaan Khattar\n",
      "Mugdha Godse\n",
      "Kunal Khemu\n",
      "Farhan Akhtar\n",
      "Akshay Kumar\n",
      "Tabu\n",
      "Sunny Deol\n",
      "Shaurya Singh\n",
      "Harshvardhan Kapoor\n",
      "Vinay Pathak\n",
      "Vinay Pathak\n",
      "Ali Asgar\n",
      "Akshay Kumar\n",
      "Sunny Leone\n",
      "Ajay Devgn\n",
      "J.D. Chakravarthi\n",
      "Jackie Shroff\n",
      "Amitabh Bachchan\n",
      "Amitabh Bachchan\n",
      "Mischa Barton\n",
      "Dino Morea\n",
      "Sunny Deol\n",
      "Irrfan Khan\n",
      "Naushaad Abbas\n",
      "Danny Denzongpa\n",
      "Pulkit Samrat\n",
      "Amitabh Bachchan\n",
      "Kay Kay Menon\n",
      "Ajay Devgn\n",
      "Jazzy Doe\n",
      "Manish Chaudhary\n",
      "Akash\n",
      "Akshay Kumar\n",
      "Abhishek Bachchan\n",
      "Vidya Balan\n",
      "Salman Khan\n",
      "Amitabh Bachchan\n",
      "Raima Sen\n",
      "Radhika Apte\n",
      "Rani Mukerji\n",
      "Ranbir Kapoor\n",
      "Shreyas Talpade\n",
      "Sunil Pal\n",
      "Amitabh Bachchan\n",
      "Sanjay Dutt\n",
      "Akshay Kumar\n",
      "Shashank Arora\n",
      "Deepika Padukone\n",
      "Vinay Virmani\n",
      "Arjun Mathur\n",
      "Akshay Kumar\n",
      "Apoorva Arora\n",
      "Mona Ambegaonkar\n",
      "Aanchal Dwivedi\n",
      "Saayli Buva\n",
      "Saif Ali Khan\n",
      "Kavin Dave\n",
      "Atul Kulkarni\n",
      "Seema Azmi\n",
      "Abhishek Bachchan\n",
      "Neil Nitin Mukesh\n",
      "Tusshar Kapoor\n",
      "Hemant Gopal\n",
      "Anil Kapoor\n",
      "Akanksha Puri\n",
      "Ajay Devgn\n",
      "Aryan Vaid\n",
      "Naseeruddin Shah\n",
      "Tusshar Kapoor\n",
      "Soha Ali Khan\n",
      "Shah Rukh Khan\n",
      "Arjun Rampal\n",
      "Asrani\n",
      "Sagar Bhangade\n",
      "Richa Chadha\n",
      "Vickrant Mahajan\n",
      "Vinay Pathak\n",
      "Shah Rukh Khan\n",
      "Kareena Kapoor\n",
      "Bobby Deol\n",
      "Shahid Kapoor\n",
      "Somesh Agarwal\n",
      "Samir Aftab\n",
      "Mithun Chakraborty\n",
      "Jimmy Sheirgill\n",
      "Dev Anand\n",
      "Anuj Saxena\n",
      "Ali Zafar\n",
      "Sanjay Dutt\n",
      "Amitabh Bachchan\n",
      "Saif Ali Khan\n",
      "Bipasha Basu\n",
      "Deepika Padukone\n",
      "Jatin Grewal\n",
      "Jimmy Sheirgill\n",
      "Rupa Bhimani\n",
      "Natalia Janoszek\n",
      "Mohammad Amir Naji\n",
      "Farooq Shaikh\n",
      "Aarav Khanna\n",
      "Parveen Kaur\n",
      "Sushmita Sen\n",
      "Rishi Kapoor\n",
      "Manoj Bajpayee\n",
      "Anil Kapoor\n",
      "Deepak Dobriyal\n",
      "Ajay Devgn\n",
      "Kareena Kapoor\n",
      "Zayed Khan\n",
      "Ashok Banthia\n",
      "Sachin Khedekar\n",
      "Rajkummar Rao\n",
      "Mithun Chakraborty\n",
      "Shreyas Talpade\n",
      "Saif Ali Khan\n",
      "Arjun Mathur\n",
      "Sunil Grover\n",
      "Vidyut Jammwal\n",
      "Vidyut Jammwal\n",
      "Ajay Devgn\n",
      "Adhvik Mahajan\n",
      "Bipasha Basu\n",
      "Vira Sathidar\n",
      "Swanand Kirkire\n",
      "Bipasha Basu\n",
      "Emraan Hashmi\n",
      "Randeep Hooda\n",
      "Rishi Kapoor\n",
      "Yogesh Raj Mishra\n",
      "Aditya Roy Kapoor\n",
      "Salman Khan\n",
      "Salman Khan\n",
      "Salman Khan\n",
      "Arjun Rampal\n",
      "Sunil Shetty\n",
      "Himesh Reshammiya\n",
      "Aamir Khan\n",
      "Karisma Kapoor\n",
      "Fardeen Khan\n",
      "Sameera Reddy\n",
      "Amitabh Bachchan\n",
      "Jimmy Sheirgill\n",
      "Ishrat Ali\n",
      "Neil Nitin Mukesh\n",
      "Vinay Pathak\n",
      "Yash Soni\n",
      "Akshay Kumar\n",
      "Ajay Devgn\n",
      "Aftab Shivdasani\n",
      "Rajit Kapoor\n",
      "Arvind Swamy\n",
      "Raghuvir Yadav\n",
      "Manisha Koirala\n",
      "Alia Bhatt\n",
      "Madhuri Dixit\n",
      "Amitabh Bachchan\n",
      "Akshay Kumar\n",
      "Adhyayan Suman\n",
      "Satish Kaushik\n",
      "Imran Khan\n",
      "Cary Elwes\n",
      "Waheeda Rehman\n",
      "Sanjay Dutt\n",
      "Kamal Rashid Khan\n",
      "Akshay Kumar\n",
      "Sasha Aagha\n",
      "Sushant Singh Rajput\n",
      "Amitabh Bachchan\n",
      "Ram Kapoor\n",
      "Shah Rukh Khan\n",
      "RJ Balaji\n",
      "Ishaan Khattar\n",
      "Sanjay Dutt\n",
      "Krrish Chhabria\n",
      "Naseeruddin Shah\n",
      "Pankaj Kapur\n",
      "Ajay Devgn\n",
      "Prateik\n",
      "Muzamil Ibrahim\n",
      "Sharman Joshi\n",
      "Abhishek Bachchan\n",
      "Hrithik Roshan\n",
      "Aamir Khan\n",
      "Paresh Rawal\n",
      "Om Puri\n",
      "Amar Upadhyaya\n",
      "Sushant Singh Rajput\n",
      "Vikaas Kalantari\n",
      "Shahid Kapoor\n",
      "Anil Kapoor\n",
      "Emraan Hashmi\n",
      "Imaaduddin Shah\n",
      "Amitabh Bachchan\n",
      "Himansh Kohli\n",
      "Taapsee Pannu\n",
      "Arjun Rampal\n",
      "Irrfan Khan\n",
      "Shahid Kapoor\n",
      "Salman Khan\n",
      "Kapil Jhaveri\n",
      "Ajay Devgn\n",
      "Zeenat Aman\n",
      "Ira Dubey\n",
      "Shah Rukh Khan\n",
      "Rajniesh Duggall\n",
      "Anupam Kher\n",
      "Harman Baweja\n",
      "John Abraham\n",
      "Rishi Kapoor\n",
      "Kajal Aggarwal\n",
      "Adil Hussain\n",
      "Jackie Shroff\n",
      "Malaika Arora\n",
      "Shah Rukh Khan\n",
      "Shah Rukh Khan\n",
      "Mithun Chakraborty\n",
      "Rishi Kapoor\n",
      "Ronit Roy\n",
      "Ayesha Takia\n",
      "Abhishek Bachchan\n",
      "Akshay Kumar\n",
      "Ayesha Jhulka\n",
      "Sanjay Dutt\n",
      "Ayushmann Khurrana\n",
      "Aseel Adel\n",
      "Ajay Devgn\n",
      "Jayshree Arora\n",
      "Diwakar Pathak\n",
      "Sushmita Sen\n",
      "Vivek Oberoi\n",
      "Ayushmann Khurrana\n",
      "Abhishek Bachchan\n",
      "Zeenat Aman\n",
      "Sanjay Dutt\n",
      "Arbaaz Khan\n",
      "Raj Tara\n",
      "Amitabh Bachchan\n",
      "Nandita Das\n",
      "Sanjay Dutt\n",
      "Abhay Deol\n",
      "Rahul Bose\n",
      "Shiv Darshan\n",
      "Saif Ali Khan\n",
      "Jimmy Sharma\n",
      "Fardeen Khan\n",
      "Kareena Kapoor\n",
      "Sunny Leone\n",
      "Sunil Shetty\n",
      "Anita\n",
      "Bhushan Agarwal\n",
      "Salman Khan\n",
      "Emraan Hashmi\n",
      "Hema Malini\n",
      "Sidharth Malhotra\n",
      "Isha Koppikar\n",
      "Bobby Deol\n",
      "Prateik\n",
      "Anupam Kher\n",
      "Amitabh Bachchan\n",
      "Arjun Rampal\n",
      "Sunil Shetty\n",
      "Sridevi\n",
      "Akshay Kumar\n",
      "Manisha Koirala\n",
      "Mona Ambegaonkar\n",
      "Arshad Warsi\n",
      "Amitabh Bachchan\n",
      "Jimmy Sheirgill\n",
      "Arjun Rampal\n",
      "Shah Rukh Khan\n",
      "Aamir Khan\n",
      "Shilpa Shetty Kundra\n",
      "Priyanka Chopra\n",
      "Gul Panag\n",
      "Sharman Joshi\n",
      "Rajeev Khandelwal\n",
      "Kareena Kapoor\n",
      "Sunil Shetty\n",
      "Sharib Hashmi\n",
      "Deepika Padukone\n",
      "Inaamulhaq\n",
      "Kapil Sharma\n",
      "Aditya Roy Kapoor\n",
      "Jayesh Raj\n",
      "Reef Karim\n",
      "Shahid Kapoor\n",
      "Aftab Shivdasani\n",
      "John Abraham\n",
      "John Abraham\n",
      "Arjun Rampal\n",
      "Arshad Warsi\n",
      "Nawazuddin Siddiqui\n",
      "Avinash Dhyani\n",
      "Bidita Bag\n",
      "Atmaram Bhende\n",
      "Govinda\n",
      "Shubham\n",
      "Jimmy Sheirgill\n",
      "Pulkit Samrat\n",
      "Pulkit Samrat\n",
      "Siddharth Koirala\n",
      "Rushali Arora\n",
      "Rajveer Ankur Singh\n",
      "Akshay Kumar\n",
      "Akshay Kumar\n",
      "Manoj Bajpayee\n",
      "Abhishek Bachchan\n",
      "Akshaye Khanna\n",
      "Sharman Joshi\n",
      "Ajay Devgn\n",
      "Sarita Joshi\n",
      "Manoj Bajpayee\n",
      "Manoj Bajpayee\n",
      "Kangana Ranaut\n",
      "Akshay Kumar\n",
      "Salman Khan\n",
      "Naresh Sharma\n",
      "Mohan Azaad\n",
      "Tusshar Kapoor\n",
      "Utkarsh Sharma\n",
      "Aamir Khan\n",
      "Vidya Balan\n",
      "Sunny Deol\n",
      "Shiney Ahuja\n",
      "Sanaya Irani\n",
      "Riya Vij\n",
      "Isha Koppikar\n",
      "Pankaj Tripathi\n",
      "Gautam Gupta\n",
      "Saif Ali Khan\n",
      "John Abraham\n",
      "Amitabh Bachchan\n",
      "Akshay Kumar\n",
      "Ranveer Singh\n",
      "Dimple Kapadia\n",
      "Ajay Devgn\n",
      "Ajay Devgn\n",
      "Ajay Devgn\n",
      "Deepika Amin\n",
      "Tusshar Kapoor\n",
      "Akshay Kumar\n",
      "Imran Khan\n",
      "Vinay Pathak\n",
      "Vivek Oberoi\n",
      "Urvashi Rautela\n",
      "Vikram Dasu\n",
      "Kunal Khemu\n",
      "Arshad Warsi\n",
      "Kartik Aaryan\n",
      "Madhuri Dixit\n",
      "Kay Kay Menon\n",
      "Sampat Pal Devi\n",
      "Ranveer Singh\n",
      "Dino Morea\n",
      "Ranveer Singh\n",
      "Mithun Chakraborty\n",
      "Hrithik Roshan\n",
      "Amita Pathak\n",
      "Jimmy Sheirgill\n",
      "Sahil Anand\n",
      "Tabu\n",
      "Shraddha Kapoor\n",
      "Paoli Dam\n",
      "Ajay Devgn\n",
      "Rajkummar Rao\n",
      "Talha Arshad Reshi\n",
      "Mukesh Khanna\n",
      "Diana Penty\n",
      "Saif Ali Khan\n",
      "Anay\n",
      "Shah Rukh Khan\n",
      "Sonakshi Sinha\n",
      "Nawazuddin Siddiqui\n",
      "Jackie Shroff\n",
      "Sidharth Malhotra\n",
      "Shraddha Kapoor\n",
      "Jimmy Sheirgill\n",
      "Nikhil Dwivedi\n",
      "Jay Bhanushali\n",
      "Lee Byford\n",
      "Nana Patekar\n",
      "Akshay Kumar\n",
      "Mimoh Chakraborty\n",
      "Aniket Vishwasrao\n",
      "Tabu\n",
      "Makrand Deshpande\n",
      "Naman Jain\n",
      "Shawar Ali\n",
      "Babbu Mann\n",
      "Kay Kay Menon\n",
      "Adhyayan Suman\n",
      "Kajol\n",
      "Sharman Joshi\n",
      "Gul Panag\n",
      "Bobby Deol\n",
      "Suraj Pancholi\n",
      "Sohail Khan\n",
      "Kareena Kapoor\n",
      "Tiger Shroff\n",
      "Ganesh Acharya\n",
      "Juanna Sanghvi\n",
      "Rani Mukerji\n",
      "Sumeet Vyas\n",
      "Alia Bhatt\n",
      "Ajay Devgn\n",
      "Gurmeet Ram Rahim Singh\n",
      "Irrfan Khan\n",
      "Mallika Sherawat\n",
      "Onjolee Nair\n",
      "Akshay Kumar\n",
      "Vivek Oberoi\n",
      "Ranvir Shorey\n",
      "Zara Sheikh\n",
      "Naseeruddin Shah\n",
      "Karan Kundrra\n",
      "Vatsal Sheth\n",
      "Adil Hussain\n",
      "Akshay Kumar\n",
      "Akshay Kumar\n",
      "Akshay Kumar\n",
      "Akshaye Khanna\n",
      "Prit Kamani\n",
      "Anupam Kher\n",
      "Saif Ali Khan\n",
      "Arshad Warsi\n",
      "Tusshar Kapoor\n",
      "Shah Rukh Khan\n",
      "Karanvir Bohra\n",
      "Akshay Kumar\n",
      "Arjun Rampal\n",
      "Omkar Bhatkar\n",
      "Varun Dhawan\n",
      "Saif Ali Khan\n",
      "Akshaye Khanna\n",
      "Gulshan Devaiah\n",
      "Tisca Chopra\n",
      "Juhi Chawla\n",
      "Gulshan Grover\n",
      "Imran Khan\n",
      "Shakti Anand\n",
      "Sunny Deol\n",
      "Sohail Khan\n",
      "Arjun Rampal\n",
      "Vivek Sudershan\n",
      "Arjun Kapoor\n",
      "Jaz Pandher\n",
      "Kirti Kulhari\n",
      "Arjun Rampal\n",
      "Dino Morea\n",
      "Akshay Kumar\n",
      "Ashmit Patel\n",
      "Manoj Bajpayee\n",
      "Shreyas Talpade\n",
      "Amarjeet\n",
      "Naseeruddin Shah\n",
      "Madhavan\n",
      "Arjun Kapoor\n",
      "Preity Zinta\n",
      "Sara Loren\n",
      "Krishna Chaturvedi\n",
      "Dino Morea\n",
      "Rishi Verma\n",
      "Shahid Kapoor\n",
      "Mimoh Chakraborty\n",
      "Manish Anand\n",
      "Vidya Balan\n",
      "Akshay Oberoi\n",
      "Vinay Pathak\n",
      "Prateik\n",
      "Sanjeev Bhaskar\n",
      "Rina Charaniya\n",
      "Sunny Deol\n",
      "Salman Khan\n",
      "Aftab Shivdasani\n",
      "Priyanka Chopra\n",
      "Akshay Anand\n",
      "Shah Rukh Khan\n",
      "Shah Rukh Khan\n",
      "Shahid Kapoor\n",
      "Sidharth Malhotra\n",
      "Amit Sadh\n",
      "Naseeruddin Shah\n",
      "Ranbir Kapoor\n",
      "Govinda\n",
      "Chiranjeevi\n",
      "Priyanka Chopra\n",
      "Salman Khan\n",
      "Rati Agnihotri\n",
      "Fardeen Khan\n",
      "Manoj Bajpayee\n",
      "Javed Jaffrey\n",
      "Purab Kohli\n",
      "Rhea Chakraborty\n",
      "Harish Chabbra\n",
      "Mohit Ahlawat\n",
      "Feroz Khan\n",
      "Emraan Hashmi\n",
      "Amardeep Insan\n",
      "Emraan Hashmi\n",
      "Vivek Oberoi\n",
      "Aishwarya Rai Bachchan\n",
      "Ravi Kishan\n",
      "Arbaaz Khan\n",
      "Boman Irani\n",
      "Sanjay Suri\n",
      "Abhishek Bachchan\n",
      "John Abraham\n",
      "Rishi Kapoor\n",
      "Richa Chadha\n",
      "Harshvardhan Deo\n",
      "Nassar Abdulla\n",
      "Mimoh Chakraborty\n",
      "Bipasha Basu\n",
      "Sunny Deol\n",
      "Sunny Gill\n",
      "Hrithik Roshan\n",
      "Bipasha Basu\n",
      "Victor Banerjee\n",
      "Naseeruddin Shah\n",
      "Dharmendra\n",
      "Akshay Kumar\n",
      "Arshad Warsi\n",
      "Kangana Ranaut\n",
      "Varun Dhawan\n",
      "Sadhana Singh\n",
      "Neha Dhupia\n",
      "Nishikant Kamat\n",
      "Vidyut Jammwal\n",
      "Pulkit Samrat\n",
      "Kamal Adib\n",
      "Fardeen Khan\n",
      "Hrithik Roshan\n",
      "Vinay Pathak\n",
      "Ajay Devgn\n",
      "Saif Ali Khan\n",
      "Aditya Srivastava\n",
      "Kartik Aaryan\n",
      "Amitabh Bachchan\n",
      "Aishwarya Devan\n",
      "Amitabh Bachchan\n",
      "Shahid Kapoor\n",
      "John Abraham\n",
      "Sanjay Mishra\n",
      "Om Puri\n",
      "Vidya Balan\n",
      "Eesha Agarwal\n",
      "Rajkummar Rao\n",
      "Amit Hingorani\n",
      "Shah Rukh Khan\n",
      "Varun Dhawan\n",
      "Kunal Khemu\n",
      "Shahid Kapoor\n",
      "Sidharth Malhotra\n",
      "John Abraham\n",
      "Mahek Chahal\n",
      "Shiv Darshan\n",
      "Rati Agnihotri\n",
      "Siddhartha Gupta\n",
      "Irrfan Khan\n",
      "Himesh Reshammiya\n",
      "Lucky Ali\n",
      "Juhi Babbar\n",
      "Suhaas Ahuja\n",
      "Raqesh Bapat\n",
      "Kunal Kapoor\n",
      "Shahbaaz Khan\n",
      "Akshay Kumar\n",
      "Vinay Pathak\n",
      "Amitabh Bachchan\n",
      "Kiron Kher\n",
      "Shilpa Shetty Kundra\n",
      "Prabhu Deva\n",
      "Gurmeet Choudhary\n",
      "Rahul Jaiswal\n",
      "Akshay Kumar\n",
      "Hazel Croney\n",
      "Sunny Deol\n",
      "Supriya Pathak\n",
      "Sonam Kapoor\n",
      "Anupam Kher\n",
      "Shiney Ahuja\n",
      "Sunny Deol\n",
      "Fardeen Khan\n",
      "Simer Motiani\n",
      "Himanshu Malik\n",
      "Amitabh Bachchan\n",
      "Salman Khan\n",
      "Ranveer Singh\n",
      "Mallika Sherawat\n",
      "Kapil Sharma\n",
      "Jackie Shroff\n",
      "Bobby Deol\n",
      "Shahid Kapoor\n",
      "Vivek Oberoi\n",
      "Vivek Oberoi\n",
      "Arshad Warsi\n",
      "Hrithik Roshan\n",
      "Sanjay Dutt\n",
      "Aftab Shivdasani\n",
      "Dia Mirza\n",
      "Rekha\n",
      "Kannan Arunachalam\n",
      "Juhi Chawla\n",
      "Manoj Bajpayee\n",
      "Sohail Khan\n",
      "Rekha\n",
      "Shefali Shah\n",
      "Tusshar Kapoor\n",
      "Ram Kapoor\n",
      "Aishwarya Rai Bachchan\n",
      "Geetanjali Thapa\n",
      "Arshad Warsi\n",
      "Rekha\n",
      "Siddharth Gupta\n",
      "Lewis Tan\n",
      "Rajpal Yadav\n",
      "Vijay Raaz\n",
      "Tusshar Kapoor\n",
      "Tusshar Kapoor\n",
      "Tusshar Kapoor\n",
      "Riteish Deshmukh\n",
      "Salman Khan\n",
      "Amitabh Bachchan\n",
      "Sanjay Dutt\n",
      "Rani Mukerji\n",
      "Randeep Hooda\n",
      "Ranveer Singh\n",
      "Neil Nitin Mukesh\n",
      "Sanjay Dutt\n",
      "Farooq Shaikh\n",
      "Avinash Tiwary\n",
      "Sunny Deol\n",
      "Monali Thakur\n",
      "Hrithik Roshan\n",
      "Sanjay Dutt\n",
      "Armaan Jain\n",
      "Rituparna Sengupta\n",
      "Manoj Amarnani\n",
      "Kay Kay Menon\n",
      "Aftab Shivdasani\n",
      "Govinda\n",
      "Dharmendra\n",
      "Aahana Kumra\n",
      "Farooq Shaikh\n",
      "John Abraham\n",
      "Himanshu Bhatt\n",
      "Shabana Azmi\n",
      "Salman Khan\n",
      "Ranveer Singh\n",
      "Saif Ali Khan\n",
      "Zayed Khan\n",
      "Patralekhaa Paul\n",
      "Rishi Kapoor\n",
      "Nushrat Bharucha\n",
      "Anuj Sachdeva\n",
      "Abhishek Bharate\n",
      "Harman Baweja\n",
      "Tusshar Kapoor\n",
      "Joy Mukherjee\n",
      "Vicky Kaushal\n",
      "Girish Taurani\n",
      "Mithun Chakraborty\n",
      "Farhan Akhtar\n",
      "Adhyayan Suman\n",
      "Farhan Akhtar\n",
      "Arvinder Bhatti\n",
      "Salman Khan\n",
      "V. Ravichandran\n",
      "Tanuj Virwani\n",
      "Tom Alter\n",
      "Sushant Singh Rajput\n",
      "Menekka Arora\n",
      "Charanpreet Insan\n",
      "Gurmeet Ram Rahim Singh\n",
      "Ashok Insan\n",
      "Mallika Sherawat\n",
      "Raveena Tandon\n",
      "Sumit Nijhawan\n",
      "Swara Bhaskar\n",
      "Kiara Advani\n",
      "Saahil Prem\n",
      "Irrfan Khan\n",
      "Rajkummar Rao\n",
      "Bipasha Basu\n",
      "John Abraham\n",
      "Sooraj Balaji\n",
      "Asha Bhosle\n",
      "Ajay Devgn\n",
      "Barun Sobti\n",
      "Salman Khan\n",
      "Shah Rukh Khan\n",
      "Smitha Gondkar\n",
      "Juhi Chawla\n",
      "Antara Mali\n",
      "Rajpal Yadav\n",
      "Hrithik Roshan\n",
      "Varun Dhawan\n",
      "Anupam Kher\n",
      "Salman Khan\n",
      "Paresh Rawal\n",
      "Akanksha\n",
      "Aamir Khan\n",
      "Kangana Ranaut\n",
      "Nawazuddin Siddiqui\n",
      "Anjori Alagh\n",
      "Taapsee Pannu\n",
      "Abhay Deol\n",
      "Nawazuddin Siddiqui\n",
      "Rajat Kapoor\n",
      "Irrfan Khan\n",
      "Abhimanyu Dasani\n",
      "Rani Mukerji\n",
      "Rani Mukerji\n",
      "Kalki Koechlin\n",
      "Salman Khan\n",
      "Riteish Deshmukh\n",
      "Manisha Koirala\n",
      "Archana Joglekar\n",
      "Priyanka Chopra\n",
      "Richa Chadha\n",
      "Aftab Shivdasani\n",
      "Tusshar Kapoor\n",
      "Rahul Bagga\n",
      "Imran Khan\n",
      "Tulip Joshi\n",
      "Shahid Kapoor\n",
      "Sonu Sood\n",
      "Tabu\n",
      "Anupam Kher\n",
      "Jaideep Ahlawat\n",
      "Puru Chibber\n",
      "Deepti Naval\n",
      "Prabhu Deva\n",
      "Paresh Rawal\n",
      "Imran Khan\n",
      "Saqib Saleem\n",
      "Sunil Shetty\n",
      "Yash Acharya\n",
      "Akshay Kumar\n",
      "Rasika Agashe\n",
      "Akshay Kumar\n",
      "Ayushmann Khurrana\n",
      "Manish Paul\n",
      "Kareena Kapoor\n",
      "Chirag Paswan\n",
      "Arunoday Singh\n",
      "Harshvardhan Kapoor\n",
      "Rahul Bagga\n",
      "Manoj Bajpayee\n",
      "Vivek Oberoi\n",
      "Akshay Kumar\n",
      "Jackky Bhagnani\n",
      "Hazel Croney\n",
      "Neha Dhupia\n",
      "Sunny Deol\n",
      "Hrithik Roshan\n",
      "Sridevi\n",
      "Govinda\n",
      "Ashutosh Rana\n",
      "Vijay Varma\n",
      "Shabana Azmi\n",
      "Nawazuddin Siddiqui\n",
      "Saurav Chakraborty\n",
      "Dev Anand\n",
      "Anupam Kher\n",
      "Prashant Narayanan\n",
      "Emraan Hashmi\n",
      "Anil Kapoor\n",
      "Prithviraj Kapoor\n",
      "Saqib Saleem\n",
      "Salman Khan\n",
      "Sammir Dattani\n",
      "Viineet Kumar\n",
      "Taapsee Pannu\n",
      "Karanvir Bohra\n",
      "Shakti Kapoor\n",
      "Shiv Panditt\n",
      "Mohsin\n",
      "Rahul Bose\n",
      "Paresh Rawal\n",
      "Linda Arsenio\n",
      "Abhishek Bachchan\n",
      "Alieesa P Badresia\n",
      "Kiron Kher\n",
      "Sanjay Dutt\n",
      "Tiger Shroff\n",
      "Sanjay Singh\n",
      "Mallika Sherawat\n",
      "Emraan Hashmi\n",
      "Randeep Hooda\n",
      "Anil Kapoor\n",
      "Aftab Shivdasani\n",
      "Nora Fatehi\n",
      "Jason Lewis\n",
      "Sanjay Suri\n",
      "Prateik\n",
      "Shah Rukh Khan\n",
      "Anil Kapoor\n",
      "Auroshika Dey\n",
      "Anushka Sharma\n",
      "Om Puri\n",
      "Antara Mali\n",
      "Taapsee Pannu\n",
      "Urmila Matondkar\n",
      "Sunny Deol\n",
      "Arjun Kapoor\n",
      "Akshay Kumar\n",
      "Dwij Yadav\n",
      "Abhay Deol\n",
      "Bobby Deol\n",
      "Poonam Pandey\n",
      "Govinda\n",
      "Ayushmann Khurrana\n",
      "Dharmesh Yelande\n",
      "Vikas Kalantri\n",
      "Uday Chopra\n",
      "Sonam Kapoor\n",
      "Sanjay Dutt\n",
      "Vinay Anand\n",
      "John Abraham\n",
      "Rajkummar Rao\n",
      "Swara Bhaskar\n",
      "Ashmit Patel\n",
      "Amitabh Bachchan\n",
      "Anil Kapoor\n",
      "Rani Mukerji\n",
      "Sanjay Dutt\n",
      "John Abraham\n",
      "Sunny Leone\n",
      "Deepak Dobriyal\n",
      "Zaheer Iqbal\n",
      "Madhavan\n",
      "Pulkit Samrat\n",
      "Paresh Rawal\n",
      "Varun Dhawan\n",
      "Vinay Pathak\n",
      "Shraddha Kapoor\n",
      "Attin Bhalla\n",
      "Shah Rukh Khan\n",
      "Gopi Desai\n",
      "Rajkummar Rao\n",
      "Ajay Devgn\n",
      "Ajay Devgn\n",
      "Akshay Kumar\n",
      "Anupam Kher\n",
      "Tusshar Kapoor\n",
      "Abhay Deol\n",
      "Riteish Deshmukh\n",
      "Abhay Deol\n",
      "Meenakshi Dixit\n",
      "Bhavesh Kumar\n",
      "Aamir Khan\n",
      "Boman Irani\n",
      "Amitabh Bachchan\n",
      "Irrfan Khan\n",
      "Nassar Abdulla\n",
      "John Abraham\n",
      "Nana Patekar\n",
      "Deepika Padukone\n",
      "Sunil Shetty\n",
      "Kriti Kharbanda\n",
      "Konkona Sen Sharma\n",
      "Shah Rukh Khan\n",
      "Manisha Koirala\n",
      "Karan Deol\n",
      "Jackie Shroff\n",
      "Nayna Bandhopadhyay\n",
      "Bipasha Basu\n",
      "Mohinder Gujral\n",
      "Tannishtha Chatterjee\n",
      "Saif Ali Khan\n",
      "John Abraham\n",
      "Salman Khan\n",
      "Ajay Devgn\n",
      "Sanya Malhotra\n",
      "Rishi Kapoor\n",
      "Kartik Aaryan\n",
      "Rishi Kapoor\n",
      "Shreyas Talpade\n",
      "Omkar Das Manikpuri\n",
      "Vinod Khanna\n",
      "Jimmy Sheirgill\n",
      "Saif Ali Khan\n",
      "Rajat Kapoor\n",
      "Shahid Kapoor\n",
      "Rajniesh Duggall\n",
      "Anushka Sharma\n",
      "Akshay Kumar\n",
      "Mithun Chakraborty\n",
      "Salman Khan\n",
      "Radhika Apte\n",
      "Sudeep\n",
      "Nawazuddin Siddiqui\n",
      "Rahul Bagga\n",
      "Deepika Padukone\n",
      "Urmila Matondkar\n",
      "Taapsee Pannu\n",
      "Akshay Oberoi\n",
      "Sanjay Dutt\n",
      "Vinod Khanna\n",
      "Akshay Kumar\n",
      "Sanjay Dutt\n",
      "Akshay Kapoor\n",
      "Sunny Deol\n",
      "Raveena Tandon\n",
      "Chandan Roy Sanyal\n",
      "Rajeev Khandelwal\n",
      "Sanjay Dutt\n",
      "Jeetendra\n",
      "Arbaaz Khan\n",
      "Salman Khan\n",
      "Vivek Oberoi\n",
      "Tanuj Virwani\n",
      "Priyanka Chopra\n",
      "Kartik Aaryan\n",
      "Kartik Aaryan\n",
      "Rahul Bose\n",
      "Rishi Kapoor\n",
      "Fardeen Khan\n",
      "Aadar Jain\n",
      "Irrfan Khan\n",
      "Ajay Devgn\n",
      "Irrfan Khan\n",
      "Kangana Ranaut\n",
      "Rajendra Prasad\n",
      "Shah Rukh Khan\n",
      "Deepika Padukone\n",
      "Kunal Kapoor\n",
      "Dhanush\n",
      "Aamir Bashir\n",
      "Abhishek Bachchan\n",
      "Dino Morea\n",
      "Emraan Hashmi\n",
      "Kangana Ranaut\n",
      "Alia Bhatt\n",
      "Shah Rukh Khan\n",
      "Saif Ali Khan\n",
      "Saif Ali Khan\n",
      "Anil Kapoor\n",
      "Raj Arjun\n",
      "Vijay Raaz\n",
      "Kainaz Motivala\n",
      "Sunny Leone\n",
      "Kay Kay Menon\n",
      "Ajay Devgn\n",
      "Ajay Devgn\n",
      "Sadashiv Amrapurkar\n",
      "Emraan Hashmi\n",
      "Kangana Ranaut\n",
      "Amyra Dastur\n",
      "Sanjay Dutt\n",
      "Julia Datt\n",
      "Sahil Khan\n",
      "Shruti Haasan\n",
      "Nawazuddin Siddiqui\n",
      "Manoj Bajpayee\n",
      "Madhavan\n",
      "Naseeruddin Shah\n",
      "Manish Paul\n",
      "Soundarya Sharma\n",
      "Aamir Khan\n",
      "Randeep Hooda\n",
      "Kangana Ranaut\n",
      "Jackky Bhagnani\n",
      "Amitabh Bachchan\n",
      "Rahul Khanna\n",
      "Ajay Devgn\n",
      "Prince Shah\n",
      "Sunil Shetty\n",
      "Sherlyn Chopra\n",
      "Aftab Shivdasani\n",
      "Kashmira Shah\n",
      "Kangana Ranaut\n",
      "Kalki Koechlin\n",
      "Ankit\n",
      "Sunny Deol\n",
      "Vinod Khanna\n",
      "Garima Agarwal\n",
      "Rajesh Khanna\n",
      "Paresh Rawal\n",
      "Saif Ali Khan\n",
      "Aadil Chahal\n",
      "Farhan Akhtar\n",
      "Arjun Rampal\n",
      "Ranbir Kapoor\n",
      "Ranbir Kapoor\n",
      "John Abraham\n",
      "Irrfan Khan\n",
      "Sunny Deol\n",
      "Tanushree Dutta\n",
      "Tannishtha Chatterjee\n",
      "Arjun Rampal\n",
      "Sanjay Dutt\n",
      "Manoj Bajpayee\n",
      "Tanuja\n",
      "Abhishek Bachchan\n",
      "Arsh Bajwa\n",
      "Emraan Hashmi\n",
      "Ileana D'Cruz\n",
      "Jacqueline Fernandez\n",
      "Taapsee Pannu\n",
      "Tanima Bhattacharya\n",
      "Sonarika Bhadoria\n",
      "Vishwa Mohan Badola\n",
      "Kiron Kher\n",
      "Manoj Bajpayee\n",
      "Vivek Oberoi\n",
      "Salman Khan\n",
      "Rani Mukerji\n",
      "John Abraham\n",
      "Swara Bhaskar\n",
      "Sachin Tendulkar\n",
      "Sarika\n",
      "Karan Sharma\n",
      "Rekha\n",
      "Jimmy Sheirgill\n",
      "Sanjay Dutt\n",
      "Jimmy Sheirgill\n",
      "Anupam Kher\n",
      "Saif Ali Khan\n",
      "Salman Khan\n",
      "Zeenat Aman\n",
      "Sushmita Sen\n",
      "Rajeev Khandelwal\n",
      "Rishi Kapoor\n",
      "Govinda\n",
      "Ranbir Kapoor\n",
      "Kay Kay Menon\n",
      "Boman Irani\n",
      "Randeep Hooda\n",
      "Mahima Chaudhry\n",
      "Amitabh Bachchan\n",
      "Amitabh Bachchan\n",
      "Amitabh Bachchan\n",
      "Suraj Pancholi\n",
      "Sanjay Mishra\n",
      "Raveena Tandon\n",
      "Puneet Singh Ratn\n",
      "Amitabh Bachchan\n",
      "John Abraham\n",
      "Mandar Jadhav\n",
      "Dharmendra\n",
      "Zaira Wasim\n",
      "Akshaye Khanna\n",
      "Arshad Warsi\n",
      "Shreyas Talpade\n",
      "Sanjay Suri\n",
      "Salman Khan\n",
      "Farhan Akhtar\n",
      "Rajkummar Rao\n",
      "Fardeen Khan\n",
      "Akshaye Khanna\n",
      "Shahid Kapoor\n",
      "Aditya Narayan\n",
      "Ashish Bisht\n",
      "Sanjay Dutt\n",
      "Ashutosh Rana\n",
      "Isha Koppikar\n",
      "Nana Patekar\n",
      "Rajkummar Rao\n",
      "Kalki Koechlin\n",
      "Bobby Deol\n",
      "Amitabh Bachchan\n",
      "Emraan Hashmi\n",
      "Zayed Khan\n",
      "Tusshar Kapoor\n",
      "Tarun Arora\n",
      "Neha Dhupia\n",
      "Ajay Devgn\n",
      "Aida Elkashef\n",
      "Freny Bhagat\n",
      "Mohit Ahlawat\n",
      "Ajay Devgn\n",
      "Sanjeev Kumar\n",
      "Amitabh Bachchan\n",
      "Sendhil Ramamurthy\n",
      "Jimmy Sheirgill\n",
      "Neil Nitin Mukesh\n",
      "Jimmy Sheirgill\n",
      "Sanjay Dutt\n",
      "Tushar Jalota\n",
      "Ayushmann Khurrana\n",
      "Sushant Singh Rajput\n",
      "Anupam Kher\n",
      "Rajesh Tailang\n",
      "Parzaan Dastur\n",
      "Tabu\n",
      "Ranveer Singh\n",
      "Kangana Ranaut\n",
      "Akshay Kumar\n",
      "Akshay Kumar\n",
      "Sunny Deol\n",
      "Ajay Devgn\n",
      "Anupam Kher\n",
      "Kay Kay Menon\n",
      "Wamiqa Gabbi\n",
      "Barkha Madan\n",
      "Abhay Deol\n",
      "Ajay Devgn\n",
      "Rhea Chakraborty\n",
      "Sushant Singh Rajput\n",
      "Geetika Vidya Ohlyan\n",
      "Sunidhi Chauhan\n",
      "Kartik Aaryan\n",
      "Tinnu Anand\n",
      "Shabana Azmi\n",
      "Shamim Khan\n",
      "Mahima Chaudhry\n",
      "Rati Agnihotri\n",
      "Akshay Kumar\n",
      "Urmila Matondkar\n",
      "Tanishaa Mukerji\n",
      "Aarti Chhabria\n",
      "Partho A. Gupte\n",
      "Kanika Batra\n",
      "Jahangir Khan\n",
      "Jimmy Sheirgill\n",
      "Rajkummar Rao\n",
      "Siddharth\n",
      "Zeenat Aman\n",
      "Alia Bhatt\n",
      "Tiger Shroff\n",
      "Raveena Tandon\n",
      "Anushka Sharma\n",
      "Gurdas Maan\n",
      "Naveen Kasturia\n",
      "Salman Khan\n",
      "Ahraz Ahmed\n",
      "Ajay Devgn\n",
      "Jaya Bachchan\n",
      "Aftab Shivdasani\n",
      "Hrithik Roshan\n",
      "Ashmit Patel\n",
      "Rekha\n",
      "Shah Rukh Khan\n",
      "Manoj Bajpayee\n",
      "Himansh Kohli\n",
      "Saif Ali Khan\n",
      "Darsheel Safary\n",
      "Vatsal Sheth\n",
      "Paresh Rawal\n",
      "Victor Banerjee\n",
      "Zulfi Sayed\n",
      "Sulabha Arya\n",
      "Aamir Khan\n",
      "Rakhee Gulzar\n",
      "Irrfan Khan\n",
      "Nikhil Dwivedi\n",
      "Ajay Devgn\n",
      "Madhavan\n",
      "Kangana Ranaut\n",
      "Kangana Ranaut\n",
      "Akshay Kumar\n",
      "Sanjay Dutt\n",
      "Nana Patekar\n",
      "Amitabh Bachchan\n",
      "Amitabh Bachchan\n",
      "Om Puri\n",
      "Akshay Kumar\n",
      "Sunny Deol\n",
      "Shabana Azmi\n",
      "Dharmendra\n",
      "Neil Nitin Mukesh\n",
      "Ali Zafar\n",
      "Parthaa Akerkar\n",
      "Vinay Pathak\n",
      "Riteish Deshmukh\n",
      "Salman Khan\n",
      "Shahid Kapoor\n",
      "Arjun Kapoor\n",
      "Anil Kapoor\n",
      "Nawazuddin Siddiqui\n",
      "Akshay Kumar\n",
      "Master Shams\n",
      "Anupam Kher\n",
      "Pankaj Kapur\n",
      "Kartik Elangovan\n",
      "Nawazuddin Siddiqui\n",
      "Vidya Balan\n",
      "Nassar Abdulla\n",
      "Ranvir Shorey\n",
      "Kunaal Roy Kapur\n",
      "Rana Daggubati\n",
      "Sunny Deol\n",
      "Rahul Bose\n",
      "Shakti Kapoor\n",
      "Irrfan Khan\n",
      "Amitabh Bachchan\n",
      "Irrfan Khan\n",
      "Kal Penn\n",
      "Edwin Fernandes\n",
      "Akshay Kumar\n",
      "Mann Bagga\n",
      "Zaira Wasim\n",
      "Kay Kay Menon\n",
      "Naseeruddin Shah\n",
      "Emraan Hashmi\n",
      "Himesh Reshammiya\n",
      "Sonam Kapoor\n",
      "Bhavita Anand\n",
      "Saif Ali Khan\n",
      "Arya Babbar\n",
      "Saahil Chadha\n",
      "Aamir Khan\n",
      "Salman Khan\n",
      "Nawazuddin Siddiqui\n",
      "Nishant Dahiya\n",
      "Tabu\n",
      "Akshay Kumar\n",
      "Rakesh Bedi\n",
      "Ajay Devgn\n",
      "Ajay Devgn\n",
      "Ali Zafar\n",
      "Manoj Bajpayee\n",
      "Kunal Khemu\n",
      "Rajkummar Rao\n",
      "Vikrum Kumar\n",
      "Salman Khan\n",
      "Riteish Deshmukh\n",
      "Manisha Koirala\n",
      "Neha Sharma\n",
      "Emraan Hashmi\n",
      "Nana Patekar\n",
      "Sohum Shah\n",
      "Vidya Balan\n",
      "Emraan Hashmi\n",
      "Gul Panag\n",
      "Ajay Devgn\n",
      "Mikaal\n",
      "Rajat Barmecha\n",
      "Shahid Kapoor\n",
      "Rahul Bhat\n",
      "Sunny Singh Nijjar\n",
      "Jimmy Sheirgill\n",
      "Aishwarya Rai Bachchan\n",
      "Aashish Bhatt\n",
      "Emraan Hashmi\n",
      "Rahul Bhat\n",
      "Russell Geoffrey Banks\n",
      "Vicky Kaushal\n",
      "Vinay Pathak\n",
      "Priyanshu Chatterjee\n",
      "Mohit Baghel\n",
      "Arjun Rampal\n",
      "Bobby Deol\n",
      "Shahid Kapoor\n",
      "Vicky Ahuja\n",
      "Shikhi Gupta\n",
      "Salman Khan\n",
      "Shah Rukh Khan\n",
      "Sachiin Joshi\n",
      "Pulkit Samrat\n",
      "Kay Kay Menon\n",
      "Hugh Bonneville\n",
      "Ayushmann Khurrana\n",
      "Harman Baweja\n",
      "Vikram Aditya\n",
      "Amitabh Bachchan\n",
      "Kamal Haasan\n",
      "Shahid Kapoor\n",
      "Kay Kay Menon\n",
      "Leeza Mangaldas\n",
      "Niharica Raizada\n",
      "Rajesh Khanna\n",
      "Shreyas Talpade\n",
      "Arshad Warsi\n",
      "Naseeruddin Shah\n",
      "Sharman Joshi\n",
      "Elisha Kriis\n",
      "Ranbir Kapoor\n",
      "Salman Khan\n",
      "Amitabh Bachchan\n",
      "Sharman Joshi\n",
      "Gurdas Maan\n",
      "Nana Patekar\n",
      "Diganth\n",
      "Akshay Kumar\n",
      "Arshad Warsi\n",
      "Anil Kapoor\n",
      "Shreyas Talpade\n",
      "Boman Irani\n",
      "Manu Rishi Chadha\n",
      "Harman Baweja\n",
      "Emraan Hashmi\n",
      "Kangana Ranaut\n",
      "Sikander Kher\n",
      "Sharman Joshi\n",
      "Indrapal Ahuja\n",
      "Siddhanth Kapoor\n",
      "Prisha Aneja\n",
      "Arjun Rampal\n",
      "Nafisa Ali\n",
      "Dharmendra\n",
      "Rekha\n",
      "Tusshar Kapoor\n",
      "Deepshika Nagpal\n",
      "Anshuman Jha\n",
      "Gavie Chahal\n",
      "Ranbir Kapoor\n",
      "Anya Anand\n",
      "Shah Rukh Khan\n",
      "Anupam Kher\n",
      "Vardhan Puri\n",
      "Jackky Bhagnani\n",
      "Paresh Rawal\n",
      "Ajay Devgn\n",
      "Salman Khan\n",
      "Jeetendra\n",
      "Ajay Devgn\n",
      "Ajay Devgn\n",
      "Vinod Acharya\n",
      "Emraan Hashmi\n",
      "Shah Rukh Khan\n",
      "Mannara Chopra\n",
      "Vivek Oberoi\n",
      "Sanjay Dutt\n",
      "Sushmita Sen\n",
      "ABC\n",
      "Hrithik Roshan\n",
      "Mithun Chakraborty\n",
      "Darsheel Safary\n",
      "Meghan Jadhav\n"
     ]
    }
   ],
   "source": [
    "for i in movies:\n",
    "    print(i)"
   ]
  },
  {
   "cell_type": "code",
   "execution_count": 102,
   "id": "9ef17bab",
   "metadata": {},
   "outputs": [
    {
     "name": "stdout",
     "output_type": "stream",
     "text": [
      "1920 (film)\n",
      "1920: London\n",
      "1920: The Evil Returns\n",
      "1971 (2007 film)\n",
      "2 States (2014 film)\n",
      "22 Yards\n",
      "3 A.M. (2014 film)\n",
      "3 Deewarein\n",
      "3 Idiots\n",
      "3 Storeys\n",
      "31st October (film)\n",
      "36 China Town\n",
      "3G (film)\n",
      "404 (film)\n",
      "5 Weddings\n",
      "68 Pages\n",
      "7 Hours to Go\n",
      "7 Khoon Maaf\n",
      "7½ Phere\n",
      "88 Antop Hill\n",
      "99 (2009 film)\n",
      "99.9 FM (film)\n",
      "?: A Question Mark\n",
      "A Decent Arrangement\n",
      "A Flat (film)\n",
      "A Flying Jatt\n",
      "A Gentleman\n",
      "ABCD 2\n",
      "Aa Dekhen Zara\n",
      "Aa Gaya Hero\n",
      "Aabra Ka Daabra\n",
      "Aag (2007 film)\n",
      "Aagey Se Right\n",
      "Aaj Ka Andha Kanoon\n",
      "Aaja Nachle\n",
      "Aakhari Decision\n",
      "Aakrosh (2010 film)\n",
      "Aalaap (film)\n",
      "Aan: Men at Work\n",
      "Aanch\n",
      "Aankhen (2002 film)\n",
      "Aap Kaa Surroor\n",
      "Aap Ki Khatir (2006 film)\n",
      "Aapko Pehle Bhi Kahin Dekha Hai\n",
      "Aarakshan\n",
      "Aashayein\n",
      "Aashiq Banaya Aapne\n",
      "Aashiqui 2\n",
      "Aashiqui.in\n",
      "Aasma: The Sky Is the Limit\n",
      "Aazaan\n",
      "Ab Tak Chhappan 2\n",
      "Ab Tumhare Hawale Watan Saathiyo\n",
      "Accident on Hill Road\n",
      "Acid Factory\n",
      "Action Jackson (2014 film)\n",
      "Action Replayy\n",
      "Adharm (2006 film)\n",
      "Ae Dil Hai Mushkil\n",
      "Aetbaar\n",
      "Agent Vinod (2012 film)\n",
      "Aggar (film)\n",
      "Agneepath (2012 film)\n",
      "Agnipankh\n",
      "Ahista Ahista (2006 film)\n",
      "Airlift (film)\n",
      "Aisa Kyon Hota Hai?\n",
      "Aisa Yeh Jahaan\n",
      "Aitraaz\n",
      "Aiyaary\n",
      "Aiyyaa\n",
      "Ajab Gazabb Love\n",
      "Ajab Prem Ki Ghazab Kahani\n",
      "Ajji\n",
      "Akaash Vani\n",
      "Aksar\n",
      "Aksar 2\n",
      "Aladin (film)\n",
      "Alag\n",
      "Albert Pinto Ko Gussa Kyun Aata Hai?\n",
      "Aligarh (film)\n",
      "All Is Well (2015 film)\n",
      "All the Best: Fun Begins\n",
      "Allah Ke Banday\n",
      "Alone (2015 Hindi film)\n",
      "Aloo Chaat (film)\n",
      "Always Kabhi Kabhi\n",
      "Amavas\n",
      "Amit Sahni Ki List\n",
      "Anaarkali of Aarah\n",
      "Anamika (2008 film)\n",
      "Andaaz\n",
      "Andaaz\n",
      "Andhadhun\n",
      "Angel (2011 film)\n",
      "Anjaana Anjaani\n",
      "Anjaane (2005 film)\n",
      "Ankahee (2006 film)\n",
      "Ankhon Dekhi\n",
      "Ankur Arora Murder Case\n",
      "Anna (2016 film)\n",
      "Antardwand\n",
      "Anthony Kaun Hai?\n",
      "Anuradha (2014 film)\n",
      "Anwar (2007 film)\n",
      "Apaharan\n",
      "Apartment (film)\n",
      "Apna Asmaan\n",
      "Apna Sapna Money Money\n",
      "Apne\n",
      "Arjun Patiala\n",
      "Arjun: The Warrior Prince\n",
      "Armaan (2003 film)\n",
      "Article 15 (film)\n",
      "Aryan: Unbreakable\n",
      "Asambhav\n",
      "Ata Pata Laapata\n",
      "Aur Pappu Paas Ho Gaya\n",
      "Aurangzeb (film)\n",
      "Aval (2017 film)\n",
      "Awara Paagal Deewana\n",
      "Awarapan\n",
      "Azhar (film)\n",
      "B.A. Pass\n",
      "Baabarr\n",
      "Baabul (2006 film)\n",
      "Baaghi (2016 film)\n",
      "Baaghi 2\n",
      "Baar Baar Dekho\n",
      "Baat Bann Gayi\n",
      "Baaz: A Bird in Danger\n",
      "Baazaar\n",
      "Babloo Happy Hai\n",
      "Babuji Ek Ticket Bambai\n",
      "Babumoshai Bandookbaaz\n",
      "Baby (2015 Hindi film)\n",
      "Bachche Kachche Sachche\n",
      "Bachke Rehna Re Baba\n",
      "Bachna Ae Haseeno\n",
      "Badhaai Ho\n",
      "Badla (2019 film)\n",
      "Badlapur (film)\n",
      "Badlapur Boys\n",
      "Badmashiyaan\n",
      "Badrinath Ki Dulhania\n",
      "Baghban (2003 film)\n",
      "Bajatey Raho\n",
      "Bajirao Mastani\n",
      "Bajrangi Bhaijaan\n",
      "Bala (2019 film)\n",
      "Balwinder Singh Famous Ho Gaya\n",
      "Banaras (2006 film)\n",
      "Band Baaja Baaraat\n",
      "Bandook\n",
      "Bang Bang!\n",
      "Bangistan\n",
      "Banjo (2016 film)\n",
      "Bank Chor\n",
      "Barah Aana\n",
      "Bardaasht\n",
      "Bareilly Ki Barfi\n",
      "Barfi!\n",
      "Barkhaa\n",
      "Barsaat (2005 film)\n",
      "Bas Ek Pal\n",
      "Basti (film)\n",
      "Batla House\n",
      "Battalion 609\n",
      "Batti Gul Meter Chalu\n",
      "Bazaar E Husn\n",
      "Bbuddah... Hoga Terra Baap\n",
      "Befikre\n",
      "Begum Jaan\n",
      "Behen Hogi Teri\n",
      "Beiimaan Love\n",
      "Being Cyrus\n",
      "Bewafaa (2005 film)\n",
      "Bewakoofiyaan\n",
      "Beyond the Clouds (2017 film)\n",
      "Bezubaan Ishq\n",
      "Bhaag Johnny\n",
      "Bhaag Milkha Bhaag\n",
      "Bhagam Bhag\n",
      "Bhagmati (2005 film)\n",
      "Bhaiaji Superhit\n",
      "Bhanwarey\n",
      "Bhavesh Joshi Superhero\n",
      "Bheja Fry (film)\n",
      "Bheja Fry 2\n",
      "Bhola in Bollywood\n",
      "Bhool Bhulaiyaa\n",
      "Bhoomi (film)\n",
      "Bhoot (film)\n",
      "Bhoot Returns\n",
      "Bhoot Unkle\n",
      "Bhoothnath\n",
      "Bhoothnath Returns\n",
      "Bhopal: A Prayer for Rain\n",
      "Bhram\n",
      "Big Brother (2007 film)\n",
      "Billu\n",
      "Bin Bulaye Baraati\n",
      "Bioscopewala\n",
      "Bittoo Boss\n",
      "Black (2005 film)\n",
      "Black Friday (2007 film)\n",
      "Blackmail (2005 film)\n",
      "Blood Brothers (2007 Indian film)\n",
      "Blood Money (2012 film)\n",
      "Bloody Isshq\n",
      "Blue (2009 film)\n",
      "Bluffmaster!\n",
      "Bobby Jasoos\n",
      "Bodyguard (2011 Hindi film)\n",
      "Bol Bachchan\n",
      "Bollywood Diaries\n",
      "Bombairiya\n",
      "Bombay Talkies (film)\n",
      "Bombay Velvet\n",
      "Bombay to Bangkok\n",
      "Bombay to Goa (2007 film)\n",
      "Boom (film)\n",
      "Border (1997 film)\n",
      "Boss (2013 Hindi film)\n",
      "Brahman Naman\n",
      "Break Ke Baad\n",
      "Breakaway (2011 film)\n",
      "Brij Mohan Amar Rahe\n",
      "Brothers (2015 film)\n",
      "Bubble Gum (film)\n",
      "Buddha Mar Gaya\n",
      "Buddha in a Traffic Jam\n",
      "Bullet: Ek Dhamaka\n",
      "Bullett Raja\n",
      "Bumboo\n",
      "Bumm Bumm Bole\n",
      "Bumper Draw\n",
      "Bunty Aur Babli\n",
      "Bypass Road (film)\n",
      "C Kkompany\n",
      "Calapor (film)\n",
      "Calcutta Mail\n",
      "Calendar Girls (2015 film)\n",
      "Cash (2007 film)\n",
      "Chaahat – Ek Nasha\n",
      "Chaalis Chauraasi\n",
      "Chaar Din Ki Chandni\n",
      "Chaarfutiya Chhokare\n",
      "Chak De! India\n",
      "Chakravyuh (2012 film)\n",
      "Chal Chala Chal\n",
      "Chal Pichchur Banate Hain\n",
      "Chalk n Duster\n",
      "Challo Driver\n",
      "Chalo Dilli\n",
      "Chalte Chalte (2003 film)\n",
      "Chameli (film)\n",
      "Chamku\n",
      "Chance Pe Dance\n",
      "Chand Ke Paar Chalo (film)\n",
      "Chand Sa Roshan Chehra\n",
      "Chandni Chowk to China\n",
      "Charas (2004 film)\n",
      "Chargesheet (film)\n",
      "Chase (2010 film)\n",
      "Chashme Baddoor (2013 film)\n",
      "Chatur Singh Two Star\n",
      "Cheeni Kum\n",
      "Chef (2017 film)\n",
      "Chehraa\n",
      "Chennai Express\n",
      "Chetna: The Excitement\n",
      "Chhodon Naa Yaar\n",
      "Chhota Bheem and the Throne of Bali\n",
      "Chicken Curry Law\n",
      "Children of Heaven\n",
      "Children of War (2014 film)\n",
      "Chillar Party\n",
      "Chinar Daastaan-E-Ishq\n",
      "Chingaari\n",
      "Chintu Ji\n",
      "Chittagong (film)\n",
      "Chocolate (2005 film)\n",
      "Chor Chor Super Chor\n",
      "Chori Chori (2003 film)\n",
      "Chup Chup Ke\n",
      "Chura Liyaa Hai Tumne\n",
      "Cigarette Ki Tarah\n",
      "City of Gold (2010 film)\n",
      "CityLights (2014 film)\n",
      "Classic – Dance of Love\n",
      "Click (2010 film)\n",
      "Cocktail (2012 film)\n",
      "Coffee Bloom\n",
      "Coffee with D\n",
      "Commando 3 (film)\n",
      "Commando: A One Man Army\n",
      "Company (film)\n",
      "Contract (2008 film)\n",
      "Corporate (2006 film)\n",
      "Court (film)\n",
      "Crazy Cukkad Family\n",
      "Creature 3D\n",
      "Crook (film)\n",
      "D (film)\n",
      "D-Day (2013 film)\n",
      "Daas Dev\n",
      "Daawat-e-Ishq\n",
      "Dabangg\n",
      "Dabangg 2\n",
      "Dabangg 3\n",
      "Daddy (2017 film)\n",
      "Daddy Cool (2009 Hindi film)\n",
      "Damadamm!\n",
      "Dangal (film)\n",
      "Dangerous Ishhq\n",
      "Darling (2007 Indian film)\n",
      "Darna Mana Hai\n",
      "Darna Zaroori Hai\n",
      "Darr @ the Mall\n",
      "Darwaaza Bandh Rakho\n",
      "Dassehra\n",
      "Dasvidaniya\n",
      "Days of Tafree\n",
      "De Dana Dan\n",
      "De De Pyaar De\n",
      "De Taali\n",
      "Deadline: Sirf 24 Ghante\n",
      "Dear Dad (film)\n",
      "Dear Friend Hitler\n",
      "Dear Maya\n",
      "Dear Zindagi\n",
      "Dedh Ishqiya\n",
      "Deewaar (2004 film)\n",
      "Deewane Huye Paagal\n",
      "Dehraadun Diary\n",
      "Dekh Tamasha Dekh\n",
      "Delhi Belly (film)\n",
      "Delhi Safari\n",
      "Delhi-6\n",
      "Department (film)\n",
      "Deshdrohi\n",
      "Desi Boyz\n",
      "Desi Kattey\n",
      "Detective Byomkesh Bakshy!\n",
      "Dev (2004 film)\n",
      "Devaki (2005 film)\n",
      "Devdas (2002 Hindi film)\n",
      "Devi (2016 film)\n",
      "Dhadak\n",
      "Dhamaal\n",
      "Dhanak\n",
      "Dharam Sankat Mein\n",
      "Dharm (film)\n",
      "Dharti Kahe Pukar Ke (2006 film)\n",
      "Dhobi Ghat (film)\n",
      "Dhokha\n",
      "Dhol (film)\n",
      "Dhoom\n",
      "Dhoom 2\n",
      "Dhoom 3\n",
      "Dhoondte Reh Jaaoge\n",
      "Dhoop\n",
      "Dhund (2003 film)\n",
      "Dil Bechara\n",
      "Dil Bechara Pyaar Ka Maara\n",
      "Dil Bole Hadippa!\n",
      "Dil Dhadakne Do\n",
      "Dil Diya Hai\n",
      "Dil Dosti Etc\n",
      "Dil Jo Bhi Kahey...\n",
      "Dil Jo Na Keh Saka\n",
      "Dil Juunglee\n",
      "Dil Ka Rishta\n",
      "Dil Kabaddi\n",
      "Dil Maange More\n",
      "Dil Ne Jise Apna Kahaa\n",
      "Dil Pardesi Ho Gayaa\n",
      "Dil Toh Baccha Hai Ji\n",
      "Dil Toh Deewana Hai\n",
      "Dilliwali Zaalim Girlfriend\n",
      "Dilwale (2015 film)\n",
      "Direct Ishq\n",
      "Dirty Politics (film)\n",
      "Dishkiyaoon\n",
      "Dishoom\n",
      "Do Dooni Chaar\n",
      "Do Lafzon Ki Kahani (film)\n",
      "Dobaara: See Your Evil\n",
      "Dobara\n",
      "Dolly Ki Doli\n",
      "Don (2006 Hindi film)\n",
      "Don 2\n",
      "Don Muthu Swami\n",
      "Don't Stop Dreaming\n",
      "Dongari Ka Raja\n",
      "Dor (film)\n",
      "Dostana (2008 film)\n",
      "Dosti: Friends Forever\n",
      "Double Cross (2005 film)\n",
      "Double Dhamaal\n",
      "Dream Girl (2019 film)\n",
      "Dreams (2006 film)\n",
      "Drishyam (2015 film)\n",
      "Drona (2008 film)\n",
      "Dude Where's the Party?\n",
      "Dulha Mil Gaya\n",
      "Dum (2003 Hindi film)\n",
      "Dum Laga Ke Haisha\n",
      "Dum Maaro Dum (film)\n",
      "Dunno Y... Na Jaane Kyon\n",
      "Dus\n",
      "Dus Kahaniyaan\n",
      "Eight: The Power of Shani\n",
      "Ek Ajnabee\n",
      "Ek Alag Mausam\n",
      "Ek Aur Ek Gyarah\n",
      "Ek Chalis Ki Last Local\n",
      "Ek Din 24 Ghante\n",
      "Ek Haseena Thi Ek Deewana Tha\n",
      "Ek Hasina Thi (film)\n",
      "Ek Kahani Julie Ki\n",
      "Ek Khiladi Ek Haseena (film)\n",
      "Ek Main Aur Ekk Tu\n",
      "Ek Paheli Leela\n",
      "Ek Se Badhkar Ek (2004 film)\n",
      "Ek Se Bure Do\n",
      "Ek Second... Jo Zindagi Badal De?\n",
      "Ek Tha Tiger\n",
      "Ek Thi Daayan\n",
      "Ek Thi Rani Aisi Bhi\n",
      "Ek Villain\n",
      "Ek Vivaah... Aisa Bhi\n",
      "Ek: The Power of One\n",
      "Ekk Deewana Tha\n",
      "Ekkees Toppon Ki Salaami\n",
      "Eklavya: The Royal Guard\n",
      "Elaan (2005 film)\n",
      "Enemmy\n",
      "English Vinglish\n",
      "Entertainment (2014 film)\n",
      "Escape from Taliban\n",
      "Evening Shadows\n",
      "F.A.L.T.U\n",
      "Family (2006 film)\n",
      "Family of Thakurganj\n",
      "Familywala\n",
      "Fan (film)\n",
      "Fanaa (2006 film)\n",
      "Fareb (2005 film)\n",
      "Fashion (2008 film)\n",
      "Fatso!\n",
      "Ferrari Ki Sawaari\n",
      "Fever (2016 film)\n",
      "Fida\n",
      "Fight Club – Members Only\n",
      "Filmistaan\n",
      "Finding Fanny\n",
      "Firaaq\n",
      "Firangi\n",
      "Fitoor\n",
      "Flat 211\n",
      "Flavors (film)\n",
      "Fool & Final\n",
      "Footpath (2003 film)\n",
      "Force (2011 film)\n",
      "Force 2\n",
      "Fox (film)\n",
      "Fraud Saiyaan\n",
      "Freaky Ali\n",
      "Fredrick (film)\n",
      "From Sydney with Love\n",
      "Fruit and Nut (film)\n",
      "FryDay\n",
      "Fuddu\n",
      "Fugly (film)\n",
      "Fukrey\n",
      "Fukrey Returns\n",
      "Fun – Can Be Dangerous Sometimes\n",
      "Fun2shh... Dudes in the 10th Century\n",
      "G Kutta Se\n",
      "Gabbar Is Back\n",
      "Gabbar Is Back\n",
      "Gali Guleiyan\n",
      "Game (2011 film)\n",
      "Gandhi My Father\n",
      "Gang of Ghosts\n",
      "Gangaajal\n",
      "Gangoobai\n",
      "Gangs of Wasseypur\n",
      "Gangs of Wasseypur – Part 2\n",
      "Gangster (2006 film)\n",
      "Garam Masala (2005 film)\n",
      "Garv: Pride & Honour\n",
      "Gattu\n",
      "Gauri: The Unborn\n",
      "Gayab\n",
      "Genius (2018 Hindi film)\n",
      "Ghajini (2008 film)\n",
      "Ghanchakkar (film)\n",
      "Ghayal: Once Again\n",
      "Ghost (2012 film)\n",
      "Ghost (2019 film)\n",
      "Gippi\n",
      "Girlfriend (2004 film)\n",
      "Global Baba\n",
      "Go (2007 film)\n",
      "Go Goa Gone\n",
      "Goal (2007 Hindi film)\n",
      "God Tussi Great Ho\n",
      "Gold (2018 film)\n",
      "Goliyon Ki Raasleela Ram-Leela\n",
      "Gollu Aur Pappu\n",
      "Golmaal Again\n",
      "Golmaal Returns\n",
      "Golmaal: Fun Unlimited\n",
      "Gone Kesh\n",
      "Good Boy Bad Boy\n",
      "Good Newwz\n",
      "Gori Tere Pyaar Mein\n",
      "Gour Hari Dastaan\n",
      "Grand Masti\n",
      "Great Grand Masti\n",
      "Green Card Fever\n",
      "Guddu Ki Gun\n",
      "Guddu Rangeela\n",
      "Guest iin London\n",
      "Gulaab Gang\n",
      "Gulaal (film)\n",
      "Gulabi Gang (film)\n",
      "Gully Boy\n",
      "Gumnaam – The Mystery\n",
      "Gunday\n",
      "Guru (2007 film)\n",
      "Guzaarish (film)\n",
      "Haal-e-Dil\n",
      "Haasil\n",
      "Hai Apna Dil Toh Awara\n",
      "Haider (film)\n",
      "Half Girlfriend (film)\n",
      "Halkaa\n",
      "Halla Bol\n",
      "Hamari Adhuri Kahani\n",
      "Hamid (film)\n",
      "Hanuman (2005 film)\n",
      "Happy Bhag Jayegi\n",
      "Happy Ending (film)\n",
      "Happy Husbands (2011 film)\n",
      "Happy New Year (2014 film)\n",
      "Happy Phirr Bhag Jayegi\n",
      "Haraamkhor\n",
      "Hari Puttar: A Comedy of Terrors\n",
      "Hasee Toh Phasee\n",
      "Haseena Parkar\n",
      "Hastey Hastey\n",
      "Hate Story\n",
      "Hate Story 2\n",
      "Hate Story 4\n",
      "Hattrick (film)\n",
      "Hatya (2004 film)\n",
      "Haunted – 3D\n",
      "Hava Aney Dey\n",
      "Hawa (film)\n",
      "Hawaa Hawaai\n",
      "Hawaizaada\n",
      "Hawas (2004 film)\n",
      "Hawayein\n",
      "Hazaaron Khwaishein Aisi\n",
      "Heartless (2014 film)\n",
      "Helicopter Eela\n",
      "Hello (2008 film)\n",
      "Hello Darling\n",
      "Help (film)\n",
      "Hero (2015 Hindi film)\n",
      "Heroes (2008 film)\n",
      "Heroine (2012 film)\n",
      "Heropanti\n",
      "Hey Bro\n",
      "Heyy Babyy\n",
      "Hichki\n",
      "High Jack (film)\n",
      "Highway (2014 Hindi film)\n",
      "Himmatwala (2013 film)\n",
      "Hind Ka Napak Ko Jawab: MSG Lion Heart 2\n",
      "Hindi Medium\n",
      "Hisss\n",
      "Holiday (2006 film)\n",
      "Holiday: A Soldier Is Never Off Duty\n",
      "Home Delivery\n",
      "Honeymoon Travels Pvt. Ltd.\n",
      "Honour Killing (film)\n",
      "Hope Aur Hum\n",
      "Horror Story (film)\n",
      "Hostel (2011 film)\n",
      "Hotel Salvation\n",
      "Housefull (2010 film)\n",
      "Housefull 2\n",
      "Housefull 4\n",
      "Hulchul (2004 film)\n",
      "Hum Chaar\n",
      "Hum Hai Raahi Car Ke\n",
      "Hum Tum\n",
      "Hum Tum Aur Ghost\n",
      "Hum Tum Shabana\n",
      "Hum Tumhare Hain Sanam\n",
      "Hume Tumse Pyaar Kitna\n",
      "Humko Deewana Kar Gaye\n",
      "Humko Tumse Pyaar Hai\n",
      "Humne Jeena Seekh Liya\n",
      "Humpty Sharma Ki Dulhania\n",
      "Humshakals\n",
      "Hungama (2003 film)\n",
      "Hunterrr\n",
      "Hyderabad Blues 2\n",
      "I Am (2010 Indian film)\n",
      "I Am Kalam\n",
      "I Hate Luv Storys\n",
      "I Love Desi\n",
      "I Love NY (2015 film)\n",
      "I Proud to Be an Indian\n",
      "I See You (2006 film)\n",
      "Impatient Vivek\n",
      "India's Most Wanted (film)\n",
      "Indian Babu\n",
      "Indu Sarkar\n",
      "Inkaar (2013 film)\n",
      "Insaaf: The Justice\n",
      "Insan\n",
      "Inteha (2003 film)\n",
      "Inteqam: The Perfect Game\n",
      "Iqbal (film)\n",
      "Iqraar by Chance\n",
      "Irada (2017 film)\n",
      "Irudhi Suttru\n",
      "Ishaqzaade\n",
      "Ishkq in Paris\n",
      "Ishq Click\n",
      "Ishq Forever\n",
      "Ishq Hai Tumse\n",
      "Ishq Ke Parindey\n",
      "Ishq Vishk\n",
      "Ishqedarriyaan\n",
      "Ishqeria\n",
      "Ishqiya\n",
      "Isi Life Mein\n",
      "Island City (2015 film)\n",
      "Issaq\n",
      "It's a Wonderful Afterlife\n",
      "JD (film)\n",
      "Jaal: The Trap\n",
      "Jaan-E-Mann\n",
      "Jaane Hoga Kya\n",
      "Jaane Kahan Se Aayi Hai\n",
      "Jaane Kyun De Yaaron\n",
      "Jab Harry Met Sejal\n",
      "Jab Tak Hai Jaan\n",
      "Jab We Met\n",
      "Jabariya Jodi\n",
      "Jack and Dil\n",
      "Jackpot (2013 film)\n",
      "Jagga Jasoos\n",
      "Jahan Jaaeyega Hamen Paaeyega\n",
      "Jai Chiranjeeva\n",
      "Jai Gangaajal\n",
      "Jai Ho (film)\n",
      "Jai Jawaan Jai Kisaan (film)\n",
      "Jai Veeru\n",
      "Jail (2009 film)\n",
      "Jajantaram Mamantaram\n",
      "Jal (film)\n",
      "Jalebi (film)\n",
      "Jalpari: The Desert Mermaid\n",
      "James (2005 film)\n",
      "Janasheen\n",
      "Jannat (film)\n",
      "Jattu Engineer\n",
      "Jawani Diwani: A Youthful Joyride\n",
      "Jayantabhai Ki Luv Story\n",
      "Jazbaa\n",
      "Jeena Hai Toh Thok Daal\n",
      "Jeena Isi Ka Naam Hai (film)\n",
      "Jhalki\n",
      "Jhankaar Beats\n",
      "Jhoom Barabar Jhoom\n",
      "Jhootha Hi Sahi\n",
      "Jhootha Kahin Ka\n",
      "Jia Aur Jia\n",
      "Jigariyaa\n",
      "Jigyaasa\n",
      "Jimmy (2008 film)\n",
      "Jism (2003 film)\n",
      "Jo Bole So Nihaal (film)\n",
      "Jo Hum Chahein\n",
      "Jodhaa Akbar\n",
      "Jodi Breakers\n",
      "Joggers' Park (film)\n",
      "John Day (film)\n",
      "Johnny Gaddaar\n",
      "Joker (2012 film)\n",
      "Jolly LLB\n",
      "Judgementall Hai Kya\n",
      "Judwaa 2\n",
      "Jugni (2016 film)\n",
      "Julie (2004 film)\n",
      "Julie 2\n",
      "Junglee (2019 film)\n",
      "Junooniyat\n",
      "Jurm (2005 film)\n",
      "Just Married (2007 film)\n",
      "Kaabil\n",
      "Kaagaz Ke Fools\n",
      "Kaal (2005 film)\n",
      "Kaalakaandi\n",
      "Kaalo\n",
      "Kaanchi: The Unbreakable\n",
      "Kaante\n",
      "Kaashi in Search of Ganga\n",
      "Kabhi Alvida Naa Kehna\n",
      "Kabir Singh\n",
      "Kabul Express\n",
      "Kadvi Hawa\n",
      "Kagaar: Life on the Edge\n",
      "Kahaani\n",
      "Kahin Hai Mera Pyar\n",
      "Kai Po Che!\n",
      "Kaise Kahoon Ke... Pyaar Hai\n",
      "Kal Ho Naa Ho\n",
      "Kalank\n",
      "Kalyug (2005 film)\n",
      "Kaminey\n",
      "Kapoor & Sons\n",
      "Karam (film)\n",
      "Karar: The Deal\n",
      "Karle Pyaar Karle\n",
      "Karma Aur Holi\n",
      "Karthik Calling Karthik\n",
      "Karwaan\n",
      "Karzzzz\n",
      "Kasak (2005 film)\n",
      "Kash Aap Hamare Hote\n",
      "Katti Batti\n",
      "Kaun Hai Jo Sapno Mein Aaya\n",
      "Kaun Kitne Paani Mein\n",
      "Keep Safe Distance (film)\n",
      "Kesari (film)\n",
      "Khajoor Pe Atke\n",
      "Khakee\n",
      "Khamosh Pani\n",
      "Khamoshh... Khauff Ki Raat\n",
      "Khamoshi (2019 film)\n",
      "Khamoshiyan\n",
      "Khap (film)\n",
      "Khatta Meetha (2010 film)\n",
      "Khel Toh Ab Shuru Hoga\n",
      "Khel – No Ordinary Game\n",
      "Khichdi: The Movie\n",
      "Khoobsurat (2014 film)\n",
      "Khosla Ka Ghosla\n",
      "Khoya Khoya Chand\n",
      "Khuda Kasam\n",
      "Khushi (2003 Hindi film)\n",
      "Khwaabb\n",
      "Khwahish\n",
      "Ki & Ka\n",
      "Kick (2014 film)\n",
      "Kill Dil\n",
      "Kis Kis Ki Kismat\n",
      "Kis Kisko Pyaar Karoon\n",
      "Kisaan\n",
      "Kismat (2004 film)\n",
      "Kismat Konnection\n",
      "Kismat Love Paisa Dilli\n",
      "Kisna: The Warrior Poet\n",
      "Kisse Pyaar Karoon\n",
      "Kites (film)\n",
      "Knock Out (2010 film)\n",
      "Koi Aap Sa\n",
      "Koi Mere Dil Mein Hai\n",
      "Koi... Mil Gaya\n",
      "Koyelaanchal\n",
      "Krazzy 4\n",
      "Krishna Aur Kans\n",
      "Krishna Cottage\n",
      "Krrish\n",
      "Kucch Luv Jaisaa\n",
      "Kucch To Hai\n",
      "Kuch Kuch Locha Hai\n",
      "Kuch Naa Kaho\n",
      "Kuchh Bheege Alfaaz\n",
      "Kuchh Meetha Ho Jaye\n",
      "Kudiyon Ka Hai Zamana\n",
      "Kuku Mathur Ki Jhand Ho Gayi\n",
      "Kurbaan (2009 film)\n",
      "Kushti (film)\n",
      "Kya Dilli Kya Lahore\n",
      "Kya Love Story Hai\n",
      "Kyaa Kool Hai Hum\n",
      "Kyaa Kool Hain Hum 3\n",
      "Kyaa Super Kool Hain Hum\n",
      "Kyon Ki\n",
      "Kyun! Ho Gaya Na...\n",
      "LOC Kargil\n",
      "Laaga Chunari Mein Daag\n",
      "Laal Rang\n",
      "Ladies vs Ricky Bahl\n",
      "Lafangey Parindey\n",
      "Lage Raho Munna Bhai\n",
      "Lahore (film)\n",
      "Laila Majnu (2018 film)\n",
      "Lakeer – Forbidden Lines\n",
      "Lakshmi (2014 film)\n",
      "Lakshya (film)\n",
      "Lamhaa\n",
      "Lekar Hum Deewana Dil\n",
      "Life Express (2010 film)\n",
      "Life Is Beautiful (2014 film)\n",
      "Life Ki Toh Lag Gayi\n",
      "Life Mein Kabhie Kabhiee\n",
      "Life Partner\n",
      "Life in a... Metro\n",
      "Lipstick Under My Burkha\n",
      "Listen... Amaya\n",
      "Little Zizou\n",
      "Login (film)\n",
      "Loins of Punjab Presents\n",
      "London Dreams\n",
      "Lootera\n",
      "Love Aaj Kal\n",
      "Love Breakups Zindagi\n",
      "Love Games (film)\n",
      "Love Ke Chakkar Mein\n",
      "Love Sex Aur Dhokha\n",
      "Love Shagun\n",
      "Love Sonia\n",
      "Love Story 2050\n",
      "Love U...Mr. Kalakaar!\n",
      "Love in Bombay\n",
      "Love per Square Foot\n",
      "Loveshhuda\n",
      "Luck (2009 film)\n",
      "Luck by Chance\n",
      "Luckhnowi Ishq\n",
      "Lucknow Central\n",
      "Lucky Kabootar\n",
      "Lucky: No Time for Love\n",
      "Luv U Alia\n",
      "Luv U Soniyo\n",
      "M Cream\n",
      "M.S. Dhoni: The Untold Story\n",
      "MP3: Mera Pehla Pehla Pyaar\n",
      "MSG-2 The Messenger\n",
      "MSG: The Messenger\n",
      "MSG: The Warrior Lion Heart\n",
      "Maan Gaye Mughal-e-Azam\n",
      "Maatr\n",
      "Maazii\n",
      "Machhli Jal Ki Rani Hai\n",
      "Machine (2017 film)\n",
      "Mad About Dance\n",
      "Madaari\n",
      "Made in China (2019 film)\n",
      "Madhoshi\n",
      "Madras Cafe\n",
      "Magic Magic 3D\n",
      "Mai (2013 film)\n",
      "Main Aisa Hi Hoon\n",
      "Main Aur Mr. Riight\n",
      "Main Aurr Mrs Khanna\n",
      "Main Hoon Na\n",
      "Main Hoon Part-Time Killer\n",
      "Main Krishna Hoon\n",
      "Main Madhuri Dixit Banna Chahti Hoon\n",
      "Main Meri Patni Aur Woh\n",
      "Main Prem Ki Diwani Hoon\n",
      "Main Tera Hero\n",
      "Maine Gandhi Ko Nahin Mara\n",
      "Maine Pyaar Kyun Kiya?\n",
      "Malamaal Weekly\n",
      "Malik Ek\n",
      "Mangal Pandey: The Rising\n",
      "Manikarnika: The Queen of Jhansi\n",
      "Manjhi – The Mountain Man\n",
      "Manjunath (film)\n",
      "Manmarziyaan\n",
      "Manorama Six Feet Under\n",
      "Manto (2018 film)\n",
      "Mantra (2016 film)\n",
      "Maqbool\n",
      "Mard Ko Dard Nahi Hota\n",
      "Mardaani\n",
      "Mardaani 2\n",
      "Margarita with a Straw\n",
      "Marigold (2007 film)\n",
      "Marjaavaan\n",
      "Market (2003 film)\n",
      "Married 2 America\n",
      "Mary Kom (film)\n",
      "Masaan\n",
      "Masti (2004 film)\n",
      "Mastizaade\n",
      "Mastram\n",
      "Matru Ki Bijlee Ka Mandola\n",
      "Matrubhoomi\n",
      "Mausam (2011 film)\n",
      "Maximum (film)\n",
      "Meenaxi: A Tale of Three Cities\n",
      "Meerabai Not Out\n",
      "Meeruthiya Gangsters\n",
      "Meinu Ek Ladki Chaahiye\n",
      "Memories in March\n",
      "Mercury (film)\n",
      "Mere Baap Pehle Aap\n",
      "Mere Brother Ki Dulhan\n",
      "Mere Dad Ki Maruti\n",
      "Mere Dost Picture Abhi Baki Hai\n",
      "Mere Genie Uncle\n",
      "Mere Jeevan Saathi (2006 film)\n",
      "Mere Pyare Prime Minister\n",
      "Meri Biwi Ka Jawaab Nahin\n",
      "Meri Pyaari Bindu\n",
      "Mickey Virus\n",
      "Milenge Milenge\n",
      "Miley Naa Miley Hum\n",
      "Mirch\n",
      "Mirzya (film)\n",
      "Miss Tanakpur Haazir Ho\n",
      "Missing (2018 film)\n",
      "Mission Istaanbul\n",
      "Mission Mangal\n",
      "Mitron\n",
      "Mittal v/s Mittal\n",
      "Moh Maya Money\n",
      "Mohalla Assi\n",
      "Mohenjo Daro (film)\n",
      "Mom (film)\n",
      "Money Hai Toh Honey Hai\n",
      "Monica (film)\n",
      "Monsoon Shootout\n",
      "Morning Raga\n",
      "Motichoor Chaknachoor\n",
      "Motu Patlu: King of Kings\n",
      "Mr Prime Minister\n",
      "Mr. Bhatti on Chutti\n",
      "Mr. Singh Mrs. Mehta\n",
      "Mr. X (2015 film)\n",
      "Mubarakan\n",
      "Mughal-e-Azam\n",
      "Mujhse Fraaandship Karoge\n",
      "Mujhse Shaadi Karogi\n",
      "Mukhbiir\n",
      "Mukkabaaz\n",
      "Mulk (film)\n",
      "Mumbai 125 KM\n",
      "Mumbai Can Dance Saala\n",
      "Mumbai Delhi Mumbai\n",
      "Mumbai Mast Kallander\n",
      "Mumbai Matinee\n",
      "Mumbai Meri Jaan\n",
      "Mumbai Salsa\n",
      "Mumbai Se Aaya Mera Dost\n",
      "Mumbhai Connection\n",
      "Mummy Punjabi\n",
      "Munna Bhai M.B.B.S.\n",
      "Munna Michael\n",
      "Murari the Mad Gentleman\n",
      "Murder (2004 film)\n",
      "Murder 2\n",
      "Murder 3\n",
      "Musafir (2004 film)\n",
      "Muskaan\n",
      "My Birthday Song\n",
      "My Bollywood Bride\n",
      "My Brother…Nikhil\n",
      "My Friend Pinto\n",
      "My Name Is Khan\n",
      "My Wife's Murder\n",
      "NH-8 Road to Nidhivan\n",
      "NH10 (film)\n",
      "Na Ghar Ke Na Ghaat Ke\n",
      "Naach (2004 film)\n",
      "Naam Shabana\n",
      "Naina (2005 film)\n",
      "Naksha\n",
      "Namaste England\n",
      "Namastey London\n",
      "Nanhe Jaisalmer\n",
      "Nanu Ki Jaanu\n",
      "Naqaab\n",
      "Nasha (film)\n",
      "Naughty @ 40\n",
      "Nautanki Saala!\n",
      "Nawabzaade\n",
      "Nayee Padosan\n",
      "Neal 'n' Nikki\n",
      "Neerja\n",
      "Nehlle Pe Dehlla\n",
      "Netaji Subhas Chandra Bose: The Forgotten Hero\n",
      "New York (2009 film)\n",
      "Newton (film)\n",
      "Nil Battey Sannata\n",
      "Nirdosh\n",
      "Nishabd\n",
      "No Entry\n",
      "No One Killed Jessica\n",
      "No Problem (2010 film)\n",
      "No Smoking (2007 film)\n",
      "Noor (film)\n",
      "Not a Love Story (2011 film)\n",
      "Notebook (2019 film)\n",
      "Nothing but Life\n",
      "O Teri\n",
      "OMG – Oh My God!\n",
      "October (2018 film)\n",
      "Oh My God (2008 film)\n",
      "Ok Jaanu\n",
      "Om (2003 film)\n",
      "Om Shanti Om\n",
      "Om-Dar-B-Dar\n",
      "Omerta (film)\n",
      "Omkara (2006 film)\n",
      "Once Upon a Time in Mumbaai\n",
      "Once Upon ay Time in Mumbai Dobaara!\n",
      "One Day: Justice Delivered\n",
      "One Two Three\n",
      "One by Two (2014 film)\n",
      "Out of Control (2003 film)\n",
      "Oye Lucky! Lucky Oye!\n",
      "P Se PM Tak\n",
      "P Se Pyaar F Se Faraar\n",
      "PK (film)\n",
      "PM Narendra Modi\n",
      "Paa (film)\n",
      "Paan Singh Tomar (film)\n",
      "Paanch Ghantey Mien Paanch Crore\n",
      "Paap\n",
      "Paathshaala\n",
      "Padmaavat\n",
      "Padmashree Laloo Prasad Yadav\n",
      "Pagalpanti (2019 film)\n",
      "Page 3 (film)\n",
      "Paheli\n",
      "Paisa Vasool\n",
      "Pal Pal Dil Ke Paas\n",
      "Paltan (film)\n",
      "Panchlait\n",
      "Pankh\n",
      "Paranthe Wali Gali\n",
      "Parched\n",
      "Parineeta (2005 film)\n",
      "Parmanu: The Story of Pokhran\n",
      "Partner (2007 film)\n",
      "Parwana (2003 film)\n",
      "Pataakha\n",
      "Patel Ki Punjabi Shaadi\n",
      "Pati Patni Aur Woh (2019 film)\n",
      "Patiala House (film)\n",
      "Paying Guests\n",
      "Peepli Live\n",
      "Pehchaan: The Face of Truth\n",
      "Phamous\n",
      "Phantom (2015 film)\n",
      "Phas Gaye Re Obama\n",
      "Phata Poster Nikhla Hero\n",
      "Phhir\n",
      "Phillauri (film)\n",
      "Phir Hera Pheri\n",
      "Phir Kabhi\n",
      "Phir Milenge\n",
      "Phobia (2016 film)\n",
      "Phoonk 2\n",
      "Photograph (film)\n",
      "Pihu\n",
      "Piku\n",
      "Pinjar (film)\n",
      "Pink (2016 film)\n",
      "Pizza (2014 film)\n",
      "Plan (film)\n",
      "Players (2012 film)\n",
      "Police Force: An Inside Story\n",
      "Policegiri\n",
      "Popcorn Khao! Mast Ho Jao\n",
      "Poster Boys\n",
      "Praan Jaye Par Shaan Na Jaye\n",
      "Prague (2013 film)\n",
      "Pranaam\n",
      "Prassthanam\n",
      "Prateeksha\n",
      "Prem Kaa Game\n",
      "Prem Ratan Dhan Payo\n",
      "Prince (2010 film)\n",
      "Purani Jeans\n",
      "Pyaar Impossible!\n",
      "Pyaar Ka Punchnama\n",
      "Pyaar Ka Punchnama 2\n",
      "Pyaar Ke Side Effects\n",
      "Pyaar Mein Twist\n",
      "Pyare Mohan\n",
      "Qaidi Band\n",
      "Qarib Qarib Singlle\n",
      "Qayamat: City Under Threat\n",
      "Qissa (film)\n",
      "Queen (2014 film)\n",
      "Quick Gun Murugun\n",
      "Ra.One\n",
      "Raabta (film)\n",
      "Raag Desh (film)\n",
      "Raanjhanaa\n",
      "Raat Gayi Baat Gayi?\n",
      "Raavan\n",
      "Raaz (2002 film)\n",
      "Raaz: Reboot\n",
      "Raaz: The Mystery Continues\n",
      "Raazi\n",
      "Rab Ne Bana Di Jodi\n",
      "Race (2008 film)\n",
      "Race 2\n",
      "Race 3\n",
      "Raees (film)\n",
      "Raghu Romeo\n",
      "Ragini MMS\n",
      "Ragini MMS 2\n",
      "Rahasya\n",
      "Raid (2018 film)\n",
      "Raincoat (film)\n",
      "Raja Bhaiya (film)\n",
      "Raja Natwarlal\n",
      "Rajjo\n",
      "Rajma Chawal\n",
      "Rakht\n",
      "Rakhtbeej\n",
      "Ramaa: The Saviour\n",
      "Ramaiya Vastavaiya\n",
      "Raman Raghav 2.0\n",
      "Ramayana: The Epic\n",
      "Ramji Londonwaley\n",
      "Ramprasad Ki Tehrvi\n",
      "Ranbanka\n",
      "Ranchi Diaries\n",
      "Rang De Basanti\n",
      "Rang Rasiya\n",
      "Rangoon (2017 Hindi film)\n",
      "Rangrezz\n",
      "Rann (film)\n",
      "Raqeeb\n",
      "Rascals (2011 film)\n",
      "Rebellious Flower\n",
      "Red Alert: The War Within\n",
      "Red Swastik\n",
      "Red: The Dark Side\n",
      "Revati (film)\n",
      "Revolver Rani\n",
      "Ribbon (film)\n",
      "Right Here Right Now (film)\n",
      "Right Yaaa Wrong\n",
      "Risk (2007 film)\n",
      "Risknamaa\n",
      "Riyasat (film)\n",
      "Road to Sangam\n",
      "Roadside Romeo\n",
      "Roar: Tigers of the Sundarbans\n",
      "Rock On 2\n",
      "Rock On!!\n",
      "Rocket Singh: Salesman of the Year\n",
      "Rockstar (2011 film)\n",
      "Rocky Handsome\n",
      "Rog\n",
      "Rok Sako To Rok Lo\n",
      "Rokkk\n",
      "Rough Book\n",
      "Roy (film)\n",
      "Rudraksh (film)\n",
      "Rukh (film)\n",
      "Rules: Pyaar Ka Superhit Formula\n",
      "Run (2004 film)\n",
      "Running Shaadi\n",
      "Rush (2012 film)\n",
      "Rustom (film)\n",
      "Saaho\n",
      "Saand Ki Aankh\n",
      "Saankal\n",
      "Saansein\n",
      "Saare Jahaan Se Mehnga\n",
      "Saas Bahu Aur Sensex\n",
      "Saat Uchakkey\n",
      "Saathiya (film)\n",
      "Saawan... The Love Season\n",
      "Saawariya\n",
      "Saaya (2003 film)\n",
      "Sabki Bajegi Band\n",
      "Sachin: A Billion Dreams\n",
      "Sacred Evil – A True Story\n",
      "Sadda Adda\n",
      "Sadiyaan\n",
      "Saheb Biwi Aur Gangster\n",
      "Saheb Biwi Aur Gangster 3\n",
      "Saheb Biwi Aur Gangster Returns\n",
      "Sahi Dhandhe Galat Bande\n",
      "Salaam Namaste\n",
      "Salaam-e-Ishq: A Tribute to Love\n",
      "Sallu Ki Shaadi\n",
      "Samay: When Time Strikes\n",
      "Samrat & Co.\n",
      "Sanam Re\n",
      "Sandwich (2006 film)\n",
      "Sanju\n",
      "Sankat City\n",
      "Santa Banta Pvt Ltd\n",
      "Sarbjit (film)\n",
      "Sarhad Paar\n",
      "Sarkar (2005 film)\n",
      "Sarkar 3\n",
      "Sarkar Raj\n",
      "Satellite Shankar\n",
      "Satrangee Parachute\n",
      "Satta (film)\n",
      "Satya 2\n",
      "Satyagraha (film)\n",
      "Satyameva Jayate (2018 film)\n",
      "Say Salaam India\n",
      "Second Hand Husband\n",
      "Secret Superstar\n",
      "Section 375\n",
      "Sehar\n",
      "Setters (film)\n",
      "Shaadi Ka Laddoo\n",
      "Shaadi Karke Phas Gaya Yaar\n",
      "Shaadi Ke Side Effects\n",
      "Shaadi Mein Zaroor Aana\n",
      "Shaadi No. 1\n",
      "Shaadi Se Pehle\n",
      "Shaandaar\n",
      "Shaapit\n",
      "Shab (film)\n",
      "Shabd (film)\n",
      "Shabnam Mausi\n",
      "Shabri\n",
      "Shagird (2011 film)\n",
      "Shahid (film)\n",
      "Shaitan (film)\n",
      "Shakalaka Boom Boom\n",
      "Shamitabh\n",
      "Shanghai (2012 film)\n",
      "Sharafat Gayi Tel Lene\n",
      "Shart: The Challenge\n",
      "Sheen (film)\n",
      "Sheesha (2005 film)\n",
      "Shikhar (film)\n",
      "Ship of Theseus (film)\n",
      "Shirin Farhad Ki Toh Nikal Padi\n",
      "Shiva (2006 film)\n",
      "Shivaay\n",
      "Sholay\n",
      "Shootout at Lokhandwala\n",
      "Shor in the City\n",
      "Shorgul\n",
      "Shortcut Romeo\n",
      "Shortcut Safari\n",
      "Shortkut\n",
      "Showbiz (film)\n",
      "Shubh Mangal Saavdhan\n",
      "Shuddh Desi Romance\n",
      "Shukriya: Till Death Do Us Apart\n",
      "Siddharth (2013 film)\n",
      "Sikandar (2009 film)\n",
      "Silsiilay\n",
      "Simmba\n",
      "Simran (film)\n",
      "Singh Is Bliing\n",
      "Singh Is Kinng\n",
      "Singh Saab the Great\n",
      "Singham\n",
      "Singham Returns\n",
      "Sirf (film)\n",
      "Sixteen (2013 Indian film)\n",
      "Soch Lo\n",
      "Socha Na Tha\n",
      "Son of Sardaar\n",
      "Sonali Cable\n",
      "Sonchiriya\n",
      "Soni (film)\n",
      "Sons of Ram\n",
      "Sonu Ke Titu Ki Sweety\n",
      "Sooper Se Ooper\n",
      "Sorry Bhai!\n",
      "Sorry Daddy\n",
      "Souten: The Other Woman\n",
      "Spark (2014 film)\n",
      "Special 26\n",
      "Speed (2007 film)\n",
      "Sssshhh...\n",
      "Ssukh\n",
      "Stanley Ka Dabba\n",
      "Station (2014 film)\n",
      "Staying Alive (2012 film)\n",
      "Strangers (2007 Hindi film)\n",
      "Stree (2018 film)\n",
      "Striker (2010 film)\n",
      "Strings of Passion\n",
      "Student of the Year\n",
      "Student of the Year 2\n",
      "Stumped (film)\n",
      "Sui Dhaaga\n",
      "Sukhmani: Hope for Life\n",
      "Sulemani Keeda\n",
      "Sultan (2016 film)\n",
      "Summer 2007\n",
      "Sunday (2008 film)\n",
      "Sunglass (film)\n",
      "Suno Sasurjee\n",
      "Super 30 (film)\n",
      "Super Model (film)\n",
      "Super Nani\n",
      "Swades\n",
      "Swami (2007 film)\n",
      "Sweetiee Weds NRI\n",
      "Ta Ra Rum Pum\n",
      "Taare Zameen Par\n",
      "Taarzan: The Wonder Car\n",
      "Table No. 21\n",
      "Tahaan\n",
      "Taj Mahal: An Eternal Love Story\n",
      "Take It Easy (2015 film)\n",
      "Talaash: The Answer Lies Within\n",
      "Talaash: The Hunt Begins...\n",
      "Talvar (film)\n",
      "Tamanchey\n",
      "Tango Charlie\n",
      "Tanu Weds Manu\n",
      "Tanu Weds Manu: Returns\n",
      "Tanu Weds Manu: Returns\n",
      "Tashan (film)\n",
      "Tathastu\n",
      "Taxi No. 9211\n",
      "Te3n\n",
      "Teen Patti (film)\n",
      "Teen Thay Bhai\n",
      "Tees Maar Khan (2010 film)\n",
      "Teesri Aankh: The Hidden Camera\n",
      "Tehzeeb (2003 film)\n",
      "Tell Me O Kkhuda\n",
      "Tera Kya Hoga Johnny\n",
      "Tere Bin Laden\n",
      "Tere Bin Laden: Dead or Alive\n",
      "Tere Mere Phere\n",
      "Tere Naal Love Ho Gaya\n",
      "Tere Naam\n",
      "Teri Meri Kahaani (film)\n",
      "Tevar\n",
      "Tezz\n",
      "Thackeray (film)\n",
      "Thank You (2011 film)\n",
      "Thanks Maa\n",
      "The Accidental Prime Minister (film)\n",
      "The Blue Umbrella (2005 film)\n",
      "The Blueberry Hunt\n",
      "The Bypass\n",
      "The Dirty Picture\n",
      "The Film\n",
      "The Film Emotional Atyachar\n",
      "The Final Exit\n",
      "The Ghazi Attack\n",
      "The Hero: Love Story of a Spy\n",
      "The Japanese Wife\n",
      "The Journey of Karma\n",
      "The Killer (2006 film)\n",
      "The Last Lear\n",
      "The Lunchbox\n",
      "The Namesake (film)\n",
      "The Pink Mirror\n",
      "The Shaukeens\n",
      "The Silent Heroes\n",
      "The Sky Is Pink\n",
      "The Stoneman Murders\n",
      "The Tashkent Files\n",
      "The Train (2007 film)\n",
      "The Xposé\n",
      "The Zoya Factor (film)\n",
      "Thoda Lutf Thoda Ishq\n",
      "Thoda Pyaar Thoda Magic\n",
      "Thoda Tum Badlo Thoda Hum\n",
      "Thodi Life Thoda Magic\n",
      "Thugs of Hindostan\n",
      "Tiger Zinda Hai\n",
      "Titli (2014 film)\n",
      "Titoo MBA\n",
      "Toh Baat Pakki!\n",
      "Toilet: Ek Prem Katha\n",
      "Tom Dick and Harry (2006 film)\n",
      "Toonpur Ka Super Hero\n",
      "Total Dhamaal\n",
      "Total Siyapaa\n",
      "Traffic (2016 film)\n",
      "Traffic Signal (film)\n",
      "Trapped (2016 Hindi film)\n",
      "Trump Card (film)\n",
      "Tubelight (2017 Hindi film)\n",
      "Tujhe Meri Kasam\n",
      "Tulsi (film)\n",
      "Tum Bin II\n",
      "Tum Mile\n",
      "Tum Milo Toh Sahi\n",
      "Tumbbad\n",
      "Tumhari Sulu\n",
      "Tumsa Nahin Dekha: A Love Story\n",
      "Turning 30\n",
      "U Me Aur Hum\n",
      "U R My Jaan\n",
      "Udaan (2010 film)\n",
      "Udta Punjab\n",
      "Ugly (film)\n",
      "Ujda Chaman\n",
      "Umar (film)\n",
      "Umrao Jaan (2006 film)\n",
      "Umrika\n",
      "Ungli\n",
      "Union Leader (film)\n",
      "United Six\n",
      "Uri: The Surgical Strike\n",
      "Utt Pataang\n",
      "Utthaan\n",
      "Uvaa\n",
      "Vaada (film)\n",
      "Vaada Raha\n",
      "Vaah! Life Ho Toh Aisi!\n",
      "Vaastu Shastra (film)\n",
      "Valentine's Night\n",
      "Veer (2010 film)\n",
      "Veer-Zaara\n",
      "Veerappan (2016 film)\n",
      "Veerey Ki Wedding\n",
      "Via Darjeeling\n",
      "Viceroy's House (film)\n",
      "Vicky Donor\n",
      "Victory (2009 film)\n",
      "Vidyaarthi\n",
      "Viruddh... Family Comes First\n",
      "Vishwaroopam\n",
      "Vivah\n",
      "Vodka Diaries\n",
      "W (2014 film)\n",
      "Waarrior Savitri\n",
      "Wafa: A Deadly Love Story\n",
      "Wah Taj\n",
      "Waisa Bhi Hota Hai Part II\n",
      "Waiting (2015 film)\n",
      "Wajah Tum Ho\n",
      "Wake Up India\n",
      "Wake Up Sid\n",
      "Wanted (2009 film)\n",
      "Waqt: The Race Against Time\n",
      "War Chhod Na Yaar\n",
      "Waris Shah: Ishq Daa Waaris\n",
      "Wedding Anniversary\n",
      "Wedding Pullav\n",
      "Welcome (2007 film)\n",
      "Welcome 2 Karachi\n",
      "Welcome Back (film)\n",
      "Welcome to Sajjanpur\n",
      "Well Done Abba\n",
      "What the Fish\n",
      "What's Your Raashee?\n",
      "Why Cheat India\n",
      "Woh Lamhe...\n",
      "Woodstock Villa\n",
      "Xcuse Me\n",
      "Ya Rab\n",
      "Yaaram (2019 film)\n",
      "Yadvi – The Dignified Princess\n",
      "Yakeen (2005 film)\n",
      "Yamla Pagla Deewana\n",
      "Yamla Pagla Deewana: Phir Se\n",
      "Yatra (2007 film)\n",
      "Yeh Dil\n",
      "Yeh Dooriyan\n",
      "Yeh Hai Bakrapur\n",
      "Yeh Hai India\n",
      "Yeh Jawaani Hai Deewani\n",
      "Yeh Khula Aasmaan\n",
      "Yeh Lamhe Judaai Ke\n",
      "Yeh Mera India\n",
      "Yeh Saali Aashiqui\n",
      "Youngistaan\n",
      "Yun Hota Toh Kya Hota\n",
      "Yuva\n",
      "Yuvvraaj\n",
      "Zamaanat\n",
      "Zameen (2003 film)\n",
      "Zameer: The Fire Within\n",
      "Zed Plus\n",
      "Zeher\n",
      "Zero (2018 film)\n",
      "Zid (2014 film)\n",
      "Zila Ghaziabad\n",
      "Zinda (film)\n",
      "Zindaggi Rocks\n",
      "Zindagi 50-50\n",
      "Zindagi Na Milegi Dobara\n",
      "Zindagi Tere Naam\n",
      "Zokkomon\n",
      "Zor Lagaa Ke...Haiya!\n"
     ]
    }
   ],
   "source": [
    "for i in movies.index:\n",
    "    print(i)"
   ]
  },
  {
   "cell_type": "code",
   "execution_count": 103,
   "id": "2a42522a",
   "metadata": {},
   "outputs": [],
   "source": [
    "# arithmatic operation"
   ]
  },
  {
   "cell_type": "code",
   "execution_count": 104,
   "id": "920d9b68",
   "metadata": {},
   "outputs": [
    {
     "data": {
      "text/plain": [
       "english    500\n",
       "maths       45\n",
       "hindi       89\n",
       "gujrati     28\n",
       "Name: subject marks, dtype: int64"
      ]
     },
     "execution_count": 104,
     "metadata": {},
     "output_type": "execute_result"
    }
   ],
   "source": [
    "marks"
   ]
  },
  {
   "cell_type": "code",
   "execution_count": 105,
   "id": "1d8f152f",
   "metadata": {},
   "outputs": [
    {
     "data": {
      "text/plain": [
       "english   -400\n",
       "maths       55\n",
       "hindi       11\n",
       "gujrati     72\n",
       "Name: subject marks, dtype: int64"
      ]
     },
     "execution_count": 105,
     "metadata": {},
     "output_type": "execute_result"
    }
   ],
   "source": [
    "100 - marks"
   ]
  },
  {
   "cell_type": "code",
   "execution_count": 106,
   "id": "d01c37ca",
   "metadata": {},
   "outputs": [],
   "source": [
    "# relational operator"
   ]
  },
  {
   "cell_type": "code",
   "execution_count": 107,
   "id": "be2a3fff",
   "metadata": {},
   "outputs": [
    {
     "data": {
      "text/plain": [
       "match_no\n",
       "8        0\n",
       "87       0\n",
       "93       0\n",
       "91       0\n",
       "206      0\n",
       "      ... \n",
       "164    100\n",
       "120    100\n",
       "123    108\n",
       "126    109\n",
       "128    113\n",
       "Name: runs, Length: 215, dtype: int64"
      ]
     },
     "execution_count": 107,
     "metadata": {},
     "output_type": "execute_result"
    }
   ],
   "source": [
    "vk"
   ]
  },
  {
   "cell_type": "code",
   "execution_count": 108,
   "id": "7e6e53ac",
   "metadata": {},
   "outputs": [
    {
     "data": {
      "text/plain": [
       "match_no\n",
       "8      False\n",
       "87     False\n",
       "93     False\n",
       "91     False\n",
       "206    False\n",
       "       ...  \n",
       "164     True\n",
       "120     True\n",
       "123     True\n",
       "126     True\n",
       "128     True\n",
       "Name: runs, Length: 215, dtype: bool"
      ]
     },
     "execution_count": 108,
     "metadata": {},
     "output_type": "execute_result"
    }
   ],
   "source": [
    "vk >= 50"
   ]
  },
  {
   "cell_type": "code",
   "execution_count": 109,
   "id": "ed7211fe",
   "metadata": {},
   "outputs": [
    {
     "data": {
      "text/plain": [
       "match_no\n",
       "15      50\n",
       "182     50\n",
       "197     51\n",
       "71      51\n",
       "103     51\n",
       "122     52\n",
       "198     53\n",
       "131     54\n",
       "129     54\n",
       "137     55\n",
       "44      56\n",
       "85      56\n",
       "144     57\n",
       "57      57\n",
       "80      57\n",
       "34      58\n",
       "209     58\n",
       "141     58\n",
       "73      58\n",
       "104     62\n",
       "132     62\n",
       "134     64\n",
       "74      65\n",
       "45      67\n",
       "162     67\n",
       "97      67\n",
       "148     68\n",
       "52      70\n",
       "152     70\n",
       "41      71\n",
       "175     72\n",
       "188     72\n",
       "68      73\n",
       "213     73\n",
       "99      73\n",
       "127     75\n",
       "116     75\n",
       "117     79\n",
       "119     80\n",
       "110     82\n",
       "160     84\n",
       "178     90\n",
       "145     92\n",
       "81      93\n",
       "82      99\n",
       "164    100\n",
       "120    100\n",
       "123    108\n",
       "126    109\n",
       "128    113\n",
       "Name: runs, dtype: int64"
      ]
     },
     "execution_count": 109,
     "metadata": {},
     "output_type": "execute_result"
    }
   ],
   "source": [
    "vk[vk>=50]"
   ]
  },
  {
   "cell_type": "code",
   "execution_count": null,
   "id": "08e287a5",
   "metadata": {},
   "outputs": [],
   "source": []
  },
  {
   "cell_type": "code",
   "execution_count": 110,
   "id": "104b6df9",
   "metadata": {},
   "outputs": [
    {
     "data": {
      "text/plain": [
       "50"
      ]
     },
     "execution_count": 110,
     "metadata": {},
     "output_type": "execute_result"
    }
   ],
   "source": [
    "vk[vk>=50].size"
   ]
  },
  {
   "cell_type": "code",
   "execution_count": 111,
   "id": "05d30f87",
   "metadata": {},
   "outputs": [
    {
     "data": {
      "text/plain": [
       "9"
      ]
     },
     "execution_count": 111,
     "metadata": {},
     "output_type": "execute_result"
    }
   ],
   "source": [
    "vk[vk==0].size"
   ]
  },
  {
   "cell_type": "code",
   "execution_count": 112,
   "id": "5b01bf3d",
   "metadata": {},
   "outputs": [
    {
     "data": {
      "text/plain": [
       "59"
      ]
     },
     "execution_count": 112,
     "metadata": {},
     "output_type": "execute_result"
    }
   ],
   "source": [
    "sub[sub>200].size"
   ]
  },
  {
   "cell_type": "code",
   "execution_count": 113,
   "id": "eca056db",
   "metadata": {},
   "outputs": [
    {
     "data": {
      "text/plain": [
       "lead\n",
       "Akshay Kumar        48\n",
       "Amitabh Bachchan    45\n",
       "Ajay Devgn          38\n",
       "Salman Khan         31\n",
       "Sanjay Dutt         26\n",
       "Shah Rukh Khan      22\n",
       "Emraan Hashmi       21\n",
       "Name: count, dtype: int64"
      ]
     },
     "execution_count": 113,
     "metadata": {},
     "output_type": "execute_result"
    }
   ],
   "source": [
    "movies.value_counts()[movies.value_counts()>20]"
   ]
  },
  {
   "cell_type": "code",
   "execution_count": null,
   "id": "931c6960",
   "metadata": {},
   "outputs": [],
   "source": []
  },
  {
   "cell_type": "code",
   "execution_count": 114,
   "id": "4274e75b",
   "metadata": {},
   "outputs": [],
   "source": [
    "# plotting graphs on series"
   ]
  },
  {
   "cell_type": "code",
   "execution_count": 115,
   "id": "8f38b6cb",
   "metadata": {},
   "outputs": [
    {
     "data": {
      "text/plain": [
       "<Axes: >"
      ]
     },
     "execution_count": 115,
     "metadata": {},
     "output_type": "execute_result"
    },
    {
     "data": {
      "image/png": "[encoded data removed]",
      "text/plain": [
       "<Figure size 640x480 with 1 Axes>"
      ]
     },
     "metadata": {},
     "output_type": "display_data"
    }
   ],
   "source": [
    "sub.plot()"
   ]
  },
  {
   "cell_type": "code",
   "execution_count": 116,
   "id": "80465f72",
   "metadata": {},
   "outputs": [
    {
     "data": {
      "text/plain": [
       "<Axes: xlabel='lead'>"
      ]
     },
     "execution_count": 116,
     "metadata": {},
     "output_type": "execute_result"
    },
    {
     "data": {
      "image/png": "[encoded data removed]",
      "text/plain": [
       "<Figure size 640x480 with 1 Axes>"
      ]
     },
     "metadata": {},
     "output_type": "display_data"
    }
   ],
   "source": [
    "movies.value_counts().head(10).plot(kind='bar')"
   ]
  },
  {
   "cell_type": "code",
   "execution_count": 117,
   "id": "bc25ae97",
   "metadata": {},
   "outputs": [
    {
     "data": {
      "text/plain": [
       "<Axes: ylabel='count'>"
      ]
     },
     "execution_count": 117,
     "metadata": {},
     "output_type": "execute_result"
    },
    {
     "data": {
      "image/png": "[encoded data removed]",
      "text/plain": [
       "<Figure size 640x480 with 1 Axes>"
      ]
     },
     "metadata": {},
     "output_type": "display_data"
    }
   ],
   "source": [
    "movies.value_counts().head(10).plot(kind='pie')"
   ]
  },
  {
   "cell_type": "code",
   "execution_count": null,
   "id": "771b106d",
   "metadata": {},
   "outputs": [],
   "source": []
  },
  {
   "cell_type": "markdown",
   "id": "e5d85d99",
   "metadata": {},
   "source": [
    "# Important Series Methods.."
   ]
  },
  {
   "cell_type": "code",
   "execution_count": 118,
   "id": "4395053a",
   "metadata": {},
   "outputs": [],
   "source": [
    "import numpy as np\n",
    "import pandas as pd"
   ]
  },
  {
   "cell_type": "code",
   "execution_count": 119,
   "id": "cd9e5430",
   "metadata": {},
   "outputs": [
    {
     "data": {
      "text/plain": [
       "movie\n",
       "Uri: The Surgical Strike                   Vicky Kaushal\n",
       "Battalion 609                                Vicky Ahuja\n",
       "The Accidental Prime Minister (film)         Anupam Kher\n",
       "Why Cheat India                            Emraan Hashmi\n",
       "Evening Shadows                         Mona Ambegaonkar\n",
       "                                              ...       \n",
       "Hum Tumhare Hain Sanam                    Shah Rukh Khan\n",
       "Aankhen (2002 film)                     Amitabh Bachchan\n",
       "Saathiya (film)                             Vivek Oberoi\n",
       "Company (film)                                Ajay Devgn\n",
       "Awara Paagal Deewana                        Akshay Kumar\n",
       "Name: lead, Length: 1500, dtype: object"
      ]
     },
     "execution_count": 119,
     "metadata": {},
     "output_type": "execute_result"
    }
   ],
   "source": [
    "movies = pd.read_csv('Series Dataset/bollywood.csv',index_col='movie').squeeze()\n",
    "movies"
   ]
  },
  {
   "cell_type": "code",
   "execution_count": 120,
   "id": "b449b102",
   "metadata": {},
   "outputs": [
    {
     "data": {
      "text/plain": [
       "match_no\n",
       "1       1\n",
       "2      23\n",
       "3      13\n",
       "4      12\n",
       "5       1\n",
       "       ..\n",
       "211     0\n",
       "212    20\n",
       "213    73\n",
       "214    25\n",
       "215     7\n",
       "Name: runs, Length: 215, dtype: int64"
      ]
     },
     "execution_count": 120,
     "metadata": {},
     "output_type": "execute_result"
    }
   ],
   "source": [
    "vk = pd.read_csv('Series Dataset/kohli_ipl.csv',index_col='match_no').squeeze()\n",
    "vk"
   ]
  },
  {
   "cell_type": "code",
   "execution_count": 121,
   "id": "60578fe9",
   "metadata": {},
   "outputs": [
    {
     "data": {
      "text/plain": [
       "0       48\n",
       "1       57\n",
       "2       40\n",
       "3       43\n",
       "4       44\n",
       "      ... \n",
       "360    231\n",
       "361    226\n",
       "362    155\n",
       "363    144\n",
       "364    172\n",
       "Name: Subscribers gained, Length: 365, dtype: int64"
      ]
     },
     "execution_count": 121,
     "metadata": {},
     "output_type": "execute_result"
    }
   ],
   "source": [
    "subs = pd.read_csv('Series Dataset/subs.csv').squeeze()\n",
    "subs"
   ]
  },
  {
   "cell_type": "code",
   "execution_count": 122,
   "id": "821aa3b2",
   "metadata": {},
   "outputs": [
    {
     "data": {
      "text/plain": [
       "3472"
      ]
     },
     "execution_count": 122,
     "metadata": {},
     "output_type": "execute_result"
    }
   ],
   "source": [
    "# astype\n",
    "import sys\n",
    "sys.getsizeof(vk)"
   ]
  },
  {
   "cell_type": "code",
   "execution_count": 123,
   "id": "f24b0359",
   "metadata": {},
   "outputs": [
    {
     "data": {
      "text/plain": [
       "match_no\n",
       "1       1\n",
       "2      23\n",
       "3      13\n",
       "4      12\n",
       "5       1\n",
       "       ..\n",
       "211     0\n",
       "212    20\n",
       "213    73\n",
       "214    25\n",
       "215     7\n",
       "Name: runs, Length: 215, dtype: int16"
      ]
     },
     "execution_count": 123,
     "metadata": {},
     "output_type": "execute_result"
    }
   ],
   "source": [
    "vk.astype('int16')"
   ]
  },
  {
   "cell_type": "code",
   "execution_count": 124,
   "id": "c39150c0",
   "metadata": {},
   "outputs": [
    {
     "data": {
      "text/plain": [
       "2182"
      ]
     },
     "execution_count": 124,
     "metadata": {},
     "output_type": "execute_result"
    }
   ],
   "source": [
    "sys.getsizeof(vk.astype('int16'))"
   ]
  },
  {
   "cell_type": "code",
   "execution_count": null,
   "id": "d441ea58",
   "metadata": {},
   "outputs": [],
   "source": []
  },
  {
   "cell_type": "code",
   "execution_count": 125,
   "id": "220fdd05",
   "metadata": {},
   "outputs": [
    {
     "data": {
      "text/plain": [
       "match_no\n",
       "1       1\n",
       "2      23\n",
       "3      13\n",
       "4      12\n",
       "5       1\n",
       "       ..\n",
       "211     0\n",
       "212    20\n",
       "213    73\n",
       "214    25\n",
       "215     7\n",
       "Name: runs, Length: 215, dtype: int64"
      ]
     },
     "execution_count": 125,
     "metadata": {},
     "output_type": "execute_result"
    }
   ],
   "source": [
    "# between\n",
    "vk"
   ]
  },
  {
   "cell_type": "code",
   "execution_count": 126,
   "id": "728c0305",
   "metadata": {},
   "outputs": [
    {
     "data": {
      "text/plain": [
       "43"
      ]
     },
     "execution_count": 126,
     "metadata": {},
     "output_type": "execute_result"
    }
   ],
   "source": [
    "vk[vk.between(51,99)].size"
   ]
  },
  {
   "cell_type": "code",
   "execution_count": 127,
   "id": "09df8ee6",
   "metadata": {},
   "outputs": [
    {
     "data": {
      "text/plain": [
       "0       48\n",
       "1       57\n",
       "2       40\n",
       "3       43\n",
       "4       44\n",
       "      ... \n",
       "360    231\n",
       "361    226\n",
       "362    155\n",
       "363    144\n",
       "364    172\n",
       "Name: Subscribers gained, Length: 365, dtype: int64"
      ]
     },
     "execution_count": 127,
     "metadata": {},
     "output_type": "execute_result"
    }
   ],
   "source": [
    "# clip\n",
    "subs"
   ]
  },
  {
   "cell_type": "code",
   "execution_count": 128,
   "id": "68ee678a",
   "metadata": {},
   "outputs": [
    {
     "data": {
      "text/plain": [
       "0      100\n",
       "1      100\n",
       "2      100\n",
       "3      100\n",
       "4      100\n",
       "      ... \n",
       "360    200\n",
       "361    200\n",
       "362    155\n",
       "363    144\n",
       "364    172\n",
       "Name: Subscribers gained, Length: 365, dtype: int64"
      ]
     },
     "execution_count": 128,
     "metadata": {},
     "output_type": "execute_result"
    }
   ],
   "source": [
    "subs.clip(100,200)"
   ]
  },
  {
   "cell_type": "code",
   "execution_count": null,
   "id": "7498ffb3",
   "metadata": {},
   "outputs": [],
   "source": []
  },
  {
   "cell_type": "code",
   "execution_count": 129,
   "id": "06127b79",
   "metadata": {},
   "outputs": [
    {
     "data": {
      "text/plain": [
       "0    1\n",
       "1    1\n",
       "2    2\n",
       "3    2\n",
       "4    3\n",
       "5    3\n",
       "6    4\n",
       "7    4\n",
       "dtype: int64"
      ]
     },
     "execution_count": 129,
     "metadata": {},
     "output_type": "execute_result"
    }
   ],
   "source": [
    "# drop_duplicates()\n",
    "temp = pd.Series([1,1,2,2,3,3,4,4])\n",
    "temp"
   ]
  },
  {
   "cell_type": "code",
   "execution_count": 130,
   "id": "ef812da7",
   "metadata": {},
   "outputs": [
    {
     "data": {
      "text/plain": [
       "0    1\n",
       "2    2\n",
       "4    3\n",
       "6    4\n",
       "dtype: int64"
      ]
     },
     "execution_count": 130,
     "metadata": {},
     "output_type": "execute_result"
    }
   ],
   "source": [
    "temp.drop_duplicates()"
   ]
  },
  {
   "cell_type": "code",
   "execution_count": 131,
   "id": "4dd539d5",
   "metadata": {},
   "outputs": [
    {
     "data": {
      "text/plain": [
       "1    1\n",
       "3    2\n",
       "5    3\n",
       "7    4\n",
       "dtype: int64"
      ]
     },
     "execution_count": 131,
     "metadata": {},
     "output_type": "execute_result"
    }
   ],
   "source": [
    "temp.drop_duplicates(keep='last')"
   ]
  },
  {
   "cell_type": "code",
   "execution_count": 132,
   "id": "53d2b17d",
   "metadata": {},
   "outputs": [
    {
     "data": {
      "text/plain": [
       "movie\n",
       "Uri: The Surgical Strike                   Vicky Kaushal\n",
       "Battalion 609                                Vicky Ahuja\n",
       "The Accidental Prime Minister (film)         Anupam Kher\n",
       "Why Cheat India                            Emraan Hashmi\n",
       "Evening Shadows                         Mona Ambegaonkar\n",
       "                                              ...       \n",
       "Sssshhh...                              Tanishaa Mukerji\n",
       "Rules: Pyaar Ka Superhit Formula                  Tanuja\n",
       "Right Here Right Now (film)                        Ankit\n",
       "Talaash: The Hunt Begins...                Rakhee Gulzar\n",
       "The Pink Mirror                          Edwin Fernandes\n",
       "Name: lead, Length: 566, dtype: object"
      ]
     },
     "execution_count": 132,
     "metadata": {},
     "output_type": "execute_result"
    }
   ],
   "source": [
    "movies.drop_duplicates()"
   ]
  },
  {
   "cell_type": "code",
   "execution_count": null,
   "id": "fb67b147",
   "metadata": {},
   "outputs": [],
   "source": []
  },
  {
   "cell_type": "code",
   "execution_count": 133,
   "id": "3876717f",
   "metadata": {},
   "outputs": [
    {
     "data": {
      "text/plain": [
       "0    False\n",
       "1     True\n",
       "2    False\n",
       "3     True\n",
       "4    False\n",
       "5     True\n",
       "6    False\n",
       "7     True\n",
       "dtype: bool"
      ]
     },
     "execution_count": 133,
     "metadata": {},
     "output_type": "execute_result"
    }
   ],
   "source": [
    "# duplicated()\n",
    "temp.duplicated()"
   ]
  },
  {
   "cell_type": "code",
   "execution_count": 134,
   "id": "6e45b72f",
   "metadata": {},
   "outputs": [
    {
     "data": {
      "text/plain": [
       "np.int64(4)"
      ]
     },
     "execution_count": 134,
     "metadata": {},
     "output_type": "execute_result"
    }
   ],
   "source": [
    "temp.duplicated().sum()"
   ]
  },
  {
   "cell_type": "code",
   "execution_count": 135,
   "id": "a28495bb",
   "metadata": {},
   "outputs": [],
   "source": [
    "# missing values\n",
    "temp = pd.Series([1,2,3,np.nan,4,5,6,np.nan,7,np.nan,8,9,9,10])"
   ]
  },
  {
   "cell_type": "code",
   "execution_count": 136,
   "id": "89f31e1b",
   "metadata": {},
   "outputs": [
    {
     "data": {
      "text/plain": [
       "14"
      ]
     },
     "execution_count": 136,
     "metadata": {},
     "output_type": "execute_result"
    }
   ],
   "source": [
    "temp.size # count all"
   ]
  },
  {
   "cell_type": "code",
   "execution_count": 137,
   "id": "be5297ee",
   "metadata": {},
   "outputs": [
    {
     "data": {
      "text/plain": [
       "np.int64(11)"
      ]
     },
     "execution_count": 137,
     "metadata": {},
     "output_type": "execute_result"
    }
   ],
   "source": [
    "temp.count()  # count non empty.."
   ]
  },
  {
   "cell_type": "code",
   "execution_count": 138,
   "id": "bf29fdd5",
   "metadata": {},
   "outputs": [
    {
     "data": {
      "text/plain": [
       "Series([], Name: runs, dtype: int64)"
      ]
     },
     "execution_count": 138,
     "metadata": {},
     "output_type": "execute_result"
    }
   ],
   "source": [
    "# isnull\n",
    "vk[vk.isnull()]"
   ]
  },
  {
   "cell_type": "code",
   "execution_count": 139,
   "id": "a0adb34a",
   "metadata": {},
   "outputs": [
    {
     "data": {
      "text/plain": [
       "np.int64(3)"
      ]
     },
     "execution_count": 139,
     "metadata": {},
     "output_type": "execute_result"
    }
   ],
   "source": [
    "temp.isnull().sum()"
   ]
  },
  {
   "cell_type": "code",
   "execution_count": null,
   "id": "88a11b66",
   "metadata": {},
   "outputs": [],
   "source": []
  },
  {
   "cell_type": "code",
   "execution_count": 140,
   "id": "9b70daa6",
   "metadata": {},
   "outputs": [
    {
     "data": {
      "text/plain": [
       "0      1.0\n",
       "1      2.0\n",
       "2      3.0\n",
       "4      4.0\n",
       "5      5.0\n",
       "6      6.0\n",
       "8      7.0\n",
       "10     8.0\n",
       "11     9.0\n",
       "12     9.0\n",
       "13    10.0\n",
       "dtype: float64"
      ]
     },
     "execution_count": 140,
     "metadata": {},
     "output_type": "execute_result"
    }
   ],
   "source": [
    "# dropna --> remove missing value\n",
    "temp.dropna()"
   ]
  },
  {
   "cell_type": "code",
   "execution_count": 141,
   "id": "5fb24d9e",
   "metadata": {},
   "outputs": [
    {
     "data": {
      "text/plain": [
       "0      1.0\n",
       "1      2.0\n",
       "2      3.0\n",
       "3      0.0\n",
       "4      4.0\n",
       "5      5.0\n",
       "6      6.0\n",
       "7      0.0\n",
       "8      7.0\n",
       "9      0.0\n",
       "10     8.0\n",
       "11     9.0\n",
       "12     9.0\n",
       "13    10.0\n",
       "dtype: float64"
      ]
     },
     "execution_count": 141,
     "metadata": {},
     "output_type": "execute_result"
    }
   ],
   "source": [
    "# fillna\n",
    "temp.fillna(0)"
   ]
  },
  {
   "cell_type": "code",
   "execution_count": 142,
   "id": "1d428e91",
   "metadata": {},
   "outputs": [
    {
     "data": {
      "text/plain": [
       "0      1.000000\n",
       "1      2.000000\n",
       "2      3.000000\n",
       "3      5.818182\n",
       "4      4.000000\n",
       "5      5.000000\n",
       "6      6.000000\n",
       "7      5.818182\n",
       "8      7.000000\n",
       "9      5.818182\n",
       "10     8.000000\n",
       "11     9.000000\n",
       "12     9.000000\n",
       "13    10.000000\n",
       "dtype: float64"
      ]
     },
     "execution_count": 142,
     "metadata": {},
     "output_type": "execute_result"
    }
   ],
   "source": [
    "temp.fillna(temp.mean())"
   ]
  },
  {
   "cell_type": "code",
   "execution_count": null,
   "id": "a2b14b34",
   "metadata": {},
   "outputs": [],
   "source": []
  },
  {
   "cell_type": "code",
   "execution_count": 143,
   "id": "6f3a0253",
   "metadata": {},
   "outputs": [
    {
     "data": {
      "text/plain": [
       "match_no\n",
       "1       1\n",
       "2      23\n",
       "3      13\n",
       "4      12\n",
       "5       1\n",
       "       ..\n",
       "211     0\n",
       "212    20\n",
       "213    73\n",
       "214    25\n",
       "215     7\n",
       "Name: runs, Length: 215, dtype: int64"
      ]
     },
     "execution_count": 143,
     "metadata": {},
     "output_type": "execute_result"
    }
   ],
   "source": [
    "# isin\n",
    "vk"
   ]
  },
  {
   "cell_type": "code",
   "execution_count": 144,
   "id": "cd4e12aa",
   "metadata": {},
   "outputs": [
    {
     "data": {
      "text/plain": [
       "match_no\n",
       "82    99\n",
       "86    49\n",
       "Name: runs, dtype: int64"
      ]
     },
     "execution_count": 144,
     "metadata": {},
     "output_type": "execute_result"
    }
   ],
   "source": [
    "vk[(vk==49) | (vk==99)]"
   ]
  },
  {
   "cell_type": "code",
   "execution_count": 145,
   "id": "375f7395",
   "metadata": {},
   "outputs": [
    {
     "data": {
      "text/plain": [
       "match_no\n",
       "82    99\n",
       "86    49\n",
       "Name: runs, dtype: int64"
      ]
     },
     "execution_count": 145,
     "metadata": {},
     "output_type": "execute_result"
    }
   ],
   "source": [
    "vk[vk.isin([49,99])]"
   ]
  },
  {
   "cell_type": "code",
   "execution_count": null,
   "id": "02522dd5",
   "metadata": {},
   "outputs": [],
   "source": []
  },
  {
   "cell_type": "code",
   "execution_count": 146,
   "id": "f40dd083",
   "metadata": {},
   "outputs": [
    {
     "data": {
      "text/plain": [
       "movie\n",
       "Uri: The Surgical Strike                   Vicky Kaushal\n",
       "Battalion 609                                Vicky Ahuja\n",
       "The Accidental Prime Minister (film)         Anupam Kher\n",
       "Why Cheat India                            Emraan Hashmi\n",
       "Evening Shadows                         Mona Ambegaonkar\n",
       "                                              ...       \n",
       "Hum Tumhare Hain Sanam                    Shah Rukh Khan\n",
       "Aankhen (2002 film)                     Amitabh Bachchan\n",
       "Saathiya (film)                             Vivek Oberoi\n",
       "Company (film)                                Ajay Devgn\n",
       "Awara Paagal Deewana                        Akshay Kumar\n",
       "Name: lead, Length: 1500, dtype: object"
      ]
     },
     "execution_count": 146,
     "metadata": {},
     "output_type": "execute_result"
    }
   ],
   "source": [
    "# apply\n",
    "movies"
   ]
  },
  {
   "cell_type": "code",
   "execution_count": 147,
   "id": "93a549b8",
   "metadata": {},
   "outputs": [
    {
     "data": {
      "text/plain": [
       "movie\n",
       "Uri: The Surgical Strike                   [Vicky, Kaushal]\n",
       "Battalion 609                                [Vicky, Ahuja]\n",
       "The Accidental Prime Minister (film)         [Anupam, Kher]\n",
       "Why Cheat India                            [Emraan, Hashmi]\n",
       "Evening Shadows                         [Mona, Ambegaonkar]\n",
       "                                               ...         \n",
       "Hum Tumhare Hain Sanam                   [Shah, Rukh, Khan]\n",
       "Aankhen (2002 film)                     [Amitabh, Bachchan]\n",
       "Saathiya (film)                             [Vivek, Oberoi]\n",
       "Company (film)                                [Ajay, Devgn]\n",
       "Awara Paagal Deewana                        [Akshay, Kumar]\n",
       "Name: lead, Length: 1500, dtype: object"
      ]
     },
     "execution_count": 147,
     "metadata": {},
     "output_type": "execute_result"
    }
   ],
   "source": [
    "movies.apply(lambda x:x.split())"
   ]
  },
  {
   "cell_type": "code",
   "execution_count": 148,
   "id": "66aae820",
   "metadata": {},
   "outputs": [
    {
     "data": {
      "text/plain": [
       "movie\n",
       "Uri: The Surgical Strike                  VICKY\n",
       "Battalion 609                             VICKY\n",
       "The Accidental Prime Minister (film)     ANUPAM\n",
       "Why Cheat India                          EMRAAN\n",
       "Evening Shadows                            MONA\n",
       "                                         ...   \n",
       "Hum Tumhare Hain Sanam                     SHAH\n",
       "Aankhen (2002 film)                     AMITABH\n",
       "Saathiya (film)                           VIVEK\n",
       "Company (film)                             AJAY\n",
       "Awara Paagal Deewana                     AKSHAY\n",
       "Name: lead, Length: 1500, dtype: object"
      ]
     },
     "execution_count": 148,
     "metadata": {},
     "output_type": "execute_result"
    }
   ],
   "source": [
    "movies.apply(lambda x:x.split()[0].upper())"
   ]
  },
  {
   "cell_type": "code",
   "execution_count": 149,
   "id": "9b3646ac",
   "metadata": {},
   "outputs": [
    {
     "data": {
      "text/plain": [
       "0       48\n",
       "1       57\n",
       "2       40\n",
       "3       43\n",
       "4       44\n",
       "      ... \n",
       "360    231\n",
       "361    226\n",
       "362    155\n",
       "363    144\n",
       "364    172\n",
       "Name: Subscribers gained, Length: 365, dtype: int64"
      ]
     },
     "execution_count": 149,
     "metadata": {},
     "output_type": "execute_result"
    }
   ],
   "source": [
    "subs"
   ]
  },
  {
   "cell_type": "code",
   "execution_count": 150,
   "id": "459209be",
   "metadata": {},
   "outputs": [
    {
     "data": {
      "text/plain": [
       "np.float64(135.64383561643837)"
      ]
     },
     "execution_count": 150,
     "metadata": {},
     "output_type": "execute_result"
    }
   ],
   "source": [
    "subs.mean()"
   ]
  },
  {
   "cell_type": "code",
   "execution_count": 151,
   "id": "25ea1a83",
   "metadata": {},
   "outputs": [
    {
     "data": {
      "text/plain": [
       "0       bad day\n",
       "1       bad day\n",
       "2       bad day\n",
       "3       bad day\n",
       "4       bad day\n",
       "         ...   \n",
       "360    good day\n",
       "361    good day\n",
       "362    good day\n",
       "363    good day\n",
       "364    good day\n",
       "Name: Subscribers gained, Length: 365, dtype: object"
      ]
     },
     "execution_count": 151,
     "metadata": {},
     "output_type": "execute_result"
    }
   ],
   "source": [
    "subs.apply(lambda x: 'good day' if x > subs.mean() else 'bad day')"
   ]
  },
  {
   "cell_type": "code",
   "execution_count": null,
   "id": "bfb2df85",
   "metadata": {},
   "outputs": [],
   "source": []
  },
  {
   "cell_type": "code",
   "execution_count": 152,
   "id": "59d09e2b",
   "metadata": {},
   "outputs": [],
   "source": [
    "# copy and view"
   ]
  },
  {
   "cell_type": "code",
   "execution_count": 153,
   "id": "718b2dcc",
   "metadata": {},
   "outputs": [
    {
     "data": {
      "text/plain": [
       "match_no\n",
       "1       1\n",
       "2      23\n",
       "3      13\n",
       "4      12\n",
       "5       1\n",
       "       ..\n",
       "211     0\n",
       "212    20\n",
       "213    73\n",
       "214    25\n",
       "215     7\n",
       "Name: runs, Length: 215, dtype: int64"
      ]
     },
     "execution_count": 153,
     "metadata": {},
     "output_type": "execute_result"
    }
   ],
   "source": [
    "vk"
   ]
  },
  {
   "cell_type": "code",
   "execution_count": 154,
   "id": "65e37f75",
   "metadata": {},
   "outputs": [],
   "source": [
    "new = vk.head() # this will give us view"
   ]
  },
  {
   "cell_type": "code",
   "execution_count": 155,
   "id": "17ad46c6",
   "metadata": {},
   "outputs": [
    {
     "data": {
      "text/plain": [
       "match_no\n",
       "1     1\n",
       "2    23\n",
       "3    13\n",
       "4    12\n",
       "5     1\n",
       "Name: runs, dtype: int64"
      ]
     },
     "execution_count": 155,
     "metadata": {},
     "output_type": "execute_result"
    }
   ],
   "source": [
    "new"
   ]
  },
  {
   "cell_type": "code",
   "execution_count": 156,
   "id": "07df995b",
   "metadata": {},
   "outputs": [],
   "source": [
    "new[1]=1 # it will change original one as well"
   ]
  },
  {
   "cell_type": "code",
   "execution_count": 157,
   "id": "fb947f71",
   "metadata": {},
   "outputs": [
    {
     "data": {
      "text/plain": [
       "match_no\n",
       "1     1\n",
       "2    23\n",
       "3    13\n",
       "4    12\n",
       "5     1\n",
       "Name: runs, dtype: int64"
      ]
     },
     "execution_count": 157,
     "metadata": {},
     "output_type": "execute_result"
    }
   ],
   "source": [
    "new"
   ]
  },
  {
   "cell_type": "code",
   "execution_count": 158,
   "id": "d89ef2ae",
   "metadata": {},
   "outputs": [
    {
     "data": {
      "text/plain": [
       "match_no\n",
       "1       1\n",
       "2      23\n",
       "3      13\n",
       "4      12\n",
       "5       1\n",
       "       ..\n",
       "211     0\n",
       "212    20\n",
       "213    73\n",
       "214    25\n",
       "215     7\n",
       "Name: runs, Length: 215, dtype: int64"
      ]
     },
     "execution_count": 158,
     "metadata": {},
     "output_type": "execute_result"
    }
   ],
   "source": [
    "vk"
   ]
  },
  {
   "cell_type": "code",
   "execution_count": null,
   "id": "066d1064",
   "metadata": {},
   "outputs": [],
   "source": []
  },
  {
   "cell_type": "code",
   "execution_count": 159,
   "id": "3e4bcae3",
   "metadata": {},
   "outputs": [
    {
     "data": {
      "text/plain": [
       "match_no\n",
       "1     1\n",
       "2    23\n",
       "3    13\n",
       "4    12\n",
       "5     1\n",
       "Name: runs, dtype: int64"
      ]
     },
     "execution_count": 159,
     "metadata": {},
     "output_type": "execute_result"
    }
   ],
   "source": [
    "new = vk.head().copy() # this will give us copy\n",
    "new"
   ]
  },
  {
   "cell_type": "code",
   "execution_count": 160,
   "id": "8b41145f",
   "metadata": {},
   "outputs": [],
   "source": [
    "new[1]=100 # will not change original one...."
   ]
  },
  {
   "cell_type": "code",
   "execution_count": 161,
   "id": "770f1791",
   "metadata": {},
   "outputs": [
    {
     "data": {
      "text/plain": [
       "match_no\n",
       "1    100\n",
       "2     23\n",
       "3     13\n",
       "4     12\n",
       "5      1\n",
       "Name: runs, dtype: int64"
      ]
     },
     "execution_count": 161,
     "metadata": {},
     "output_type": "execute_result"
    }
   ],
   "source": [
    "new"
   ]
  },
  {
   "cell_type": "code",
   "execution_count": 162,
   "id": "93be8c12",
   "metadata": {},
   "outputs": [
    {
     "data": {
      "text/plain": [
       "match_no\n",
       "1       1\n",
       "2      23\n",
       "3      13\n",
       "4      12\n",
       "5       1\n",
       "       ..\n",
       "211     0\n",
       "212    20\n",
       "213    73\n",
       "214    25\n",
       "215     7\n",
       "Name: runs, Length: 215, dtype: int64"
      ]
     },
     "execution_count": 162,
     "metadata": {},
     "output_type": "execute_result"
    }
   ],
   "source": [
    "vk"
   ]
  },
  {
   "cell_type": "code",
   "execution_count": null,
   "id": "56250326",
   "metadata": {},
   "outputs": [],
   "source": []
  }
 ],
 "metadata": {
  "kernelspec": {
   "display_name": "Python 3",
   "language": "python",
   "name": "python3"
  },
  "language_info": {
   "codemirror_mode": {
    "name": "ipython",
    "version": 3
   },
   "file_extension": ".py",
   "mimetype": "text/x-python",
   "name": "python",
   "nbconvert_exporter": "python",
   "pygments_lexer": "ipython3",
   "version": "3.11.2"
  }
 },
 "nbformat": 4,
 "nbformat_minor": 5
}
